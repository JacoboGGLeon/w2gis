{
 "cells": [
  {
   "cell_type": "code",
   "execution_count": null,
   "metadata": {},
   "outputs": [],
   "source": []
  },
  {
   "cell_type": "code",
   "execution_count": 1,
   "metadata": {},
   "outputs": [],
   "source": [
    "import pandas as pd\n",
    "import numpy as np"
   ]
  },
  {
   "cell_type": "markdown",
   "metadata": {},
   "source": [
    "## Vivienda"
   ]
  },
  {
   "cell_type": "code",
   "execution_count": 9,
   "metadata": {},
   "outputs": [],
   "source": [
    "file = \"../../dataframes/enh/enh_clean_2016.csv\""
   ]
  },
  {
   "cell_type": "code",
   "execution_count": 10,
   "metadata": {},
   "outputs": [],
   "source": [
    "df = pd.read_csv(filepath_or_buffer=file)"
   ]
  },
  {
   "cell_type": "code",
   "execution_count": 11,
   "metadata": {},
   "outputs": [
    {
     "data": {
      "text/plain": [
       "(50643, 63)"
      ]
     },
     "execution_count": 11,
     "metadata": {},
     "output_type": "execute_result"
    }
   ],
   "source": [
    "df.shape"
   ]
  },
  {
   "cell_type": "code",
   "execution_count": 12,
   "metadata": {},
   "outputs": [
    {
     "data": {
      "text/plain": [
       "False"
      ]
     },
     "execution_count": 12,
     "metadata": {},
     "output_type": "execute_result"
    }
   ],
   "source": [
    "df.isnull().any().any()"
   ]
  },
  {
   "cell_type": "code",
   "execution_count": 13,
   "metadata": {},
   "outputs": [
    {
     "data": {
      "text/html": [
       "<div>\n",
       "<style scoped>\n",
       "    .dataframe tbody tr th:only-of-type {\n",
       "        vertical-align: middle;\n",
       "    }\n",
       "\n",
       "    .dataframe tbody tr th {\n",
       "        vertical-align: top;\n",
       "    }\n",
       "\n",
       "    .dataframe thead th {\n",
       "        text-align: right;\n",
       "    }\n",
       "</style>\n",
       "<table border=\"1\" class=\"dataframe\">\n",
       "  <thead>\n",
       "    <tr style=\"text-align: right;\">\n",
       "      <th></th>\n",
       "      <th>Unnamed: 0</th>\n",
       "      <th>tipo_viv</th>\n",
       "      <th>mat_pared</th>\n",
       "      <th>mat_techos</th>\n",
       "      <th>mat_pisos</th>\n",
       "      <th>ais_techos</th>\n",
       "      <th>ais_pared</th>\n",
       "      <th>ais_ventan</th>\n",
       "      <th>ais_otro</th>\n",
       "      <th>cocina_dor</th>\n",
       "      <th>...</th>\n",
       "      <th>internet</th>\n",
       "      <th>tv_paga</th>\n",
       "      <th>auto_pick</th>\n",
       "      <th>tot_resid</th>\n",
       "      <th>tot_hog</th>\n",
       "      <th>tam_loc</th>\n",
       "      <th>est_socio</th>\n",
       "      <th>ent</th>\n",
       "      <th>mun</th>\n",
       "      <th>loc</th>\n",
       "    </tr>\n",
       "  </thead>\n",
       "  <tbody>\n",
       "    <tr>\n",
       "      <th>0</th>\n",
       "      <td>0</td>\n",
       "      <td>1</td>\n",
       "      <td>8</td>\n",
       "      <td>9</td>\n",
       "      <td>3</td>\n",
       "      <td>2</td>\n",
       "      <td>2</td>\n",
       "      <td>2</td>\n",
       "      <td>2</td>\n",
       "      <td>2</td>\n",
       "      <td>...</td>\n",
       "      <td>1</td>\n",
       "      <td>1</td>\n",
       "      <td>1</td>\n",
       "      <td>4</td>\n",
       "      <td>1</td>\n",
       "      <td>1</td>\n",
       "      <td>3</td>\n",
       "      <td>1</td>\n",
       "      <td>1</td>\n",
       "      <td>1</td>\n",
       "    </tr>\n",
       "    <tr>\n",
       "      <th>1</th>\n",
       "      <td>1</td>\n",
       "      <td>1</td>\n",
       "      <td>8</td>\n",
       "      <td>9</td>\n",
       "      <td>3</td>\n",
       "      <td>2</td>\n",
       "      <td>2</td>\n",
       "      <td>2</td>\n",
       "      <td>2</td>\n",
       "      <td>2</td>\n",
       "      <td>...</td>\n",
       "      <td>1</td>\n",
       "      <td>1</td>\n",
       "      <td>2</td>\n",
       "      <td>2</td>\n",
       "      <td>1</td>\n",
       "      <td>1</td>\n",
       "      <td>3</td>\n",
       "      <td>1</td>\n",
       "      <td>1</td>\n",
       "      <td>1</td>\n",
       "    </tr>\n",
       "    <tr>\n",
       "      <th>2</th>\n",
       "      <td>2</td>\n",
       "      <td>1</td>\n",
       "      <td>8</td>\n",
       "      <td>9</td>\n",
       "      <td>3</td>\n",
       "      <td>2</td>\n",
       "      <td>2</td>\n",
       "      <td>2</td>\n",
       "      <td>9</td>\n",
       "      <td>2</td>\n",
       "      <td>...</td>\n",
       "      <td>1</td>\n",
       "      <td>1</td>\n",
       "      <td>1</td>\n",
       "      <td>2</td>\n",
       "      <td>1</td>\n",
       "      <td>1</td>\n",
       "      <td>3</td>\n",
       "      <td>1</td>\n",
       "      <td>1</td>\n",
       "      <td>1</td>\n",
       "    </tr>\n",
       "    <tr>\n",
       "      <th>3</th>\n",
       "      <td>3</td>\n",
       "      <td>1</td>\n",
       "      <td>8</td>\n",
       "      <td>9</td>\n",
       "      <td>3</td>\n",
       "      <td>2</td>\n",
       "      <td>2</td>\n",
       "      <td>2</td>\n",
       "      <td>2</td>\n",
       "      <td>2</td>\n",
       "      <td>...</td>\n",
       "      <td>1</td>\n",
       "      <td>1</td>\n",
       "      <td>1</td>\n",
       "      <td>4</td>\n",
       "      <td>1</td>\n",
       "      <td>1</td>\n",
       "      <td>3</td>\n",
       "      <td>1</td>\n",
       "      <td>1</td>\n",
       "      <td>1</td>\n",
       "    </tr>\n",
       "    <tr>\n",
       "      <th>4</th>\n",
       "      <td>4</td>\n",
       "      <td>1</td>\n",
       "      <td>8</td>\n",
       "      <td>9</td>\n",
       "      <td>2</td>\n",
       "      <td>2</td>\n",
       "      <td>2</td>\n",
       "      <td>2</td>\n",
       "      <td>2</td>\n",
       "      <td>2</td>\n",
       "      <td>...</td>\n",
       "      <td>2</td>\n",
       "      <td>1</td>\n",
       "      <td>1</td>\n",
       "      <td>4</td>\n",
       "      <td>1</td>\n",
       "      <td>1</td>\n",
       "      <td>3</td>\n",
       "      <td>1</td>\n",
       "      <td>1</td>\n",
       "      <td>1</td>\n",
       "    </tr>\n",
       "  </tbody>\n",
       "</table>\n",
       "<p>5 rows × 63 columns</p>\n",
       "</div>"
      ],
      "text/plain": [
       "   Unnamed: 0  tipo_viv  mat_pared  mat_techos  mat_pisos  ais_techos  \\\n",
       "0           0         1          8           9          3           2   \n",
       "1           1         1          8           9          3           2   \n",
       "2           2         1          8           9          3           2   \n",
       "3           3         1          8           9          3           2   \n",
       "4           4         1          8           9          2           2   \n",
       "\n",
       "   ais_pared  ais_ventan  ais_otro  cocina_dor ...   internet  tv_paga  \\\n",
       "0          2           2         2           2 ...          1        1   \n",
       "1          2           2         2           2 ...          1        1   \n",
       "2          2           2         9           2 ...          1        1   \n",
       "3          2           2         2           2 ...          1        1   \n",
       "4          2           2         2           2 ...          2        1   \n",
       "\n",
       "   auto_pick  tot_resid  tot_hog  tam_loc  est_socio  ent  mun  loc  \n",
       "0          1          4        1        1          3    1    1    1  \n",
       "1          2          2        1        1          3    1    1    1  \n",
       "2          1          2        1        1          3    1    1    1  \n",
       "3          1          4        1        1          3    1    1    1  \n",
       "4          1          4        1        1          3    1    1    1  \n",
       "\n",
       "[5 rows x 63 columns]"
      ]
     },
     "execution_count": 13,
     "metadata": {},
     "output_type": "execute_result"
    }
   ],
   "source": [
    "df.head()"
   ]
  },
  {
   "cell_type": "code",
   "execution_count": 14,
   "metadata": {},
   "outputs": [],
   "source": [
    "df_copy = df.copy()"
   ]
  },
  {
   "cell_type": "code",
   "execution_count": 15,
   "metadata": {},
   "outputs": [],
   "source": [
    "df_copy.drop(labels=['Unnamed: 0'], axis=1, inplace=True)"
   ]
  },
  {
   "cell_type": "code",
   "execution_count": 16,
   "metadata": {},
   "outputs": [
    {
     "data": {
      "text/plain": [
       "Index(['tipo_viv', 'mat_pared', 'mat_techos', 'mat_pisos', 'ais_techos',\n",
       "       'ais_pared', 'ais_ventan', 'ais_otro', 'cocina_dor', 'cuart_dorm',\n",
       "       'num_cuarto', 'disp_agua', 'dotac_agua', 'uso_compar', 'sanit_agua',\n",
       "       'bano_comp', 'bano_excus', 'bano_regad', 'drenaje', 'disp_elect',\n",
       "       'focos_inca', 'focos_ahor', 'combustible', 'eli_basura', 'lavadero',\n",
       "       'fregadero', 'regadera', 'rega_elect', 'tinaco_azo', 'cisterna',\n",
       "       'pileta', 'calent_sol', 'calent_gas', 'medidor_luz', 'bomba_agua',\n",
       "       'tanque_gas', 'aire_acond', 'calefacc', 'chimenea', 'repar_pard',\n",
       "       'repar_tech', 'repar_agua', 'repar_dren', 'repar_cabl', 'const_dorm',\n",
       "       'const_coci', 'const_bano', 'const_neg', 'tenencia', 'computador',\n",
       "       'tel_fijo', 'celular', 'internet', 'tv_paga', 'auto_pick', 'tot_resid',\n",
       "       'tot_hog', 'tam_loc', 'est_socio', 'ent', 'mun', 'loc'],\n",
       "      dtype='object')"
      ]
     },
     "execution_count": 16,
     "metadata": {},
     "output_type": "execute_result"
    }
   ],
   "source": [
    "df_copy.columns"
   ]
  },
  {
   "cell_type": "code",
   "execution_count": 17,
   "metadata": {},
   "outputs": [],
   "source": [
    "numericos = ['cuart_dorm', 'num_cuarto', 'bano_comp', 'bano_excus', 'bano_regad', 'focos_inca', \n",
    "             'focos_ahor', 'tot_resid', 'tot_hog' ,'tam_loc', 'est_socio']"
   ]
  },
  {
   "cell_type": "code",
   "execution_count": 18,
   "metadata": {},
   "outputs": [],
   "source": [
    "categoricos = ['tipo_viv', 'mat_pared', 'mat_techos', 'mat_pisos', 'ais_techos','ais_pared', \n",
    "               'ais_ventan', 'ais_otro', 'cocina_dor', 'disp_agua', 'dotac_agua', 'uso_compar', \n",
    "               'sanit_agua', 'drenaje', 'disp_elect', 'combustible', 'eli_basura', 'lavadero',\n",
    "               'fregadero', 'regadera', 'rega_elect', 'tinaco_azo', 'cisterna',\n",
    "       'pileta', 'calent_sol', 'calent_gas', 'medidor_luz', 'bomba_agua',\n",
    "       'tanque_gas', 'aire_acond', 'calefacc', 'chimenea', 'repar_pard',\n",
    "       'repar_tech', 'repar_agua', 'repar_dren', 'repar_cabl', 'const_dorm',\n",
    "       'const_coci', 'const_bano', 'const_neg', 'tenencia', 'computador',\n",
    "       'tel_fijo', 'celular', 'internet', 'tv_paga', 'auto_pick',\n",
    "              ]"
   ]
  },
  {
   "cell_type": "code",
   "execution_count": 19,
   "metadata": {},
   "outputs": [
    {
     "data": {
      "text/plain": [
       "(50643, 62)"
      ]
     },
     "execution_count": 19,
     "metadata": {},
     "output_type": "execute_result"
    }
   ],
   "source": [
    "df_copy.shape"
   ]
  },
  {
   "cell_type": "code",
   "execution_count": 21,
   "metadata": {},
   "outputs": [
    {
     "data": {
      "text/plain": [
       "62"
      ]
     },
     "execution_count": 21,
     "metadata": {},
     "output_type": "execute_result"
    }
   ],
   "source": [
    "len(numericos) + len (categoricos) + 3"
   ]
  },
  {
   "cell_type": "code",
   "execution_count": 24,
   "metadata": {},
   "outputs": [],
   "source": [
    "df_transform = pd.DataFrame()\n",
    "dicc_transform = {}"
   ]
  },
  {
   "cell_type": "code",
   "execution_count": 25,
   "metadata": {},
   "outputs": [
    {
     "name": "stdout",
     "output_type": "stream",
     "text": [
      "tipo_viv\n",
      "[1 2 3 4 5]\n",
      "[9.54998717e-01 3.71423494e-02 7.44426673e-03 3.35683115e-04\n",
      " 7.89842624e-05]\n",
      "mat_pared\n",
      "[8 7 1 3 6 2 4 5]\n",
      "[9.04290820e-01 6.05414371e-02 1.06628754e-03 3.45556148e-03\n",
      " 2.54329325e-02 5.52889837e-04 1.91536836e-03 2.74470312e-03]\n",
      "mat_techos\n",
      "[9 7 3 6 1 8 4 5 2]\n",
      "[7.90000592e-01 1.00704935e-02 1.09511680e-01 2.40507079e-02\n",
      " 4.14667378e-04 1.20253539e-02 4.52579823e-02 3.13962443e-03\n",
      " 5.52889837e-03]\n",
      "mat_pisos\n",
      "[3 2 1]\n",
      "[0.52510712 0.46158403 0.01330885]\n",
      "ais_techos\n",
      "[2 9 1]\n",
      "[0.94218352 0.00803665 0.04977983]\n",
      "ais_pared\n",
      "[2 9 1]\n",
      "[0.98116225 0.00708884 0.01174891]\n",
      "ais_ventan\n",
      "[2 9 1]\n",
      "[0.9864542 0.0057856 0.0077602]\n",
      "ais_otro\n",
      "[2 9 1]\n",
      "[0.992457   0.00564737 0.00189562]\n",
      "cocina_dor\n",
      "[2 1]\n",
      "[0.93276465 0.06723535]\n",
      "disp_agua\n",
      "[1 2]\n",
      "[0.80747586 0.19252414]\n",
      "dotac_agua\n",
      "[1 2 4 3 5]\n",
      "[0.74612483 0.14691073 0.0343779  0.04602808 0.02655846]\n",
      "uso_compar\n",
      "[2 1]\n",
      "[0.96042888 0.03957112]\n",
      "sanit_agua\n",
      "[1 2 3]\n",
      "[0.76290899 0.20087673 0.03621428]\n",
      "drenaje\n",
      "[1 2 5 4 3]\n",
      "[0.77908102 0.18563276 0.02732855 0.00209308 0.00586458]\n",
      "disp_elect\n",
      "[1 2 3 4]\n",
      "[9.98222854e-01 6.51620165e-04 1.00704935e-03 1.18476394e-04]\n",
      "combustible\n",
      "[3 4 5 6 1 2]\n",
      "[0.82086369 0.05858658 0.01244002 0.00286318 0.10283751 0.00240902]\n",
      "eli_basura\n",
      "[2 1 3 4 6 5]\n",
      "[0.06678119 0.83393559 0.08238059 0.00205359 0.00390972 0.01093932]\n",
      "lavadero\n",
      "[1 2]\n",
      "[0.85204273 0.14795727]\n",
      "fregadero\n",
      "[1 2]\n",
      "[0.6689967 0.3310033]\n",
      "regadera\n",
      "[1 2]\n",
      "[0.78569595 0.21430405]\n",
      "rega_elect\n",
      "[2 1]\n",
      "[0.96323283 0.03676717]\n",
      "tinaco_azo\n",
      "[1 2]\n",
      "[0.60709279 0.39290721]\n",
      "cisterna\n",
      "[1 2]\n",
      "[0.20970322 0.79029678]\n",
      "pileta\n",
      "[2 1]\n",
      "[0.58888691 0.41111309]\n",
      "calent_sol\n",
      "[2 1]\n",
      "[0.94822582 0.05177418]\n",
      "calent_gas\n",
      "[1 2]\n",
      "[0.45953044 0.54046956]\n",
      "medidor_luz\n",
      "[1 2]\n",
      "[0.95669688 0.04330312]\n",
      "bomba_agua\n",
      "[1 2]\n",
      "[0.24181032 0.75818968]\n",
      "tanque_gas\n",
      "[1 2]\n",
      "[0.10911676 0.89088324]\n",
      "aire_acond\n",
      "[2 1]\n",
      "[0.78609087 0.21390913]\n",
      "calefacc\n",
      "[2 1]\n",
      "[0.97458681 0.02541319]\n",
      "chimenea\n",
      "[2 1]\n",
      "[0.96745848 0.03254152]\n",
      "repar_pard\n",
      "[2 1]\n",
      "[0.54975021 0.45024979]\n",
      "repar_tech\n",
      "[2 1]\n",
      "[0.54680805 0.45319195]\n",
      "repar_agua\n",
      "[2 1]\n",
      "[0.81841518 0.18158482]\n",
      "repar_dren\n",
      "[2 1]\n",
      "[0.87190727 0.12809273]\n",
      "repar_cabl\n",
      "[2 1]\n",
      "[0.80011058 0.19988942]\n",
      "const_dorm\n",
      "[2 1]\n",
      "[0.58760342 0.41239658]\n",
      "const_coci\n",
      "[2 1]\n",
      "[0.74375531 0.25624469]\n",
      "const_bano\n",
      "[2 1]\n",
      "[0.67235353 0.32764647]\n",
      "const_neg\n",
      "[2 1]\n",
      "[0.76806271 0.23193729]\n",
      "tenencia\n",
      "[1 2 4 3 5 6]\n",
      "[0.14953695 0.14991213 0.5352566  0.12830993 0.02484055 0.01214383]\n",
      "computador\n",
      "[2 1]\n",
      "[0.59107873 0.40892127]\n",
      "tel_fijo\n",
      "[2 1]\n",
      "[0.50784906 0.49215094]\n",
      "celular\n",
      "[2 1]\n",
      "[0.60914638 0.39085362]\n",
      "internet\n",
      "[1 2]\n",
      "[0.56619868 0.43380132]\n",
      "tv_paga\n",
      "[1 2]\n",
      "[0.89512865 0.10487135]\n",
      "auto_pick\n",
      "[1 2]\n",
      "[0.48079695 0.51920305]\n"
     ]
    }
   ],
   "source": [
    "for element in categoricos:\n",
    "    column = element\n",
    "    \n",
    "    print(element)\n",
    "\n",
    "    grouped = pd.DataFrame(df_copy[column].dropna().value_counts())\n",
    "    grouped.head()\n",
    "\n",
    "    grouped.reset_index(inplace=True)\n",
    "    grouped.columns\n",
    "\n",
    "    grouped.rename(columns={0: 'Key'}, inplace=True)\n",
    "    grouped.columns\n",
    "\n",
    "    grouped\n",
    "\n",
    "    list_ = []\n",
    "    for row in grouped[column]:\n",
    "    #    print(\"%.2f\" % (row/df_copy.shape[0]))\n",
    "        list_.append(row/df_copy.shape[0])\n",
    "    list_\n",
    "\n",
    "    grouped[column] = list_\n",
    "    grouped\n",
    "\n",
    "    dict_ = grouped.to_dict(orient='split')\n",
    "    dict_.keys()\n",
    "\n",
    "    dict_.pop('index')\n",
    "    dict_.pop('columns')\n",
    "    dict_\n",
    "\n",
    "    dict__ = {}\n",
    "\n",
    "    for line in dict_['data']:\n",
    "        #print(line[1], ' : ', line[0])\n",
    "        dict__[line[0]] = line[1]\n",
    "\n",
    "    dict__\n",
    "        \n",
    "    df_transform[column] = df_copy[column].replace(dict__)\n",
    "    print(df_copy[column].unique())\n",
    "    print(df_transform[column].unique())"
   ]
  },
  {
   "cell_type": "code",
   "execution_count": 29,
   "metadata": {},
   "outputs": [],
   "source": [
    "df_transform['ent'] = df_copy.ent"
   ]
  },
  {
   "cell_type": "code",
   "execution_count": 30,
   "metadata": {},
   "outputs": [],
   "source": [
    "df_transform['mun'] = df_copy.mun"
   ]
  },
  {
   "cell_type": "code",
   "execution_count": 31,
   "metadata": {},
   "outputs": [],
   "source": [
    "df_transform['loc'] = df_copy['loc']"
   ]
  },
  {
   "cell_type": "code",
   "execution_count": 35,
   "metadata": {},
   "outputs": [
    {
     "data": {
      "text/html": [
       "<div>\n",
       "<style scoped>\n",
       "    .dataframe tbody tr th:only-of-type {\n",
       "        vertical-align: middle;\n",
       "    }\n",
       "\n",
       "    .dataframe tbody tr th {\n",
       "        vertical-align: top;\n",
       "    }\n",
       "\n",
       "    .dataframe thead th {\n",
       "        text-align: right;\n",
       "    }\n",
       "</style>\n",
       "<table border=\"1\" class=\"dataframe\">\n",
       "  <thead>\n",
       "    <tr style=\"text-align: right;\">\n",
       "      <th></th>\n",
       "      <th>tipo_viv</th>\n",
       "      <th>mat_pared</th>\n",
       "      <th>mat_techos</th>\n",
       "      <th>mat_pisos</th>\n",
       "      <th>ais_techos</th>\n",
       "      <th>ais_pared</th>\n",
       "      <th>ais_ventan</th>\n",
       "      <th>ais_otro</th>\n",
       "      <th>cocina_dor</th>\n",
       "      <th>disp_agua</th>\n",
       "      <th>...</th>\n",
       "      <th>tenencia</th>\n",
       "      <th>computador</th>\n",
       "      <th>tel_fijo</th>\n",
       "      <th>celular</th>\n",
       "      <th>internet</th>\n",
       "      <th>tv_paga</th>\n",
       "      <th>auto_pick</th>\n",
       "      <th>ent</th>\n",
       "      <th>mun</th>\n",
       "      <th>loc</th>\n",
       "    </tr>\n",
       "  </thead>\n",
       "  <tbody>\n",
       "    <tr>\n",
       "      <th>0</th>\n",
       "      <td>0.954999</td>\n",
       "      <td>0.904291</td>\n",
       "      <td>0.790001</td>\n",
       "      <td>0.525107</td>\n",
       "      <td>0.942184</td>\n",
       "      <td>0.981162</td>\n",
       "      <td>0.986454</td>\n",
       "      <td>0.992457</td>\n",
       "      <td>0.932765</td>\n",
       "      <td>0.807476</td>\n",
       "      <td>...</td>\n",
       "      <td>0.149537</td>\n",
       "      <td>0.591079</td>\n",
       "      <td>0.507849</td>\n",
       "      <td>0.609146</td>\n",
       "      <td>0.566199</td>\n",
       "      <td>0.895129</td>\n",
       "      <td>0.480797</td>\n",
       "      <td>1</td>\n",
       "      <td>1</td>\n",
       "      <td>1</td>\n",
       "    </tr>\n",
       "    <tr>\n",
       "      <th>1</th>\n",
       "      <td>0.954999</td>\n",
       "      <td>0.904291</td>\n",
       "      <td>0.790001</td>\n",
       "      <td>0.525107</td>\n",
       "      <td>0.942184</td>\n",
       "      <td>0.981162</td>\n",
       "      <td>0.986454</td>\n",
       "      <td>0.992457</td>\n",
       "      <td>0.932765</td>\n",
       "      <td>0.807476</td>\n",
       "      <td>...</td>\n",
       "      <td>0.149912</td>\n",
       "      <td>0.591079</td>\n",
       "      <td>0.492151</td>\n",
       "      <td>0.390854</td>\n",
       "      <td>0.566199</td>\n",
       "      <td>0.895129</td>\n",
       "      <td>0.519203</td>\n",
       "      <td>1</td>\n",
       "      <td>1</td>\n",
       "      <td>1</td>\n",
       "    </tr>\n",
       "    <tr>\n",
       "      <th>2</th>\n",
       "      <td>0.954999</td>\n",
       "      <td>0.904291</td>\n",
       "      <td>0.790001</td>\n",
       "      <td>0.525107</td>\n",
       "      <td>0.942184</td>\n",
       "      <td>0.981162</td>\n",
       "      <td>0.986454</td>\n",
       "      <td>0.005647</td>\n",
       "      <td>0.932765</td>\n",
       "      <td>0.807476</td>\n",
       "      <td>...</td>\n",
       "      <td>0.535257</td>\n",
       "      <td>0.408921</td>\n",
       "      <td>0.492151</td>\n",
       "      <td>0.390854</td>\n",
       "      <td>0.566199</td>\n",
       "      <td>0.895129</td>\n",
       "      <td>0.480797</td>\n",
       "      <td>1</td>\n",
       "      <td>1</td>\n",
       "      <td>1</td>\n",
       "    </tr>\n",
       "    <tr>\n",
       "      <th>3</th>\n",
       "      <td>0.954999</td>\n",
       "      <td>0.904291</td>\n",
       "      <td>0.790001</td>\n",
       "      <td>0.525107</td>\n",
       "      <td>0.942184</td>\n",
       "      <td>0.981162</td>\n",
       "      <td>0.986454</td>\n",
       "      <td>0.992457</td>\n",
       "      <td>0.932765</td>\n",
       "      <td>0.807476</td>\n",
       "      <td>...</td>\n",
       "      <td>0.535257</td>\n",
       "      <td>0.408921</td>\n",
       "      <td>0.507849</td>\n",
       "      <td>0.390854</td>\n",
       "      <td>0.566199</td>\n",
       "      <td>0.895129</td>\n",
       "      <td>0.480797</td>\n",
       "      <td>1</td>\n",
       "      <td>1</td>\n",
       "      <td>1</td>\n",
       "    </tr>\n",
       "    <tr>\n",
       "      <th>4</th>\n",
       "      <td>0.954999</td>\n",
       "      <td>0.904291</td>\n",
       "      <td>0.790001</td>\n",
       "      <td>0.461584</td>\n",
       "      <td>0.942184</td>\n",
       "      <td>0.981162</td>\n",
       "      <td>0.986454</td>\n",
       "      <td>0.992457</td>\n",
       "      <td>0.932765</td>\n",
       "      <td>0.807476</td>\n",
       "      <td>...</td>\n",
       "      <td>0.535257</td>\n",
       "      <td>0.408921</td>\n",
       "      <td>0.507849</td>\n",
       "      <td>0.390854</td>\n",
       "      <td>0.433801</td>\n",
       "      <td>0.895129</td>\n",
       "      <td>0.480797</td>\n",
       "      <td>1</td>\n",
       "      <td>1</td>\n",
       "      <td>1</td>\n",
       "    </tr>\n",
       "  </tbody>\n",
       "</table>\n",
       "<p>5 rows × 51 columns</p>\n",
       "</div>"
      ],
      "text/plain": [
       "   tipo_viv  mat_pared  mat_techos  mat_pisos  ais_techos  ais_pared  \\\n",
       "0  0.954999   0.904291    0.790001   0.525107    0.942184   0.981162   \n",
       "1  0.954999   0.904291    0.790001   0.525107    0.942184   0.981162   \n",
       "2  0.954999   0.904291    0.790001   0.525107    0.942184   0.981162   \n",
       "3  0.954999   0.904291    0.790001   0.525107    0.942184   0.981162   \n",
       "4  0.954999   0.904291    0.790001   0.461584    0.942184   0.981162   \n",
       "\n",
       "   ais_ventan  ais_otro  cocina_dor  disp_agua ...   tenencia  computador  \\\n",
       "0    0.986454  0.992457    0.932765   0.807476 ...   0.149537    0.591079   \n",
       "1    0.986454  0.992457    0.932765   0.807476 ...   0.149912    0.591079   \n",
       "2    0.986454  0.005647    0.932765   0.807476 ...   0.535257    0.408921   \n",
       "3    0.986454  0.992457    0.932765   0.807476 ...   0.535257    0.408921   \n",
       "4    0.986454  0.992457    0.932765   0.807476 ...   0.535257    0.408921   \n",
       "\n",
       "   tel_fijo   celular  internet   tv_paga  auto_pick  ent  mun  loc  \n",
       "0  0.507849  0.609146  0.566199  0.895129   0.480797    1    1    1  \n",
       "1  0.492151  0.390854  0.566199  0.895129   0.519203    1    1    1  \n",
       "2  0.492151  0.390854  0.566199  0.895129   0.480797    1    1    1  \n",
       "3  0.507849  0.390854  0.566199  0.895129   0.480797    1    1    1  \n",
       "4  0.507849  0.390854  0.433801  0.895129   0.480797    1    1    1  \n",
       "\n",
       "[5 rows x 51 columns]"
      ]
     },
     "execution_count": 35,
     "metadata": {},
     "output_type": "execute_result"
    }
   ],
   "source": [
    "df_transform.head()"
   ]
  },
  {
   "cell_type": "code",
   "execution_count": 32,
   "metadata": {},
   "outputs": [
    {
     "data": {
      "text/plain": [
       "Index(['tipo_viv', 'mat_pared', 'mat_techos', 'mat_pisos', 'ais_techos',\n",
       "       'ais_pared', 'ais_ventan', 'ais_otro', 'cocina_dor', 'disp_agua',\n",
       "       'dotac_agua', 'uso_compar', 'sanit_agua', 'drenaje', 'disp_elect',\n",
       "       'combustible', 'eli_basura', 'lavadero', 'fregadero', 'regadera',\n",
       "       'rega_elect', 'tinaco_azo', 'cisterna', 'pileta', 'calent_sol',\n",
       "       'calent_gas', 'medidor_luz', 'bomba_agua', 'tanque_gas', 'aire_acond',\n",
       "       'calefacc', 'chimenea', 'repar_pard', 'repar_tech', 'repar_agua',\n",
       "       'repar_dren', 'repar_cabl', 'const_dorm', 'const_coci', 'const_bano',\n",
       "       'const_neg', 'tenencia', 'computador', 'tel_fijo', 'celular',\n",
       "       'internet', 'tv_paga', 'auto_pick', 'ent', 'mun', 'loc'],\n",
       "      dtype='object')"
      ]
     },
     "execution_count": 32,
     "metadata": {},
     "output_type": "execute_result"
    }
   ],
   "source": [
    "df_transform.columns"
   ]
  },
  {
   "cell_type": "code",
   "execution_count": 36,
   "metadata": {},
   "outputs": [
    {
     "data": {
      "text/plain": [
       "(50643, 51)"
      ]
     },
     "execution_count": 36,
     "metadata": {},
     "output_type": "execute_result"
    }
   ],
   "source": [
    "df_transform.shape"
   ]
  },
  {
   "cell_type": "code",
   "execution_count": 33,
   "metadata": {},
   "outputs": [],
   "source": [
    "file = \"../../dataframes/enh/enh_transf_2016.csv\""
   ]
  },
  {
   "cell_type": "code",
   "execution_count": 34,
   "metadata": {},
   "outputs": [],
   "source": [
    "df_transform.to_csv(path_or_buf=file)"
   ]
  },
  {
   "cell_type": "code",
   "execution_count": null,
   "metadata": {},
   "outputs": [],
   "source": []
  }
 ],
 "metadata": {
  "kernelspec": {
   "display_name": "Python 3",
   "language": "python",
   "name": "python3"
  },
  "language_info": {
   "codemirror_mode": {
    "name": "ipython",
    "version": 3
   },
   "file_extension": ".py",
   "mimetype": "text/x-python",
   "name": "python",
   "nbconvert_exporter": "python",
   "pygments_lexer": "ipython3",
   "version": "3.7.0"
  }
 },
 "nbformat": 4,
 "nbformat_minor": 2
}
