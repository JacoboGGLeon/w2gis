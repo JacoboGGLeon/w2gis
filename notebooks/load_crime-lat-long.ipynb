{
 "cells": [
  {
   "cell_type": "markdown",
   "metadata": {},
   "source": [
    "[DATOS OFICIALES](!https://hoyodecrimen.com/)"
   ]
  },
  {
   "cell_type": "code",
   "execution_count": 1,
   "metadata": {},
   "outputs": [],
   "source": [
    "import pandas as pd"
   ]
  },
  {
   "cell_type": "code",
   "execution_count": 2,
   "metadata": {},
   "outputs": [],
   "source": [
    "file = \"../../w2gis/data/clean-data/crime-lat-long.csv\""
   ]
  },
  {
   "cell_type": "code",
   "execution_count": 3,
   "metadata": {},
   "outputs": [],
   "source": [
    "df = pd.read_csv(file)"
   ]
  },
  {
   "cell_type": "code",
   "execution_count": 4,
   "metadata": {},
   "outputs": [
    {
     "data": {
      "text/html": [
       "<div>\n",
       "<style scoped>\n",
       "    .dataframe tbody tr th:only-of-type {\n",
       "        vertical-align: middle;\n",
       "    }\n",
       "\n",
       "    .dataframe tbody tr th {\n",
       "        vertical-align: top;\n",
       "    }\n",
       "\n",
       "    .dataframe thead th {\n",
       "        text-align: right;\n",
       "    }\n",
       "</style>\n",
       "<table border=\"1\" class=\"dataframe\">\n",
       "  <thead>\n",
       "    <tr style=\"text-align: right;\">\n",
       "      <th></th>\n",
       "      <th>cuadrante</th>\n",
       "      <th>crime</th>\n",
       "      <th>date</th>\n",
       "      <th>hour</th>\n",
       "      <th>year</th>\n",
       "      <th>month</th>\n",
       "      <th>lat</th>\n",
       "      <th>long</th>\n",
       "    </tr>\n",
       "  </thead>\n",
       "  <tbody>\n",
       "    <tr>\n",
       "      <th>0</th>\n",
       "      <td>N-1.1.18</td>\n",
       "      <td>VIOLACION</td>\n",
       "      <td>2013-01-01</td>\n",
       "      <td>10:07</td>\n",
       "      <td>2013</td>\n",
       "      <td>1</td>\n",
       "      <td>19.544080</td>\n",
       "      <td>-99.124721</td>\n",
       "    </tr>\n",
       "    <tr>\n",
       "      <th>1</th>\n",
       "      <td>O-3.1.3</td>\n",
       "      <td>ROBO A NEGOCIO C.V.</td>\n",
       "      <td>2013-01-01</td>\n",
       "      <td>18:36</td>\n",
       "      <td>2013</td>\n",
       "      <td>1</td>\n",
       "      <td>19.188359</td>\n",
       "      <td>-99.074483</td>\n",
       "    </tr>\n",
       "    <tr>\n",
       "      <th>2</th>\n",
       "      <td>P-1.2.7</td>\n",
       "      <td>ROBO DE VEHICULO AUTOMOTOR S.V.</td>\n",
       "      <td>2013-01-01</td>\n",
       "      <td>01:31</td>\n",
       "      <td>2013</td>\n",
       "      <td>1</td>\n",
       "      <td>19.380817</td>\n",
       "      <td>-99.199885</td>\n",
       "    </tr>\n",
       "    <tr>\n",
       "      <th>3</th>\n",
       "      <td>P-1.2.9</td>\n",
       "      <td>ROBO A TRANSEUNTE C.V.</td>\n",
       "      <td>2013-01-01</td>\n",
       "      <td>14:54</td>\n",
       "      <td>2013</td>\n",
       "      <td>1</td>\n",
       "      <td>19.369505</td>\n",
       "      <td>-99.199835</td>\n",
       "    </tr>\n",
       "    <tr>\n",
       "      <th>4</th>\n",
       "      <td>P-1.2.2</td>\n",
       "      <td>ROBO DE VEHICULO AUTOMOTOR S.V.</td>\n",
       "      <td>2013-01-01</td>\n",
       "      <td>18:31</td>\n",
       "      <td>2013</td>\n",
       "      <td>1</td>\n",
       "      <td>19.393359</td>\n",
       "      <td>-99.199451</td>\n",
       "    </tr>\n",
       "  </tbody>\n",
       "</table>\n",
       "</div>"
      ],
      "text/plain": [
       "  cuadrante                            crime        date   hour  year  month  \\\n",
       "0  N-1.1.18                        VIOLACION  2013-01-01  10:07  2013      1   \n",
       "1   O-3.1.3              ROBO A NEGOCIO C.V.  2013-01-01  18:36  2013      1   \n",
       "2   P-1.2.7  ROBO DE VEHICULO AUTOMOTOR S.V.  2013-01-01  01:31  2013      1   \n",
       "3   P-1.2.9           ROBO A TRANSEUNTE C.V.  2013-01-01  14:54  2013      1   \n",
       "4   P-1.2.2  ROBO DE VEHICULO AUTOMOTOR S.V.  2013-01-01  18:31  2013      1   \n",
       "\n",
       "         lat       long  \n",
       "0  19.544080 -99.124721  \n",
       "1  19.188359 -99.074483  \n",
       "2  19.380817 -99.199885  \n",
       "3  19.369505 -99.199835  \n",
       "4  19.393359 -99.199451  "
      ]
     },
     "execution_count": 4,
     "metadata": {},
     "output_type": "execute_result"
    }
   ],
   "source": [
    "df.head()"
   ]
  },
  {
   "cell_type": "code",
   "execution_count": 5,
   "metadata": {},
   "outputs": [
    {
     "data": {
      "text/plain": [
       "(132692, 8)"
      ]
     },
     "execution_count": 5,
     "metadata": {},
     "output_type": "execute_result"
    }
   ],
   "source": [
    "df.shape"
   ]
  },
  {
   "cell_type": "code",
   "execution_count": 6,
   "metadata": {},
   "outputs": [],
   "source": [
    "df_copy = df.copy()"
   ]
  },
  {
   "cell_type": "markdown",
   "metadata": {},
   "source": [
    "## Slicing the date"
   ]
  },
  {
   "cell_type": "code",
   "execution_count": 7,
   "metadata": {},
   "outputs": [
    {
     "data": {
      "text/plain": [
       "'2013-01-01'"
      ]
     },
     "execution_count": 7,
     "metadata": {},
     "output_type": "execute_result"
    }
   ],
   "source": [
    "df_copy.date[1]"
   ]
  },
  {
   "cell_type": "code",
   "execution_count": 8,
   "metadata": {},
   "outputs": [
    {
     "data": {
      "text/plain": [
       "'2013'"
      ]
     },
     "execution_count": 8,
     "metadata": {},
     "output_type": "execute_result"
    }
   ],
   "source": [
    "df_copy.date[1][:4]"
   ]
  },
  {
   "cell_type": "code",
   "execution_count": 9,
   "metadata": {},
   "outputs": [
    {
     "data": {
      "text/plain": [
       "'01'"
      ]
     },
     "execution_count": 9,
     "metadata": {},
     "output_type": "execute_result"
    }
   ],
   "source": [
    "df_copy.date[1][5:7]"
   ]
  },
  {
   "cell_type": "code",
   "execution_count": 10,
   "metadata": {},
   "outputs": [
    {
     "data": {
      "text/plain": [
       "'01'"
      ]
     },
     "execution_count": 10,
     "metadata": {},
     "output_type": "execute_result"
    }
   ],
   "source": [
    "df_copy.date[1][8:]"
   ]
  },
  {
   "cell_type": "code",
   "execution_count": 11,
   "metadata": {},
   "outputs": [],
   "source": [
    "list_year = []\n",
    "list_month = []\n",
    "list_day = []"
   ]
  },
  {
   "cell_type": "code",
   "execution_count": 12,
   "metadata": {},
   "outputs": [],
   "source": [
    "for line in range(0, df_copy.shape[0]):\n",
    "    list_year.append(df_copy.date[line][:4])\n",
    "    list_month.append(df_copy.date[line][5:7])\n",
    "    list_day.append(df_copy.date[line][8:])"
   ]
  },
  {
   "cell_type": "code",
   "execution_count": 13,
   "metadata": {},
   "outputs": [],
   "source": [
    "df_copy[\"year\"] = list_year"
   ]
  },
  {
   "cell_type": "code",
   "execution_count": 14,
   "metadata": {},
   "outputs": [],
   "source": [
    "df_copy[\"month\"] = list_month"
   ]
  },
  {
   "cell_type": "code",
   "execution_count": 15,
   "metadata": {},
   "outputs": [],
   "source": [
    "df_copy[\"day\"] = list_day"
   ]
  },
  {
   "cell_type": "code",
   "execution_count": 16,
   "metadata": {},
   "outputs": [
    {
     "data": {
      "text/html": [
       "<div>\n",
       "<style scoped>\n",
       "    .dataframe tbody tr th:only-of-type {\n",
       "        vertical-align: middle;\n",
       "    }\n",
       "\n",
       "    .dataframe tbody tr th {\n",
       "        vertical-align: top;\n",
       "    }\n",
       "\n",
       "    .dataframe thead th {\n",
       "        text-align: right;\n",
       "    }\n",
       "</style>\n",
       "<table border=\"1\" class=\"dataframe\">\n",
       "  <thead>\n",
       "    <tr style=\"text-align: right;\">\n",
       "      <th></th>\n",
       "      <th>cuadrante</th>\n",
       "      <th>crime</th>\n",
       "      <th>date</th>\n",
       "      <th>hour</th>\n",
       "      <th>year</th>\n",
       "      <th>month</th>\n",
       "      <th>lat</th>\n",
       "      <th>long</th>\n",
       "      <th>day</th>\n",
       "    </tr>\n",
       "  </thead>\n",
       "  <tbody>\n",
       "    <tr>\n",
       "      <th>0</th>\n",
       "      <td>N-1.1.18</td>\n",
       "      <td>VIOLACION</td>\n",
       "      <td>2013-01-01</td>\n",
       "      <td>10:07</td>\n",
       "      <td>2013</td>\n",
       "      <td>01</td>\n",
       "      <td>19.544080</td>\n",
       "      <td>-99.124721</td>\n",
       "      <td>01</td>\n",
       "    </tr>\n",
       "    <tr>\n",
       "      <th>1</th>\n",
       "      <td>O-3.1.3</td>\n",
       "      <td>ROBO A NEGOCIO C.V.</td>\n",
       "      <td>2013-01-01</td>\n",
       "      <td>18:36</td>\n",
       "      <td>2013</td>\n",
       "      <td>01</td>\n",
       "      <td>19.188359</td>\n",
       "      <td>-99.074483</td>\n",
       "      <td>01</td>\n",
       "    </tr>\n",
       "    <tr>\n",
       "      <th>2</th>\n",
       "      <td>P-1.2.7</td>\n",
       "      <td>ROBO DE VEHICULO AUTOMOTOR S.V.</td>\n",
       "      <td>2013-01-01</td>\n",
       "      <td>01:31</td>\n",
       "      <td>2013</td>\n",
       "      <td>01</td>\n",
       "      <td>19.380817</td>\n",
       "      <td>-99.199885</td>\n",
       "      <td>01</td>\n",
       "    </tr>\n",
       "    <tr>\n",
       "      <th>3</th>\n",
       "      <td>P-1.2.9</td>\n",
       "      <td>ROBO A TRANSEUNTE C.V.</td>\n",
       "      <td>2013-01-01</td>\n",
       "      <td>14:54</td>\n",
       "      <td>2013</td>\n",
       "      <td>01</td>\n",
       "      <td>19.369505</td>\n",
       "      <td>-99.199835</td>\n",
       "      <td>01</td>\n",
       "    </tr>\n",
       "    <tr>\n",
       "      <th>4</th>\n",
       "      <td>P-1.2.2</td>\n",
       "      <td>ROBO DE VEHICULO AUTOMOTOR S.V.</td>\n",
       "      <td>2013-01-01</td>\n",
       "      <td>18:31</td>\n",
       "      <td>2013</td>\n",
       "      <td>01</td>\n",
       "      <td>19.393359</td>\n",
       "      <td>-99.199451</td>\n",
       "      <td>01</td>\n",
       "    </tr>\n",
       "  </tbody>\n",
       "</table>\n",
       "</div>"
      ],
      "text/plain": [
       "  cuadrante                            crime        date   hour  year month  \\\n",
       "0  N-1.1.18                        VIOLACION  2013-01-01  10:07  2013    01   \n",
       "1   O-3.1.3              ROBO A NEGOCIO C.V.  2013-01-01  18:36  2013    01   \n",
       "2   P-1.2.7  ROBO DE VEHICULO AUTOMOTOR S.V.  2013-01-01  01:31  2013    01   \n",
       "3   P-1.2.9           ROBO A TRANSEUNTE C.V.  2013-01-01  14:54  2013    01   \n",
       "4   P-1.2.2  ROBO DE VEHICULO AUTOMOTOR S.V.  2013-01-01  18:31  2013    01   \n",
       "\n",
       "         lat       long day  \n",
       "0  19.544080 -99.124721  01  \n",
       "1  19.188359 -99.074483  01  \n",
       "2  19.380817 -99.199885  01  \n",
       "3  19.369505 -99.199835  01  \n",
       "4  19.393359 -99.199451  01  "
      ]
     },
     "execution_count": 16,
     "metadata": {},
     "output_type": "execute_result"
    }
   ],
   "source": [
    "df_copy.head()"
   ]
  },
  {
   "cell_type": "markdown",
   "metadata": {},
   "source": [
    "## Check NA"
   ]
  },
  {
   "cell_type": "code",
   "execution_count": 17,
   "metadata": {},
   "outputs": [
    {
     "data": {
      "text/plain": [
       "True"
      ]
     },
     "execution_count": 17,
     "metadata": {},
     "output_type": "execute_result"
    }
   ],
   "source": [
    "df_copy.isnull().any().any()"
   ]
  },
  {
   "cell_type": "code",
   "execution_count": 18,
   "metadata": {},
   "outputs": [
    {
     "data": {
      "text/plain": [
       "['lat', 'long']"
      ]
     },
     "execution_count": 18,
     "metadata": {},
     "output_type": "execute_result"
    }
   ],
   "source": [
    "df_copy.columns[df_copy.isnull().any()].tolist()"
   ]
  },
  {
   "cell_type": "code",
   "execution_count": 19,
   "metadata": {},
   "outputs": [
    {
     "data": {
      "text/plain": [
       "1551"
      ]
     },
     "execution_count": 19,
     "metadata": {},
     "output_type": "execute_result"
    }
   ],
   "source": [
    "len(pd.isnull(df_copy).any(1).nonzero()[0].tolist())"
   ]
  },
  {
   "cell_type": "code",
   "execution_count": 20,
   "metadata": {},
   "outputs": [],
   "source": [
    "missing = pd.isnull(df_copy).any(1).nonzero()[0].tolist()"
   ]
  },
  {
   "cell_type": "code",
   "execution_count": 21,
   "metadata": {},
   "outputs": [],
   "source": [
    "df_copy.drop(index=missing, axis=0, inplace=True)"
   ]
  },
  {
   "cell_type": "code",
   "execution_count": 22,
   "metadata": {},
   "outputs": [
    {
     "data": {
      "text/plain": [
       "(131141, 9)"
      ]
     },
     "execution_count": 22,
     "metadata": {},
     "output_type": "execute_result"
    }
   ],
   "source": [
    "df_copy.shape"
   ]
  },
  {
   "cell_type": "code",
   "execution_count": 23,
   "metadata": {},
   "outputs": [
    {
     "data": {
      "text/plain": [
       "False"
      ]
     },
     "execution_count": 23,
     "metadata": {},
     "output_type": "execute_result"
    }
   ],
   "source": [
    "df_copy.isnull().any().any()"
   ]
  },
  {
   "cell_type": "code",
   "execution_count": 24,
   "metadata": {},
   "outputs": [
    {
     "data": {
      "text/html": [
       "<div>\n",
       "<style scoped>\n",
       "    .dataframe tbody tr th:only-of-type {\n",
       "        vertical-align: middle;\n",
       "    }\n",
       "\n",
       "    .dataframe tbody tr th {\n",
       "        vertical-align: top;\n",
       "    }\n",
       "\n",
       "    .dataframe thead th {\n",
       "        text-align: right;\n",
       "    }\n",
       "</style>\n",
       "<table border=\"1\" class=\"dataframe\">\n",
       "  <thead>\n",
       "    <tr style=\"text-align: right;\">\n",
       "      <th></th>\n",
       "      <th>cuadrante</th>\n",
       "      <th>crime</th>\n",
       "      <th>date</th>\n",
       "      <th>hour</th>\n",
       "      <th>year</th>\n",
       "      <th>month</th>\n",
       "      <th>lat</th>\n",
       "      <th>long</th>\n",
       "      <th>day</th>\n",
       "    </tr>\n",
       "  </thead>\n",
       "  <tbody>\n",
       "    <tr>\n",
       "      <th>0</th>\n",
       "      <td>N-1.1.18</td>\n",
       "      <td>VIOLACION</td>\n",
       "      <td>2013-01-01</td>\n",
       "      <td>10:07</td>\n",
       "      <td>2013</td>\n",
       "      <td>01</td>\n",
       "      <td>19.544080</td>\n",
       "      <td>-99.124721</td>\n",
       "      <td>01</td>\n",
       "    </tr>\n",
       "    <tr>\n",
       "      <th>1</th>\n",
       "      <td>O-3.1.3</td>\n",
       "      <td>ROBO A NEGOCIO C.V.</td>\n",
       "      <td>2013-01-01</td>\n",
       "      <td>18:36</td>\n",
       "      <td>2013</td>\n",
       "      <td>01</td>\n",
       "      <td>19.188359</td>\n",
       "      <td>-99.074483</td>\n",
       "      <td>01</td>\n",
       "    </tr>\n",
       "    <tr>\n",
       "      <th>2</th>\n",
       "      <td>P-1.2.7</td>\n",
       "      <td>ROBO DE VEHICULO AUTOMOTOR S.V.</td>\n",
       "      <td>2013-01-01</td>\n",
       "      <td>01:31</td>\n",
       "      <td>2013</td>\n",
       "      <td>01</td>\n",
       "      <td>19.380817</td>\n",
       "      <td>-99.199885</td>\n",
       "      <td>01</td>\n",
       "    </tr>\n",
       "    <tr>\n",
       "      <th>3</th>\n",
       "      <td>P-1.2.9</td>\n",
       "      <td>ROBO A TRANSEUNTE C.V.</td>\n",
       "      <td>2013-01-01</td>\n",
       "      <td>14:54</td>\n",
       "      <td>2013</td>\n",
       "      <td>01</td>\n",
       "      <td>19.369505</td>\n",
       "      <td>-99.199835</td>\n",
       "      <td>01</td>\n",
       "    </tr>\n",
       "    <tr>\n",
       "      <th>4</th>\n",
       "      <td>P-1.2.2</td>\n",
       "      <td>ROBO DE VEHICULO AUTOMOTOR S.V.</td>\n",
       "      <td>2013-01-01</td>\n",
       "      <td>18:31</td>\n",
       "      <td>2013</td>\n",
       "      <td>01</td>\n",
       "      <td>19.393359</td>\n",
       "      <td>-99.199451</td>\n",
       "      <td>01</td>\n",
       "    </tr>\n",
       "  </tbody>\n",
       "</table>\n",
       "</div>"
      ],
      "text/plain": [
       "  cuadrante                            crime        date   hour  year month  \\\n",
       "0  N-1.1.18                        VIOLACION  2013-01-01  10:07  2013    01   \n",
       "1   O-3.1.3              ROBO A NEGOCIO C.V.  2013-01-01  18:36  2013    01   \n",
       "2   P-1.2.7  ROBO DE VEHICULO AUTOMOTOR S.V.  2013-01-01  01:31  2013    01   \n",
       "3   P-1.2.9           ROBO A TRANSEUNTE C.V.  2013-01-01  14:54  2013    01   \n",
       "4   P-1.2.2  ROBO DE VEHICULO AUTOMOTOR S.V.  2013-01-01  18:31  2013    01   \n",
       "\n",
       "         lat       long day  \n",
       "0  19.544080 -99.124721  01  \n",
       "1  19.188359 -99.074483  01  \n",
       "2  19.380817 -99.199885  01  \n",
       "3  19.369505 -99.199835  01  \n",
       "4  19.393359 -99.199451  01  "
      ]
     },
     "execution_count": 24,
     "metadata": {},
     "output_type": "execute_result"
    }
   ],
   "source": [
    "df_copy.head()"
   ]
  },
  {
   "cell_type": "markdown",
   "metadata": {},
   "source": [
    "## 2016"
   ]
  },
  {
   "cell_type": "code",
   "execution_count": 25,
   "metadata": {},
   "outputs": [
    {
     "data": {
      "text/plain": [
       "array(['2013', '2014', '2015', '2016'], dtype=object)"
      ]
     },
     "execution_count": 25,
     "metadata": {},
     "output_type": "execute_result"
    }
   ],
   "source": [
    "df_copy.year.unique()"
   ]
  },
  {
   "cell_type": "code",
   "execution_count": 26,
   "metadata": {},
   "outputs": [],
   "source": [
    "df_copy.drop(index=[122672, 122674], inplace=True)"
   ]
  },
  {
   "cell_type": "code",
   "execution_count": 27,
   "metadata": {},
   "outputs": [
    {
     "data": {
      "text/plain": [
       "2013    41954\n",
       "2014    36137\n",
       "2015    32416\n",
       "2016    20632\n",
       "Name: year, dtype: int64"
      ]
     },
     "execution_count": 27,
     "metadata": {},
     "output_type": "execute_result"
    }
   ],
   "source": [
    "df_copy.year.value_counts()"
   ]
  },
  {
   "cell_type": "code",
   "execution_count": 28,
   "metadata": {},
   "outputs": [
    {
     "data": {
      "text/html": [
       "<div>\n",
       "<style scoped>\n",
       "    .dataframe tbody tr th:only-of-type {\n",
       "        vertical-align: middle;\n",
       "    }\n",
       "\n",
       "    .dataframe tbody tr th {\n",
       "        vertical-align: top;\n",
       "    }\n",
       "\n",
       "    .dataframe thead th {\n",
       "        text-align: right;\n",
       "    }\n",
       "</style>\n",
       "<table border=\"1\" class=\"dataframe\">\n",
       "  <thead>\n",
       "    <tr style=\"text-align: right;\">\n",
       "      <th></th>\n",
       "      <th>cuadrante</th>\n",
       "      <th>crime</th>\n",
       "      <th>date</th>\n",
       "      <th>hour</th>\n",
       "      <th>year</th>\n",
       "      <th>month</th>\n",
       "      <th>lat</th>\n",
       "      <th>long</th>\n",
       "      <th>day</th>\n",
       "    </tr>\n",
       "  </thead>\n",
       "  <tbody>\n",
       "    <tr>\n",
       "      <th>111928</th>\n",
       "      <td>N-4.3.9</td>\n",
       "      <td>ROBO A CASA HABITACION C.V.</td>\n",
       "      <td>2016-01-01</td>\n",
       "      <td>17:42</td>\n",
       "      <td>2016</td>\n",
       "      <td>01</td>\n",
       "      <td>19.409966</td>\n",
       "      <td>-99.122464</td>\n",
       "      <td>01</td>\n",
       "    </tr>\n",
       "    <tr>\n",
       "      <th>111929</th>\n",
       "      <td>P-1.5.1</td>\n",
       "      <td>HOMICIDIO DOLOSO</td>\n",
       "      <td>2016-01-01</td>\n",
       "      <td>20:41</td>\n",
       "      <td>2016</td>\n",
       "      <td>01</td>\n",
       "      <td>19.363970</td>\n",
       "      <td>-99.265386</td>\n",
       "      <td>01</td>\n",
       "    </tr>\n",
       "    <tr>\n",
       "      <th>111930</th>\n",
       "      <td>P-1.5.3</td>\n",
       "      <td>ROBO DE VEHICULO AUTOMOTOR S.V.</td>\n",
       "      <td>2016-01-01</td>\n",
       "      <td>22:52</td>\n",
       "      <td>2016</td>\n",
       "      <td>01</td>\n",
       "      <td>19.373880</td>\n",
       "      <td>-99.234280</td>\n",
       "      <td>01</td>\n",
       "    </tr>\n",
       "    <tr>\n",
       "      <th>111931</th>\n",
       "      <td>P-2.1.12</td>\n",
       "      <td>ROBO A NEGOCIO C.V.</td>\n",
       "      <td>2016-01-01</td>\n",
       "      <td>20:56</td>\n",
       "      <td>2016</td>\n",
       "      <td>01</td>\n",
       "      <td>19.483868</td>\n",
       "      <td>-99.213544</td>\n",
       "      <td>01</td>\n",
       "    </tr>\n",
       "    <tr>\n",
       "      <th>111932</th>\n",
       "      <td>S-1.4.5</td>\n",
       "      <td>HOMICIDIO DOLOSO</td>\n",
       "      <td>2016-01-01</td>\n",
       "      <td>02:13</td>\n",
       "      <td>2016</td>\n",
       "      <td>01</td>\n",
       "      <td>19.380738</td>\n",
       "      <td>-99.139236</td>\n",
       "      <td>01</td>\n",
       "    </tr>\n",
       "  </tbody>\n",
       "</table>\n",
       "</div>"
      ],
      "text/plain": [
       "       cuadrante                            crime        date   hour  year  \\\n",
       "111928   N-4.3.9      ROBO A CASA HABITACION C.V.  2016-01-01  17:42  2016   \n",
       "111929   P-1.5.1                 HOMICIDIO DOLOSO  2016-01-01  20:41  2016   \n",
       "111930   P-1.5.3  ROBO DE VEHICULO AUTOMOTOR S.V.  2016-01-01  22:52  2016   \n",
       "111931  P-2.1.12              ROBO A NEGOCIO C.V.  2016-01-01  20:56  2016   \n",
       "111932   S-1.4.5                 HOMICIDIO DOLOSO  2016-01-01  02:13  2016   \n",
       "\n",
       "       month        lat       long day  \n",
       "111928    01  19.409966 -99.122464  01  \n",
       "111929    01  19.363970 -99.265386  01  \n",
       "111930    01  19.373880 -99.234280  01  \n",
       "111931    01  19.483868 -99.213544  01  \n",
       "111932    01  19.380738 -99.139236  01  "
      ]
     },
     "execution_count": 28,
     "metadata": {},
     "output_type": "execute_result"
    }
   ],
   "source": [
    "df_copy[(df_copy.year == '2016')].head()"
   ]
  },
  {
   "cell_type": "code",
   "execution_count": 29,
   "metadata": {},
   "outputs": [],
   "source": [
    "df_copy = df_copy[(df_copy.year == '2016')]"
   ]
  },
  {
   "cell_type": "code",
   "execution_count": 30,
   "metadata": {},
   "outputs": [
    {
     "data": {
      "text/plain": [
       "(20632, 9)"
      ]
     },
     "execution_count": 30,
     "metadata": {},
     "output_type": "execute_result"
    }
   ],
   "source": [
    "df_copy.shape"
   ]
  },
  {
   "cell_type": "markdown",
   "metadata": {},
   "source": [
    "## Crime"
   ]
  },
  {
   "cell_type": "code",
   "execution_count": 31,
   "metadata": {},
   "outputs": [
    {
     "data": {
      "text/plain": [
       "ROBO DE VEHICULO AUTOMOTOR S.V.    5678\n",
       "ROBO A TRANSEUNTE C.V.             4692\n",
       "ROBO DE VEHICULO AUTOMOTOR C.V.    2551\n",
       "ROBO A NEGOCIO C.V.                1883\n",
       "LESIONES POR ARMA DE FUEGO          980\n",
       "ROBO A REPARTIDOR C.V.              873\n",
       "HOMICIDIO DOLOSO                    863\n",
       "ROBO A TRANSEUNTE S.V.              541\n",
       "ROBO A BORDO DE MICROBUS C.V.       480\n",
       "ROBO A BORDO DE METRO S.V.          396\n",
       "VIOLACION                           392\n",
       "ROBO A CASA HABITACION C.V.         370\n",
       "ROBO A CUENTAHABIENTE C.V.          268\n",
       "ROBO A REPARTIDOR S.V.              248\n",
       "ROBO A BORDO DE TAXI C.V.           149\n",
       "ROBO A BORDO DE METRO C.V.          123\n",
       "ROBO A TRANSPORTISTA C.V.           104\n",
       "ROBO A BORDO DE MICROBUS S.V.        32\n",
       "ROBO A TRANSPORTISTA S.V.             9\n",
       "Name: crime, dtype: int64"
      ]
     },
     "execution_count": 31,
     "metadata": {},
     "output_type": "execute_result"
    }
   ],
   "source": [
    "df_copy.crime.value_counts()"
   ]
  },
  {
   "cell_type": "code",
   "execution_count": 32,
   "metadata": {},
   "outputs": [
    {
     "data": {
      "text/html": [
       "<div>\n",
       "<style scoped>\n",
       "    .dataframe tbody tr th:only-of-type {\n",
       "        vertical-align: middle;\n",
       "    }\n",
       "\n",
       "    .dataframe tbody tr th {\n",
       "        vertical-align: top;\n",
       "    }\n",
       "\n",
       "    .dataframe thead th {\n",
       "        text-align: right;\n",
       "    }\n",
       "</style>\n",
       "<table border=\"1\" class=\"dataframe\">\n",
       "  <thead>\n",
       "    <tr style=\"text-align: right;\">\n",
       "      <th></th>\n",
       "      <th>cuadrante</th>\n",
       "      <th>date</th>\n",
       "      <th>hour</th>\n",
       "      <th>year</th>\n",
       "      <th>month</th>\n",
       "      <th>lat</th>\n",
       "      <th>long</th>\n",
       "      <th>day</th>\n",
       "    </tr>\n",
       "    <tr>\n",
       "      <th>crime</th>\n",
       "      <th></th>\n",
       "      <th></th>\n",
       "      <th></th>\n",
       "      <th></th>\n",
       "      <th></th>\n",
       "      <th></th>\n",
       "      <th></th>\n",
       "      <th></th>\n",
       "    </tr>\n",
       "  </thead>\n",
       "  <tbody>\n",
       "    <tr>\n",
       "      <th>HOMICIDIO DOLOSO</th>\n",
       "      <td>863</td>\n",
       "      <td>863</td>\n",
       "      <td>863</td>\n",
       "      <td>863</td>\n",
       "      <td>863</td>\n",
       "      <td>863</td>\n",
       "      <td>863</td>\n",
       "      <td>863</td>\n",
       "    </tr>\n",
       "    <tr>\n",
       "      <th>LESIONES POR ARMA DE FUEGO</th>\n",
       "      <td>980</td>\n",
       "      <td>980</td>\n",
       "      <td>980</td>\n",
       "      <td>980</td>\n",
       "      <td>980</td>\n",
       "      <td>980</td>\n",
       "      <td>980</td>\n",
       "      <td>980</td>\n",
       "    </tr>\n",
       "    <tr>\n",
       "      <th>ROBO A BORDO DE METRO C.V.</th>\n",
       "      <td>123</td>\n",
       "      <td>123</td>\n",
       "      <td>123</td>\n",
       "      <td>123</td>\n",
       "      <td>123</td>\n",
       "      <td>123</td>\n",
       "      <td>123</td>\n",
       "      <td>123</td>\n",
       "    </tr>\n",
       "    <tr>\n",
       "      <th>ROBO A BORDO DE METRO S.V.</th>\n",
       "      <td>396</td>\n",
       "      <td>396</td>\n",
       "      <td>396</td>\n",
       "      <td>396</td>\n",
       "      <td>396</td>\n",
       "      <td>396</td>\n",
       "      <td>396</td>\n",
       "      <td>396</td>\n",
       "    </tr>\n",
       "    <tr>\n",
       "      <th>ROBO A BORDO DE MICROBUS C.V.</th>\n",
       "      <td>480</td>\n",
       "      <td>480</td>\n",
       "      <td>480</td>\n",
       "      <td>480</td>\n",
       "      <td>480</td>\n",
       "      <td>480</td>\n",
       "      <td>480</td>\n",
       "      <td>480</td>\n",
       "    </tr>\n",
       "    <tr>\n",
       "      <th>ROBO A BORDO DE MICROBUS S.V.</th>\n",
       "      <td>32</td>\n",
       "      <td>32</td>\n",
       "      <td>32</td>\n",
       "      <td>32</td>\n",
       "      <td>32</td>\n",
       "      <td>32</td>\n",
       "      <td>32</td>\n",
       "      <td>32</td>\n",
       "    </tr>\n",
       "    <tr>\n",
       "      <th>ROBO A BORDO DE TAXI C.V.</th>\n",
       "      <td>149</td>\n",
       "      <td>149</td>\n",
       "      <td>149</td>\n",
       "      <td>149</td>\n",
       "      <td>149</td>\n",
       "      <td>149</td>\n",
       "      <td>149</td>\n",
       "      <td>149</td>\n",
       "    </tr>\n",
       "    <tr>\n",
       "      <th>ROBO A CASA HABITACION C.V.</th>\n",
       "      <td>370</td>\n",
       "      <td>370</td>\n",
       "      <td>370</td>\n",
       "      <td>370</td>\n",
       "      <td>370</td>\n",
       "      <td>370</td>\n",
       "      <td>370</td>\n",
       "      <td>370</td>\n",
       "    </tr>\n",
       "    <tr>\n",
       "      <th>ROBO A CUENTAHABIENTE C.V.</th>\n",
       "      <td>268</td>\n",
       "      <td>268</td>\n",
       "      <td>268</td>\n",
       "      <td>268</td>\n",
       "      <td>268</td>\n",
       "      <td>268</td>\n",
       "      <td>268</td>\n",
       "      <td>268</td>\n",
       "    </tr>\n",
       "    <tr>\n",
       "      <th>ROBO A NEGOCIO C.V.</th>\n",
       "      <td>1883</td>\n",
       "      <td>1883</td>\n",
       "      <td>1883</td>\n",
       "      <td>1883</td>\n",
       "      <td>1883</td>\n",
       "      <td>1883</td>\n",
       "      <td>1883</td>\n",
       "      <td>1883</td>\n",
       "    </tr>\n",
       "    <tr>\n",
       "      <th>ROBO A REPARTIDOR C.V.</th>\n",
       "      <td>873</td>\n",
       "      <td>873</td>\n",
       "      <td>873</td>\n",
       "      <td>873</td>\n",
       "      <td>873</td>\n",
       "      <td>873</td>\n",
       "      <td>873</td>\n",
       "      <td>873</td>\n",
       "    </tr>\n",
       "    <tr>\n",
       "      <th>ROBO A REPARTIDOR S.V.</th>\n",
       "      <td>248</td>\n",
       "      <td>248</td>\n",
       "      <td>248</td>\n",
       "      <td>248</td>\n",
       "      <td>248</td>\n",
       "      <td>248</td>\n",
       "      <td>248</td>\n",
       "      <td>248</td>\n",
       "    </tr>\n",
       "    <tr>\n",
       "      <th>ROBO A TRANSEUNTE C.V.</th>\n",
       "      <td>4692</td>\n",
       "      <td>4692</td>\n",
       "      <td>4692</td>\n",
       "      <td>4692</td>\n",
       "      <td>4692</td>\n",
       "      <td>4692</td>\n",
       "      <td>4692</td>\n",
       "      <td>4692</td>\n",
       "    </tr>\n",
       "    <tr>\n",
       "      <th>ROBO A TRANSEUNTE S.V.</th>\n",
       "      <td>541</td>\n",
       "      <td>541</td>\n",
       "      <td>541</td>\n",
       "      <td>541</td>\n",
       "      <td>541</td>\n",
       "      <td>541</td>\n",
       "      <td>541</td>\n",
       "      <td>541</td>\n",
       "    </tr>\n",
       "    <tr>\n",
       "      <th>ROBO A TRANSPORTISTA C.V.</th>\n",
       "      <td>104</td>\n",
       "      <td>104</td>\n",
       "      <td>104</td>\n",
       "      <td>104</td>\n",
       "      <td>104</td>\n",
       "      <td>104</td>\n",
       "      <td>104</td>\n",
       "      <td>104</td>\n",
       "    </tr>\n",
       "    <tr>\n",
       "      <th>ROBO A TRANSPORTISTA S.V.</th>\n",
       "      <td>9</td>\n",
       "      <td>9</td>\n",
       "      <td>9</td>\n",
       "      <td>9</td>\n",
       "      <td>9</td>\n",
       "      <td>9</td>\n",
       "      <td>9</td>\n",
       "      <td>9</td>\n",
       "    </tr>\n",
       "    <tr>\n",
       "      <th>ROBO DE VEHICULO AUTOMOTOR C.V.</th>\n",
       "      <td>2551</td>\n",
       "      <td>2551</td>\n",
       "      <td>2551</td>\n",
       "      <td>2551</td>\n",
       "      <td>2551</td>\n",
       "      <td>2551</td>\n",
       "      <td>2551</td>\n",
       "      <td>2551</td>\n",
       "    </tr>\n",
       "    <tr>\n",
       "      <th>ROBO DE VEHICULO AUTOMOTOR S.V.</th>\n",
       "      <td>5678</td>\n",
       "      <td>5678</td>\n",
       "      <td>5678</td>\n",
       "      <td>5678</td>\n",
       "      <td>5678</td>\n",
       "      <td>5678</td>\n",
       "      <td>5678</td>\n",
       "      <td>5678</td>\n",
       "    </tr>\n",
       "    <tr>\n",
       "      <th>VIOLACION</th>\n",
       "      <td>392</td>\n",
       "      <td>392</td>\n",
       "      <td>392</td>\n",
       "      <td>392</td>\n",
       "      <td>392</td>\n",
       "      <td>392</td>\n",
       "      <td>392</td>\n",
       "      <td>392</td>\n",
       "    </tr>\n",
       "  </tbody>\n",
       "</table>\n",
       "</div>"
      ],
      "text/plain": [
       "                                 cuadrante  date  hour  year  month   lat  \\\n",
       "crime                                                                       \n",
       "HOMICIDIO DOLOSO                       863   863   863   863    863   863   \n",
       "LESIONES POR ARMA DE FUEGO             980   980   980   980    980   980   \n",
       "ROBO A BORDO DE METRO C.V.             123   123   123   123    123   123   \n",
       "ROBO A BORDO DE METRO S.V.             396   396   396   396    396   396   \n",
       "ROBO A BORDO DE MICROBUS C.V.          480   480   480   480    480   480   \n",
       "ROBO A BORDO DE MICROBUS S.V.           32    32    32    32     32    32   \n",
       "ROBO A BORDO DE TAXI C.V.              149   149   149   149    149   149   \n",
       "ROBO A CASA HABITACION C.V.            370   370   370   370    370   370   \n",
       "ROBO A CUENTAHABIENTE C.V.             268   268   268   268    268   268   \n",
       "ROBO A NEGOCIO C.V.                   1883  1883  1883  1883   1883  1883   \n",
       "ROBO A REPARTIDOR C.V.                 873   873   873   873    873   873   \n",
       "ROBO A REPARTIDOR S.V.                 248   248   248   248    248   248   \n",
       "ROBO A TRANSEUNTE C.V.                4692  4692  4692  4692   4692  4692   \n",
       "ROBO A TRANSEUNTE S.V.                 541   541   541   541    541   541   \n",
       "ROBO A TRANSPORTISTA C.V.              104   104   104   104    104   104   \n",
       "ROBO A TRANSPORTISTA S.V.                9     9     9     9      9     9   \n",
       "ROBO DE VEHICULO AUTOMOTOR C.V.       2551  2551  2551  2551   2551  2551   \n",
       "ROBO DE VEHICULO AUTOMOTOR S.V.       5678  5678  5678  5678   5678  5678   \n",
       "VIOLACION                              392   392   392   392    392   392   \n",
       "\n",
       "                                 long   day  \n",
       "crime                                        \n",
       "HOMICIDIO DOLOSO                  863   863  \n",
       "LESIONES POR ARMA DE FUEGO        980   980  \n",
       "ROBO A BORDO DE METRO C.V.        123   123  \n",
       "ROBO A BORDO DE METRO S.V.        396   396  \n",
       "ROBO A BORDO DE MICROBUS C.V.     480   480  \n",
       "ROBO A BORDO DE MICROBUS S.V.      32    32  \n",
       "ROBO A BORDO DE TAXI C.V.         149   149  \n",
       "ROBO A CASA HABITACION C.V.       370   370  \n",
       "ROBO A CUENTAHABIENTE C.V.        268   268  \n",
       "ROBO A NEGOCIO C.V.              1883  1883  \n",
       "ROBO A REPARTIDOR C.V.            873   873  \n",
       "ROBO A REPARTIDOR S.V.            248   248  \n",
       "ROBO A TRANSEUNTE C.V.           4692  4692  \n",
       "ROBO A TRANSEUNTE S.V.            541   541  \n",
       "ROBO A TRANSPORTISTA C.V.         104   104  \n",
       "ROBO A TRANSPORTISTA S.V.           9     9  \n",
       "ROBO DE VEHICULO AUTOMOTOR C.V.  2551  2551  \n",
       "ROBO DE VEHICULO AUTOMOTOR S.V.  5678  5678  \n",
       "VIOLACION                         392   392  "
      ]
     },
     "execution_count": 32,
     "metadata": {},
     "output_type": "execute_result"
    }
   ],
   "source": [
    "df_copy.groupby([\"crime\"]).count()"
   ]
  },
  {
   "cell_type": "code",
   "execution_count": 33,
   "metadata": {},
   "outputs": [
    {
     "data": {
      "text/plain": [
       "array(['ROBO A CASA HABITACION C.V.', 'HOMICIDIO DOLOSO',\n",
       "       'ROBO DE VEHICULO AUTOMOTOR S.V.', 'ROBO A NEGOCIO C.V.',\n",
       "       'ROBO A TRANSEUNTE C.V.', 'ROBO A TRANSEUNTE S.V.',\n",
       "       'LESIONES POR ARMA DE FUEGO', 'ROBO A REPARTIDOR C.V.',\n",
       "       'ROBO A BORDO DE MICROBUS C.V.', 'ROBO A BORDO DE TAXI C.V.',\n",
       "       'ROBO DE VEHICULO AUTOMOTOR C.V.', 'VIOLACION',\n",
       "       'ROBO A CUENTAHABIENTE C.V.', 'ROBO A REPARTIDOR S.V.',\n",
       "       'ROBO A BORDO DE METRO C.V.', 'ROBO A TRANSPORTISTA C.V.',\n",
       "       'ROBO A BORDO DE METRO S.V.', 'ROBO A BORDO DE MICROBUS S.V.',\n",
       "       'ROBO A TRANSPORTISTA S.V.'], dtype=object)"
      ]
     },
     "execution_count": 33,
     "metadata": {},
     "output_type": "execute_result"
    }
   ],
   "source": [
    "df_copy.crime.unique()"
   ]
  },
  {
   "cell_type": "markdown",
   "metadata": {},
   "source": [
    "## Save df"
   ]
  },
  {
   "cell_type": "code",
   "execution_count": 34,
   "metadata": {},
   "outputs": [],
   "source": [
    "df_copy.to_csv(path_or_buf=\"../../w2gis/dataframes/crime-lat-long_clean_2016.csv\")"
   ]
  },
  {
   "cell_type": "code",
   "execution_count": null,
   "metadata": {},
   "outputs": [],
   "source": []
  }
 ],
 "metadata": {
  "kernelspec": {
   "display_name": "Python 3",
   "language": "python",
   "name": "python3"
  },
  "language_info": {
   "codemirror_mode": {
    "name": "ipython",
    "version": 3
   },
   "file_extension": ".py",
   "mimetype": "text/x-python",
   "name": "python",
   "nbconvert_exporter": "python",
   "pygments_lexer": "ipython3",
   "version": "3.7.0"
  }
 },
 "nbformat": 4,
 "nbformat_minor": 2
}
