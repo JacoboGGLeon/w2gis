{
 "cells": [
  {
   "cell_type": "code",
   "execution_count": null,
   "metadata": {},
   "outputs": [],
   "source": []
  },
  {
   "cell_type": "code",
   "execution_count": 1,
   "metadata": {},
   "outputs": [],
   "source": [
    "import pandas as pd\n",
    "import numpy as np"
   ]
  },
  {
   "cell_type": "markdown",
   "metadata": {},
   "source": [
    "## Vivienda"
   ]
  },
  {
   "cell_type": "code",
   "execution_count": 2,
   "metadata": {},
   "outputs": [],
   "source": [
    "file = \"../../dataframes/enoe/enoe_2016_clean.csv\""
   ]
  },
  {
   "cell_type": "code",
   "execution_count": 3,
   "metadata": {},
   "outputs": [],
   "source": [
    "df = pd.read_csv(file)"
   ]
  },
  {
   "cell_type": "code",
   "execution_count": 4,
   "metadata": {},
   "outputs": [
    {
     "data": {
      "text/plain": [
       "(313968, 95)"
      ]
     },
     "execution_count": 4,
     "metadata": {},
     "output_type": "execute_result"
    }
   ],
   "source": [
    "df.shape"
   ]
  },
  {
   "cell_type": "code",
   "execution_count": 5,
   "metadata": {},
   "outputs": [],
   "source": [
    "df_copy=df.copy()"
   ]
  },
  {
   "cell_type": "code",
   "execution_count": 18,
   "metadata": {},
   "outputs": [
    {
     "data": {
      "text/plain": [
       "Index(['Unnamed: 0', 'r_def', 'loc', 'mun', 'est', 'est_d', 'ageb', 't_loc',\n",
       "       'cd_a', 'ent', 'con', 'upm', 'd_sem', 'n_pro_viv', 'v_sel', 'n_hog',\n",
       "       'h_mud', 'n_ent', 'per', 'n_ren', 'c_res', 'par_c', 'sex', 'eda',\n",
       "       'nac_dia', 'nac_mes', 'nac_anio', 'l_nac_c', 'cs_p12', 'cs_p13_1',\n",
       "       'cs_p13_2', 'cs_p17', 'e_con', 'ur', 'zona', 'salario', 'fac', 'clase1',\n",
       "       'clase2', 'clase3', 'pos_ocu', 'seg_soc', 'rama', 'c_ocu11c', 'ing7c',\n",
       "       'dur9c', 'emple7c', 'medica5c', 'buscar5c', 'rama_est1', 'rama_est2',\n",
       "       'dur_est', 'ambito1', 'ambito2', 'tue1', 'tue2', 'tue3', 'busqueda',\n",
       "       'd_ant_lab', 'd_cexp_est', 'dur_des', 'sub_o', 's_clasifi', 'remune2c',\n",
       "       'pre_asa', 'tip_con', 'dispo', 'nodispo', 'c_inac5c', 'pnea_est',\n",
       "       'niv_ins', 'eda5c', 'eda7c', 'eda12c', 'eda19c', 'hij5c', 'domestico',\n",
       "       'anios_esc', 'hrsocup', 'ingocup', 'ing_x_hrs', 'tpg_p8a', 'tcco',\n",
       "       'cp_anoc', 'imssissste', 'ma48me1sm', 'p14apoyos', 'scian', 't_tra',\n",
       "       'emp_ppal', 'tue_ppal', 'trans_ppal', 'mh_fil2', 'mh_col', 'sec_ins'],\n",
       "      dtype='object')"
      ]
     },
     "execution_count": 18,
     "metadata": {},
     "output_type": "execute_result"
    }
   ],
   "source": [
    "df_copy.columns"
   ]
  },
  {
   "cell_type": "code",
   "execution_count": 19,
   "metadata": {},
   "outputs": [],
   "source": [
    "l = ['Unnamed: 0', 'r_def', 'est_d', 'ageb', 'cd_a', 'con', 'upm', 'd_sem', 'n_pro_viv', 'v_sel',\n",
    "    'n_hog', 'h_mud', 'n_ent', 'per', 'n_ren', 'c_res', 'par_c', 'ur', 'zona', 'salario', 'fac' ]"
   ]
  },
  {
   "cell_type": "code",
   "execution_count": 20,
   "metadata": {},
   "outputs": [],
   "source": [
    "df_copy.drop(labels=l, axis=1, inplace=True)"
   ]
  },
  {
   "cell_type": "code",
   "execution_count": 21,
   "metadata": {},
   "outputs": [
    {
     "name": "stdout",
     "output_type": "stream",
     "text": [
      "loc :  [   1   20   11   17   21   26  152   27    3    9   15   25   14   68\n",
      "   19   71    7    4    5   98   42   45   13   40   37   69   10  111\n",
      "   48   43  424  180   35   93  105  212  224  131  190    8   31    2\n",
      "  232  359   12  218  221  194  975  458  703  264   84   75  122   29\n",
      "  217   60  231   87   61  223  222  157  230  181 1025   23  245   86\n",
      "  114  108  132  155   58   49   79   44   38   72   32   59   83   51\n",
      "   24   70   34   53   62   55   47    6   50   82   41   88   63  112\n",
      "  127   65  160   16  622 1599  187 1053   28  125   30  102  142  101\n",
      "   92  107   18  286   78  109  133  147  119   96  126   99  134  139\n",
      "  141   95  128  124   54  146  106  123  135  113  120   90  121  116\n",
      "  136  140   94  822  284  381  185 1781 1624  753  785  843  151   46\n",
      "   77  138  312  311  214 2183 1883 1856  723 1107  268  280  247  304\n",
      "  952  199  169  288  110  165  777  831  833  853  175   73  443  186\n",
      "  388  211  439  746  341  403   66  176  291  170  271   74  239  293\n",
      "  427 1561  340  783   89  432  178   80  103  237   91   57  158   81\n",
      "   52  191  389   39  118  205  115  355   67  188  129  337  243  391\n",
      "  367 2043  597 1041 2035  617  475  278  345  144  548  145  219  256\n",
      " 2179 1098  992  258  195  482  423  361  248  356  429 1173  707 2139\n",
      " 2087 4470  246 1275  981 3912   56 1625  883 3540  252 2155 2655  201\n",
      " 3038 2204 2011 4727  238  253 1273  679 1284 2461 2462 3442 3557  150\n",
      "  684  939  738 1435  967 1374  823  444  156  161  171  559  130   64\n",
      "  382  104  342  179  164  396 1014  464  680  153   36 1115 1479 1492\n",
      "  569  672 1002 1603 2249 2234  366  461  718  685 3217   76  249  192\n",
      "  420  368  453  321  117   22  177  236 1017  365  363  362  497  394\n",
      " 1600  143  734  639  661  207  137  641  719  705  929 1683 1837 1518\n",
      " 1262  159  173  172   33  301  578  409 1871  204  273  196  285  208\n",
      "  441  480  445  442  210  640  634  317  346  348  174  251  325  383\n",
      " 1272  242  659  292  193 1379  294  865  228  435  450  638  333 1285\n",
      " 1399  652  281   97  184  234  507  697  270  148  302  416  297  276\n",
      "  290  667  500  866  514  168  407  360  209   85  198  203  213  265\n",
      "  295  392  384  100  644  462  538 1688 1598  308  241  322  717  338\n",
      "  784  553  674  868  167  378  149  400  765  884  621  374 1104 1033\n",
      "  766  767  494  431  379  426  320  255  306  535  259  154  162 1150\n",
      "  550  313  357  215  600  274  624  375 1039  673  227  587 1218  577\n",
      "  216 1441  759  951 1124 2127 1582  616 3221 1055 1047 1862  626 1046\n",
      " 1121  347  240  257  477  483  632  607 1217 1506  493  463  233  485\n",
      "  220  283  440  708  509  202  319 1008 1007 1230 1196  200  318  484\n",
      "  488  314]\n",
      "mun :  [  2   6   7  10  13  15   5   3  11  12  14  16  17   4   9   8  31  33\n",
      "  58  23  20  57 109 121  29  39  60  99 104  70  44  37 108  25  30  81\n",
      "  59  91 100  28  24  92 122 120  98 101  97  21  26  46  48  18  19  49\n",
      " 114 119 140  41 136  90  34 125  35  50  38 133 123 193   1  53  88 106\n",
      " 118  51  54  76  67  55  27 390 293 375 385 399 553 107 519 115 350  87\n",
      " 409  83 403 157 227 174  56  42  36  40  43  32  78  89  77 102 184 156\n",
      "  22 131  93  69 112  52  79  71 132  74  75  94  61  65  86  45  66  85\n",
      "  73  82 124 103 110  62  47  68 515 397 482 208 154 164 206 207 143 204\n",
      " 128 160  96  84  64  72 401 565 441 327 525 295 551 505 177 203 194 211\n",
      " 138 105 161 129 148 111 546 185 384 520 324 217 137 180 189 186 168 117\n",
      " 149 116  63 113 333 340 135 507 424 470 491 473 386 242 513 198 317 234\n",
      " 439 422 334 414 431 485 190 496 533 166 346 134 266 202 178 172 197 150\n",
      " 191 142 126  95 200 141 175 151 210 155 188]\n",
      "est :  [10 30 20 40]\n",
      "t_loc :  [1 2 3 4]\n",
      "ent :  [ 9 15 14 19 21 11 24 31  8 28 30 12  1 16  5 27  7  2 25 26 10 18  4 17\n",
      " 20 32  6 22 29  3 23 13]\n",
      "sex :  [2 1]\n",
      "eda :  [27. 45. 48. 24. 54. 49. 20. 18. 91. 50. 51. 21. 72. 17. 16. 29. 25. 63.\n",
      " 64. 73. 89. 68. 69. 36. 32. 52. 34. 33. 26. 23. 31. 14. 13. 12. 79. 57.\n",
      " 56. 43. 42. 38. 77. 59. 53. 35. 70. 67. 28. 37. 40. 62. 22. 61. 60. 15.\n",
      " 55. 44. 41. 65. 71. 47. 39. 46. 19. 74. 30. 87. 81. 75. 88. 84. 80. 83.\n",
      " 76. 66. 82. 90. 78. 85. 58. 94. 86. 93. 97. 92. 95. 98. 96.]\n",
      "nac_dia :  [25. 16. 24. 18. 23.  8. 26. 20.  7.  1. 13. 10. 14. 21. 15.  6. 22.  2.\n",
      "  4. 17. 19. 31. 99. 11.  3. 29.  5. 27. 28.  9. 12. 30.]\n",
      "nac_mes :  [ 8.  2.  9. 10.  6. 11.  3.  4. 12.  7.  1. 99.  5.]\n",
      "nac_anio :  [1987. 1969. 1966. 1990. 1960. 1965. 1994. 1996. 1923. 1964. 1963. 1993.\n",
      " 1942. 1997. 1998. 1985. 1989. 1952. 1950. 1941. 1925. 1946. 1945. 1979.\n",
      " 1982. 1962. 1980. 1981. 1988. 1991. 1983. 2001. 2002. 1936. 1957. 1958.\n",
      " 1971. 1972. 1976. 1937. 1955. 1951. 1961. 1959. 1944. 1947. 1978. 1986.\n",
      " 1977. 1974. 1992. 1953. 2000. 1954. 1999. 1970. 1973. 1949. 1943. 1967.\n",
      " 1975. 1968. 1995. 1940. 1984. 1927. 1933. 1939. 1930. 1934. 1931. 1938.\n",
      " 1948. 1932. 1924. 1935. 1929. 1956. 1920. 1921. 1913. 1928. 2003. 1922.\n",
      " 1919. 1926. 9999. 1918. 1916. 1917. 1915. 1911. 1914. 1912. 1910. 1909.\n",
      " 1905. 1907. 1908. 1901.]\n",
      "l_nac_c :  [  9.  20.  15.  13.  30.  21.  16.  17.   7.  31.  29.  12.  14.  28.\n",
      " 200.  32.  11.   5.  10.  22.   2.  24.   1.  25. 415.   8.   3. 221.\n",
      "   4.   6. 300.  19.  18. 400.  33.  27.  23.  26. 225. 100. 500.]\n",
      "cs_p12 :  [1 2 9]\n",
      "cs_p13_1 :  [ 7.  4.  2.  6.  0.  3.  8.  5.  9.  1. 99.]\n",
      "cs_p13_2 :  [4 2 6 3 1 0 5 9 7 8]\n",
      "cs_p17 :  [2 1 9]\n",
      "e_con :  [6 1 5 4 2 3 9]\n",
      "clase1 :  [1 2 0]\n",
      "clase2 :  [1 3 2 4 0]\n",
      "clase3 :  [1 0 6 3 4 7 2 5]\n",
      "pos_ocu :  [1 3 0 2 4]\n",
      "seg_soc :  [1 2 0 3]\n",
      "rama :  [3 2 4 0 1 6 5 7]\n",
      "c_ocu11c :  [ 1  5  8  0  6  3  2  4  7  9 11 10]\n",
      "ing7c :  [4 3 0 2 6 5 1 7]\n",
      "dur9c :  [6 3 4 0 1 5 8 7 2 9]\n",
      "emple7c :  [6 1 2 0 3 5 7 4]\n",
      "medica5c :  [3 1 0 2 4 5]\n",
      "buscar5c :  [4 0 2 3 1 5]\n",
      "rama_est1 :  [3 2 0 1 4]\n",
      "rama_est2 :  [ 5  3  6  0 10  9  8  7  4  1 11  2]\n",
      "dur_est :  [4 3 0 1 5 2 6]\n",
      "ambito1 :  [2 0 3 1]\n",
      "ambito2 :  [5 2 3 0 4 8 6 7]\n",
      "tue1 :  [1 3 0 2 4]\n",
      "tue2 :  [1 5 2 0 4 6 3 7]\n",
      "tue3 :  [0 1 2]\n",
      "busqueda :  [2 0 1]\n",
      "d_ant_lab :  [0 1 2]\n",
      "d_cexp_est :  [0 1 4 3 2]\n",
      "dur_des :  [0 2 1 5 3 4 6]\n",
      "sub_o :  [0 1]\n",
      "s_clasifi :  [0 2 5 3 4 6 1]\n",
      "remune2c :  [1 0 2]\n",
      "pre_asa :  [1 0 2 3]\n",
      "tip_con :  [3 0 5 4 6 2]\n",
      "dispo :  [0 4 7 6 1]\n",
      "nodispo :  [0 3 1 9 5 2 4 8]\n",
      "c_inac5c :  [0 1 5 2 3 4]\n",
      "pnea_est :  [0 2 6 4 3 1 5]\n",
      "niv_ins :  [4 3 2 1 5 0]\n",
      "eda5c :  [2 3 1 4 0 5]\n",
      "eda7c :  [2 4 5 1 6 3 0 7]\n",
      "eda12c :  [ 3  7  2  8  1 11 10  5  4  0  9  6 12]\n",
      "eda19c :  [ 8 12  7 13  6 18 17 15 16 10  9  5 14 11 19  0]\n",
      "hij5c :  [1 0 2 4 3 5]\n",
      "domestico :  [ 3  8  6  4  1  9  7  5  2 10  0]\n",
      "anios_esc :  [16 11  6 12 10  3 14  0  8  9 17 13  2  5 19 18 15  7  1 20 99  4 21 22\n",
      " 24 23]\n",
      "hrsocup :  [ 40  24  32   0  45  48  16  37  28  27  82  56  70  84  72  63  41  60\n",
      "  38  50   6  36  29   2  10  49  21  88  77  53  20  65  34  12   8  42\n",
      "  31  54  96  90  66  39  25  30   4  44  57  18  22  26  17  64  43  47\n",
      "  58  35  51  46   5  19  79  15   3  75   9  55  14  78  87  91   7 112\n",
      "  86  52  33  98  59  68  62  67  89  61  71  13   1  80  69  74 105  11\n",
      "  23  73  81 108  92  76 101 110 120  93 102 109  85 116 114  95 119 117\n",
      " 126 168  97 100 103 132 107 113  99  94  83 104 106 133 118 123 140 111\n",
      " 115]\n",
      "ingocup :  [   0 6000 4300 ... 8258  195 9166]\n",
      "ing_x_hrs :  [  0.       58.13953  31.25    ... 129.20155  64.59302  30.45183]\n",
      "tpg_p8a :  [0 1]\n",
      "tcco :  [0 3 2 1]\n",
      "cp_anoc :  [0 1]\n",
      "imssissste :  [1 4 0 2 3 5]\n",
      "ma48me1sm :  [0 1]\n",
      "p14apoyos :  [2 1 3 0]\n",
      "scian :  [ 7  5 18  0 19  6 15 14 12 10  8 16  4  9 17  1 20  3 11 13 21  2]\n",
      "t_tra :  [1 2 0]\n",
      "emp_ppal :  [2 1 0]\n",
      "tue_ppal :  [2 1 0]\n",
      "trans_ppal :  [0 1]\n",
      "mh_fil2 :  [3 1 0 2 4]\n",
      "mh_col :  [2 7 8 0 5 1 9 3 6 4]\n",
      "sec_ins :  [ 2  8  4  0  7  9  1  3  5  6 11 10]\n"
     ]
    }
   ],
   "source": [
    "for column in df_copy.columns:\n",
    "    print(column, ': ', df_copy[column].unique())"
   ]
  },
  {
   "cell_type": "code",
   "execution_count": 22,
   "metadata": {},
   "outputs": [
    {
     "data": {
      "text/html": [
       "<div>\n",
       "<style scoped>\n",
       "    .dataframe tbody tr th:only-of-type {\n",
       "        vertical-align: middle;\n",
       "    }\n",
       "\n",
       "    .dataframe tbody tr th {\n",
       "        vertical-align: top;\n",
       "    }\n",
       "\n",
       "    .dataframe thead th {\n",
       "        text-align: right;\n",
       "    }\n",
       "</style>\n",
       "<table border=\"1\" class=\"dataframe\">\n",
       "  <thead>\n",
       "    <tr style=\"text-align: right;\">\n",
       "      <th></th>\n",
       "      <th>loc</th>\n",
       "      <th>mun</th>\n",
       "      <th>est</th>\n",
       "      <th>t_loc</th>\n",
       "      <th>ent</th>\n",
       "      <th>sex</th>\n",
       "      <th>eda</th>\n",
       "      <th>nac_dia</th>\n",
       "      <th>nac_mes</th>\n",
       "      <th>nac_anio</th>\n",
       "      <th>...</th>\n",
       "      <th>ma48me1sm</th>\n",
       "      <th>p14apoyos</th>\n",
       "      <th>scian</th>\n",
       "      <th>t_tra</th>\n",
       "      <th>emp_ppal</th>\n",
       "      <th>tue_ppal</th>\n",
       "      <th>trans_ppal</th>\n",
       "      <th>mh_fil2</th>\n",
       "      <th>mh_col</th>\n",
       "      <th>sec_ins</th>\n",
       "    </tr>\n",
       "  </thead>\n",
       "  <tbody>\n",
       "    <tr>\n",
       "      <th>0</th>\n",
       "      <td>1</td>\n",
       "      <td>2</td>\n",
       "      <td>10</td>\n",
       "      <td>1</td>\n",
       "      <td>9</td>\n",
       "      <td>2</td>\n",
       "      <td>27.0</td>\n",
       "      <td>25.0</td>\n",
       "      <td>8.0</td>\n",
       "      <td>1987.0</td>\n",
       "      <td>...</td>\n",
       "      <td>0</td>\n",
       "      <td>2</td>\n",
       "      <td>7</td>\n",
       "      <td>1</td>\n",
       "      <td>2</td>\n",
       "      <td>2</td>\n",
       "      <td>0</td>\n",
       "      <td>3</td>\n",
       "      <td>2</td>\n",
       "      <td>2</td>\n",
       "    </tr>\n",
       "    <tr>\n",
       "      <th>1</th>\n",
       "      <td>1</td>\n",
       "      <td>2</td>\n",
       "      <td>10</td>\n",
       "      <td>1</td>\n",
       "      <td>9</td>\n",
       "      <td>1</td>\n",
       "      <td>45.0</td>\n",
       "      <td>16.0</td>\n",
       "      <td>2.0</td>\n",
       "      <td>1969.0</td>\n",
       "      <td>...</td>\n",
       "      <td>0</td>\n",
       "      <td>2</td>\n",
       "      <td>5</td>\n",
       "      <td>2</td>\n",
       "      <td>1</td>\n",
       "      <td>1</td>\n",
       "      <td>0</td>\n",
       "      <td>1</td>\n",
       "      <td>7</td>\n",
       "      <td>8</td>\n",
       "    </tr>\n",
       "    <tr>\n",
       "      <th>2</th>\n",
       "      <td>1</td>\n",
       "      <td>2</td>\n",
       "      <td>10</td>\n",
       "      <td>1</td>\n",
       "      <td>9</td>\n",
       "      <td>2</td>\n",
       "      <td>48.0</td>\n",
       "      <td>24.0</td>\n",
       "      <td>9.0</td>\n",
       "      <td>1966.0</td>\n",
       "      <td>...</td>\n",
       "      <td>0</td>\n",
       "      <td>2</td>\n",
       "      <td>18</td>\n",
       "      <td>1</td>\n",
       "      <td>2</td>\n",
       "      <td>2</td>\n",
       "      <td>0</td>\n",
       "      <td>3</td>\n",
       "      <td>8</td>\n",
       "      <td>4</td>\n",
       "    </tr>\n",
       "    <tr>\n",
       "      <th>3</th>\n",
       "      <td>1</td>\n",
       "      <td>2</td>\n",
       "      <td>10</td>\n",
       "      <td>1</td>\n",
       "      <td>9</td>\n",
       "      <td>2</td>\n",
       "      <td>24.0</td>\n",
       "      <td>18.0</td>\n",
       "      <td>10.0</td>\n",
       "      <td>1990.0</td>\n",
       "      <td>...</td>\n",
       "      <td>0</td>\n",
       "      <td>2</td>\n",
       "      <td>0</td>\n",
       "      <td>1</td>\n",
       "      <td>0</td>\n",
       "      <td>0</td>\n",
       "      <td>0</td>\n",
       "      <td>0</td>\n",
       "      <td>0</td>\n",
       "      <td>0</td>\n",
       "    </tr>\n",
       "    <tr>\n",
       "      <th>4</th>\n",
       "      <td>1</td>\n",
       "      <td>2</td>\n",
       "      <td>10</td>\n",
       "      <td>1</td>\n",
       "      <td>9</td>\n",
       "      <td>1</td>\n",
       "      <td>54.0</td>\n",
       "      <td>23.0</td>\n",
       "      <td>6.0</td>\n",
       "      <td>1960.0</td>\n",
       "      <td>...</td>\n",
       "      <td>0</td>\n",
       "      <td>2</td>\n",
       "      <td>19</td>\n",
       "      <td>1</td>\n",
       "      <td>1</td>\n",
       "      <td>1</td>\n",
       "      <td>0</td>\n",
       "      <td>1</td>\n",
       "      <td>5</td>\n",
       "      <td>8</td>\n",
       "    </tr>\n",
       "  </tbody>\n",
       "</table>\n",
       "<p>5 rows × 74 columns</p>\n",
       "</div>"
      ],
      "text/plain": [
       "   loc  mun  est  t_loc  ent  sex   eda  nac_dia  nac_mes  nac_anio   ...     \\\n",
       "0    1    2   10      1    9    2  27.0     25.0      8.0    1987.0   ...      \n",
       "1    1    2   10      1    9    1  45.0     16.0      2.0    1969.0   ...      \n",
       "2    1    2   10      1    9    2  48.0     24.0      9.0    1966.0   ...      \n",
       "3    1    2   10      1    9    2  24.0     18.0     10.0    1990.0   ...      \n",
       "4    1    2   10      1    9    1  54.0     23.0      6.0    1960.0   ...      \n",
       "\n",
       "   ma48me1sm  p14apoyos  scian  t_tra  emp_ppal  tue_ppal  trans_ppal  \\\n",
       "0          0          2      7      1         2         2           0   \n",
       "1          0          2      5      2         1         1           0   \n",
       "2          0          2     18      1         2         2           0   \n",
       "3          0          2      0      1         0         0           0   \n",
       "4          0          2     19      1         1         1           0   \n",
       "\n",
       "   mh_fil2  mh_col  sec_ins  \n",
       "0        3       2        2  \n",
       "1        1       7        8  \n",
       "2        3       8        4  \n",
       "3        0       0        0  \n",
       "4        1       5        8  \n",
       "\n",
       "[5 rows x 74 columns]"
      ]
     },
     "execution_count": 22,
     "metadata": {},
     "output_type": "execute_result"
    }
   ],
   "source": [
    "df_copy.head()"
   ]
  },
  {
   "cell_type": "code",
   "execution_count": 23,
   "metadata": {},
   "outputs": [
    {
     "data": {
      "text/plain": [
       "False"
      ]
     },
     "execution_count": 23,
     "metadata": {},
     "output_type": "execute_result"
    }
   ],
   "source": [
    "df_copy.isnull().any().any()"
   ]
  },
  {
   "cell_type": "code",
   "execution_count": 26,
   "metadata": {},
   "outputs": [],
   "source": [
    "file = \"../../dataframes/enoe/enoe_clean_2016.csv\""
   ]
  },
  {
   "cell_type": "code",
   "execution_count": 27,
   "metadata": {},
   "outputs": [],
   "source": [
    "df_copy.to_csv(file)"
   ]
  },
  {
   "cell_type": "code",
   "execution_count": null,
   "metadata": {},
   "outputs": [],
   "source": []
  }
 ],
 "metadata": {
  "kernelspec": {
   "display_name": "Python 3",
   "language": "python",
   "name": "python3"
  },
  "language_info": {
   "codemirror_mode": {
    "name": "ipython",
    "version": 3
   },
   "file_extension": ".py",
   "mimetype": "text/x-python",
   "name": "python",
   "nbconvert_exporter": "python",
   "pygments_lexer": "ipython3",
   "version": "3.7.0"
  }
 },
 "nbformat": 4,
 "nbformat_minor": 2
}
