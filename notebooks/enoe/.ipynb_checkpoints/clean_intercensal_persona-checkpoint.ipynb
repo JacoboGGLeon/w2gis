{
 "cells": [
  {
   "cell_type": "code",
   "execution_count": 1,
   "metadata": {},
   "outputs": [],
   "source": [
    "import pandas as pd"
   ]
  },
  {
   "cell_type": "code",
   "execution_count": 2,
   "metadata": {},
   "outputs": [],
   "source": [
    "file = \"../../dataframes/intercensal_persona.csv\""
   ]
  },
  {
   "cell_type": "code",
   "execution_count": 3,
   "metadata": {},
   "outputs": [],
   "source": [
    "df = pd.read_csv(filepath_or_buffer=file)"
   ]
  },
  {
   "cell_type": "code",
   "execution_count": 4,
   "metadata": {},
   "outputs": [
    {
     "data": {
      "text/plain": [
       "(553032, 47)"
      ]
     },
     "execution_count": 4,
     "metadata": {},
     "output_type": "execute_result"
    }
   ],
   "source": [
    "df.shape"
   ]
  },
  {
   "cell_type": "code",
   "execution_count": 5,
   "metadata": {},
   "outputs": [
    {
     "data": {
      "text/plain": [
       "Index(['Unnamed: 0', 'ID_VIV', 'ID_PERSONA', 'ENT', 'MUN', 'NOM_MUN', 'LOC50K',\n",
       "       'NOM_LOC', 'COBERTURA', 'ESTRATO', 'UPM', 'FACTOR', 'NUMPER', 'SEXO',\n",
       "       'EDAD', 'PARENT', 'PARENT_OTRO_C', 'IDENT_MADRE', 'IDENT_PADRE',\n",
       "       'SERSALUD', 'AFRODES', 'ACTA_NAC', 'DHSERSAL1', 'PERTE_INDIGENA',\n",
       "       'ENT_PAIS_NAC', 'NACIONALIDAD', 'HLENGUA', 'ELENGUA', 'ASISTEN',\n",
       "       'ESCOLARI', 'NIVACAD', 'ALFABET', 'ESCOACUM', 'MUN_RES10',\n",
       "       'NOM_MUN_RES10', 'ENT_PAIS_RES10', 'SITUA_CONYUGAL', 'CONACT',\n",
       "       'ACTI_SIN_PAGO1', 'ACTI_SIN_PAGO2', 'ACTI_SIN_PAGO3', 'ACTI_SIN_PAGO4',\n",
       "       'ACTI_SIN_PAGO5', 'ACTI_SIN_PAGO6', 'ACTI_SIN_PAGO7', 'ACTI_SIN_PAGO8',\n",
       "       'TAMLOC'],\n",
       "      dtype='object')"
      ]
     },
     "execution_count": 5,
     "metadata": {},
     "output_type": "execute_result"
    }
   ],
   "source": [
    "df.columns"
   ]
  },
  {
   "cell_type": "code",
   "execution_count": 49,
   "metadata": {},
   "outputs": [],
   "source": [
    "df_copy = df.copy()"
   ]
  },
  {
   "cell_type": "code",
   "execution_count": 51,
   "metadata": {},
   "outputs": [],
   "source": [
    "l = ['Unnamed: 0', 'ID_VIV', 'ID_PERSONA','LOC50K', 'NOM_LOC', 'COBERTURA', 'UPM', 'FACTOR', 'NUMPER', 'PARENT_OTRO_C', 'IDENT_MADRE', 'IDENT_PADRE']"
   ]
  },
  {
   "cell_type": "code",
   "execution_count": 53,
   "metadata": {},
   "outputs": [],
   "source": [
    "df_copy.drop_duplicates(inplace=True)"
   ]
  },
  {
   "cell_type": "code",
   "execution_count": 55,
   "metadata": {},
   "outputs": [
    {
     "data": {
      "text/plain": [
       "(553032, 47)"
      ]
     },
     "execution_count": 55,
     "metadata": {},
     "output_type": "execute_result"
    }
   ],
   "source": [
    "df_copy.shape"
   ]
  },
  {
   "cell_type": "code",
   "execution_count": 56,
   "metadata": {},
   "outputs": [],
   "source": [
    "df_copy.drop(labels=l, axis=1, inplace=True)"
   ]
  },
  {
   "cell_type": "code",
   "execution_count": 58,
   "metadata": {},
   "outputs": [
    {
     "data": {
      "text/plain": [
       "Index(['ENT', 'MUN', 'NOM_MUN', 'ESTRATO', 'SEXO', 'EDAD', 'PARENT',\n",
       "       'SERSALUD', 'AFRODES', 'ACTA_NAC', 'DHSERSAL1', 'PERTE_INDIGENA',\n",
       "       'ENT_PAIS_NAC', 'NACIONALIDAD', 'HLENGUA', 'ELENGUA', 'ASISTEN',\n",
       "       'ESCOLARI', 'NIVACAD', 'ALFABET', 'ESCOACUM', 'MUN_RES10',\n",
       "       'NOM_MUN_RES10', 'ENT_PAIS_RES10', 'SITUA_CONYUGAL', 'CONACT',\n",
       "       'ACTI_SIN_PAGO1', 'ACTI_SIN_PAGO2', 'ACTI_SIN_PAGO3', 'ACTI_SIN_PAGO4',\n",
       "       'ACTI_SIN_PAGO5', 'ACTI_SIN_PAGO6', 'ACTI_SIN_PAGO7', 'ACTI_SIN_PAGO8',\n",
       "       'TAMLOC'],\n",
       "      dtype='object')"
      ]
     },
     "execution_count": 58,
     "metadata": {},
     "output_type": "execute_result"
    }
   ],
   "source": [
    "df_copy.columns"
   ]
  },
  {
   "cell_type": "code",
   "execution_count": null,
   "metadata": {},
   "outputs": [],
   "source": [
    "numericos = []"
   ]
  },
  {
   "cell_type": "code",
   "execution_count": null,
   "metadata": {},
   "outputs": [],
   "source": [
    "categoricos = []"
   ]
  }
 ],
 "metadata": {
  "kernelspec": {
   "display_name": "Python 3",
   "language": "python",
   "name": "python3"
  },
  "language_info": {
   "codemirror_mode": {
    "name": "ipython",
    "version": 3
   },
   "file_extension": ".py",
   "mimetype": "text/x-python",
   "name": "python",
   "nbconvert_exporter": "python",
   "pygments_lexer": "ipython3",
   "version": "3.7.0"
  }
 },
 "nbformat": 4,
 "nbformat_minor": 2
}
