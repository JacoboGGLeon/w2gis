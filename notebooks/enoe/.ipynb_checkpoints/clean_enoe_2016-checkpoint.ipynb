{
 "cells": [
  {
   "cell_type": "code",
   "execution_count": null,
   "metadata": {},
   "outputs": [],
   "source": []
  },
  {
   "cell_type": "code",
   "execution_count": 59,
   "metadata": {},
   "outputs": [],
   "source": [
    "import pandas as pd\n",
    "import numpy as np"
   ]
  },
  {
   "cell_type": "markdown",
   "metadata": {},
   "source": [
    "## Vivienda"
   ]
  },
  {
   "cell_type": "code",
   "execution_count": 60,
   "metadata": {},
   "outputs": [],
   "source": [
    "file = \"../../dataframes/enh/enh_clean.csv\""
   ]
  },
  {
   "cell_type": "code",
   "execution_count": 61,
   "metadata": {},
   "outputs": [],
   "source": [
    "df = pd.read_csv(file)"
   ]
  },
  {
   "cell_type": "code",
   "execution_count": 62,
   "metadata": {},
   "outputs": [
    {
     "data": {
      "text/plain": [
       "(50643, 68)"
      ]
     },
     "execution_count": 62,
     "metadata": {},
     "output_type": "execute_result"
    }
   ],
   "source": [
    "df.shape"
   ]
  },
  {
   "cell_type": "code",
   "execution_count": 63,
   "metadata": {},
   "outputs": [],
   "source": [
    "df_copy=df.copy()"
   ]
  },
  {
   "cell_type": "code",
   "execution_count": 67,
   "metadata": {},
   "outputs": [],
   "source": [
    "l = ['Unnamed: 0', 'folioviv', 'cocina', 'excusado', 'est_dis', 'upm', 'ageb', 'factor']"
   ]
  },
  {
   "cell_type": "code",
   "execution_count": 68,
   "metadata": {},
   "outputs": [],
   "source": [
    "df_copy.drop(labels=l, axis=1, inplace=True)"
   ]
  },
  {
   "cell_type": "code",
   "execution_count": 69,
   "metadata": {},
   "outputs": [
    {
     "name": "stdout",
     "output_type": "stream",
     "text": [
      "tipo_viv :  [1 2 3 4 5]\n",
      "mat_pared :  [8 7 1 3 6 2 4 5]\n",
      "mat_techos :  [9 7 3 6 1 8 4 5 2]\n",
      "mat_pisos :  [3 2 1]\n",
      "ais_techos :  [2 9 1]\n",
      "ais_pared :  [2 9 1]\n",
      "ais_ventan :  [2 9 1]\n",
      "ais_otro :  [2 9 1]\n",
      "cocina_dor :  [2 1]\n",
      "cuart_dorm :  [3 2 4 1 5 6 8 7 9]\n",
      "num_cuarto :  [ 5  6  7  9  4  8  3  1  2 10 12 11 13 17 15 16 18 14 22 20]\n",
      "disp_agua :  [1 2]\n",
      "dotac_agua :  [1 2 4 3 5]\n",
      "uso_compar :  [2 1]\n",
      "sanit_agua :  [1 2 3]\n",
      "bano_comp :  [1 2 3 0 7 5 4 6 9 8]\n",
      "bano_excus :  [1 0 3 2 4 9 6]\n",
      "bano_regad :  [0 1 2 9 3]\n",
      "drenaje :  [1 2 5 4 3]\n",
      "disp_elect :  [1 2 3 4]\n",
      "focos_inca :  [ 0  9  5  3  1  4  7 10  2 13  8 40  6 11 15 22 16 24 19 12 21 14 20 23\n",
      " 30 35 27 28 25 18 38 17 75 50 45 36 26 29 46 34 33 78 99]\n",
      "focos_ahor :  [10  7  8 13  9 18  5 16 12  2  6  0 14 17  1  3  4 11 15 28 20 36 30 50\n",
      " 88 22 25 19 80 24 21 26 27 43 23 38 60 40 99 56 37 35 47 44 64 33 29 42\n",
      " 90 45 32 70 63 31 46 34 66 48 65 39 57 75 55 54 77 52 61]\n",
      "combustible :  [3 4 5 6 1 2]\n",
      "eli_basura :  [2 1 3 4 6 5]\n",
      "lavadero :  [1 2]\n",
      "fregadero :  [1 2]\n",
      "regadera :  [1 2]\n",
      "rega_elect :  [2 1]\n",
      "tinaco_azo :  [1 2]\n",
      "cisterna :  [1 2]\n",
      "pileta :  [2 1]\n",
      "calent_sol :  [2 1]\n",
      "calent_gas :  [1 2]\n",
      "medidor_luz :  [1 2]\n",
      "bomba_agua :  [1 2]\n",
      "tanque_gas :  [1 2]\n",
      "aire_acond :  [2 1]\n",
      "calefacc :  [2 1]\n",
      "chimenea :  [2 1]\n",
      "repar_pard :  [2 1]\n",
      "repar_tech :  [2 1]\n",
      "repar_agua :  [2 1]\n",
      "repar_dren :  [2 1]\n",
      "repar_cabl :  [2 1]\n",
      "const_dorm :  [2 1]\n",
      "const_coci :  [2 1]\n",
      "const_bano :  [2 1]\n",
      "const_neg :  [2 1]\n",
      "tenencia :  [1 2 4 3 5 6]\n",
      "computador :  [2 1]\n",
      "tel_fijo :  [2 1]\n",
      "celular :  [2 1]\n",
      "internet :  [1 2]\n",
      "tv_paga :  [1 2]\n",
      "auto_pick :  [1 2]\n",
      "tot_resid :  [ 4  2  3  6  5  1  8  7  9 14 10 12 11 13 15 16 17 20 18 19]\n",
      "tot_hog :  [1 2 3 4 5]\n",
      "ubica_geo :  [ 10010001  10030001  10050001 ... 320030001 320180001 320350001]\n",
      "tam_loc :  [1 2 3 4]\n",
      "est_socio :  [3 4 2 1]\n"
     ]
    }
   ],
   "source": [
    "for column in df_copy.columns:\n",
    "    print(column, ': ', df_copy[column].unique())"
   ]
  },
  {
   "cell_type": "markdown",
   "metadata": {},
   "source": [
    "## Generar ENT, MUN, LOC"
   ]
  },
  {
   "cell_type": "markdown",
   "metadata": {},
   "source": [
    "+ Los dos primeros dígitos representan la clave de la entidad, \n",
    "+ los siguientes tres la clave del municipio y \n",
    "+ los últimos cuatro la clave de la localidad. "
   ]
  },
  {
   "cell_type": "code",
   "execution_count": 70,
   "metadata": {},
   "outputs": [
    {
     "data": {
      "text/plain": [
       "10010001     1176\n",
       "230050001     841\n",
       "310500001     729\n",
       "20040001      652\n",
       "80370001      636\n",
       "220140001     626\n",
       "30030001      589\n",
       "100050001     574\n",
       "180170001     560\n",
       "240280001     498\n",
       "40020001      496\n",
       "260300001     490\n",
       "250060001     467\n",
       "211140001     443\n",
       "50300001      435\n",
       "80190001      420\n",
       "110200001     398\n",
       "20020001      380\n",
       "50350001      374\n",
       "190390001     373\n",
       "60100001      358\n",
       "60020001      325\n",
       "60070001      320\n",
       "140390001     317\n",
       "90070001      303\n",
       "190260001     299\n",
       "40030001      299\n",
       "100070001     296\n",
       "280320001     293\n",
       "141200001     290\n",
       "             ... \n",
       "270080095       1\n",
       "130510140       1\n",
       "90090228        1\n",
       "190310224       1\n",
       "71090179        1\n",
       "220090018       1\n",
       "71090188        1\n",
       "240110008       1\n",
       "70651125        1\n",
       "301080137       1\n",
       "70651371        1\n",
       "40110290        1\n",
       "180010173       1\n",
       "120520003       1\n",
       "130280223       1\n",
       "120530014       1\n",
       "70640152        1\n",
       "80290964        1\n",
       "180200086       1\n",
       "240190025       1\n",
       "130590088       1\n",
       "80272815        1\n",
       "220180043       1\n",
       "70300141        1\n",
       "120580048       1\n",
       "260420666       1\n",
       "180150059       1\n",
       "270020216       1\n",
       "120070005       1\n",
       "70960052        1\n",
       "Name: ubica_geo, Length: 2143, dtype: int64"
      ]
     },
     "execution_count": 70,
     "metadata": {},
     "output_type": "execute_result"
    }
   ],
   "source": [
    "df_copy.ubica_geo.value_counts()"
   ]
  },
  {
   "cell_type": "code",
   "execution_count": 71,
   "metadata": {},
   "outputs": [],
   "source": [
    "df_copy.ubica_geo = df_copy.ubica_geo.astype(str)"
   ]
  },
  {
   "cell_type": "code",
   "execution_count": 72,
   "metadata": {},
   "outputs": [
    {
     "data": {
      "text/plain": [
       "8"
      ]
     },
     "execution_count": 72,
     "metadata": {},
     "output_type": "execute_result"
    }
   ],
   "source": [
    "len(df_copy.ubica_geo[0])"
   ]
  },
  {
   "cell_type": "code",
   "execution_count": 73,
   "metadata": {},
   "outputs": [
    {
     "name": "stderr",
     "output_type": "stream",
     "text": [
      "C:\\Users\\aniit\\Anaconda3\\lib\\site-packages\\ipykernel_launcher.py:3: SettingWithCopyWarning: \n",
      "A value is trying to be set on a copy of a slice from a DataFrame\n",
      "\n",
      "See the caveats in the documentation: http://pandas.pydata.org/pandas-docs/stable/indexing.html#indexing-view-versus-copy\n",
      "  This is separate from the ipykernel package so we can avoid doing imports until\n"
     ]
    }
   ],
   "source": [
    "for line in range(0, df_copy.shape[0]):\n",
    "    if(len(df_copy.ubica_geo[line]) == 8):\n",
    "        df_copy.ubica_geo[line] = '0' + df_copy.ubica_geo[line]"
   ]
  },
  {
   "cell_type": "code",
   "execution_count": 74,
   "metadata": {},
   "outputs": [
    {
     "data": {
      "text/plain": [
       "'010010001'"
      ]
     },
     "execution_count": 74,
     "metadata": {},
     "output_type": "execute_result"
    }
   ],
   "source": [
    "df_copy.ubica_geo[0]"
   ]
  },
  {
   "cell_type": "code",
   "execution_count": 75,
   "metadata": {},
   "outputs": [
    {
     "data": {
      "text/plain": [
       "'01'"
      ]
     },
     "execution_count": 75,
     "metadata": {},
     "output_type": "execute_result"
    }
   ],
   "source": [
    "df_copy.ubica_geo[0][:2]"
   ]
  },
  {
   "cell_type": "code",
   "execution_count": 77,
   "metadata": {},
   "outputs": [
    {
     "data": {
      "text/plain": [
       "'001'"
      ]
     },
     "execution_count": 77,
     "metadata": {},
     "output_type": "execute_result"
    }
   ],
   "source": [
    "df_copy.ubica_geo[0][2:5]"
   ]
  },
  {
   "cell_type": "code",
   "execution_count": 78,
   "metadata": {},
   "outputs": [
    {
     "data": {
      "text/plain": [
       "'0001'"
      ]
     },
     "execution_count": 78,
     "metadata": {},
     "output_type": "execute_result"
    }
   ],
   "source": [
    "df_copy.ubica_geo[0][5:]"
   ]
  },
  {
   "cell_type": "code",
   "execution_count": 79,
   "metadata": {},
   "outputs": [
    {
     "data": {
      "text/plain": [
       "(50643, 60)"
      ]
     },
     "execution_count": 79,
     "metadata": {},
     "output_type": "execute_result"
    }
   ],
   "source": [
    "df_copy.shape"
   ]
  },
  {
   "cell_type": "code",
   "execution_count": 80,
   "metadata": {},
   "outputs": [],
   "source": [
    "l_ent = []\n",
    "l_mun = []\n",
    "l_loc = []"
   ]
  },
  {
   "cell_type": "code",
   "execution_count": 82,
   "metadata": {},
   "outputs": [],
   "source": [
    "for line in range(0, df_copy.shape[0]):\n",
    "    l_ent.append(df_copy.ubica_geo[line][:2])\n",
    "    l_mun.append(df_copy.ubica_geo[line][2:5])\n",
    "    l_loc.append(df_copy.ubica_geo[line][5:])"
   ]
  },
  {
   "cell_type": "code",
   "execution_count": 83,
   "metadata": {},
   "outputs": [
    {
     "data": {
      "text/plain": [
       "True"
      ]
     },
     "execution_count": 83,
     "metadata": {},
     "output_type": "execute_result"
    }
   ],
   "source": [
    "len(l_ent) == len(l_mun) == len(l_loc)"
   ]
  },
  {
   "cell_type": "code",
   "execution_count": 84,
   "metadata": {},
   "outputs": [],
   "source": [
    "df_copy['ent'] = l_ent"
   ]
  },
  {
   "cell_type": "code",
   "execution_count": 85,
   "metadata": {},
   "outputs": [],
   "source": [
    "df_copy['mun'] = l_mun"
   ]
  },
  {
   "cell_type": "code",
   "execution_count": 86,
   "metadata": {},
   "outputs": [],
   "source": [
    "df_copy['loc'] = l_loc"
   ]
  },
  {
   "cell_type": "code",
   "execution_count": 87,
   "metadata": {},
   "outputs": [
    {
     "data": {
      "text/html": [
       "<div>\n",
       "<style scoped>\n",
       "    .dataframe tbody tr th:only-of-type {\n",
       "        vertical-align: middle;\n",
       "    }\n",
       "\n",
       "    .dataframe tbody tr th {\n",
       "        vertical-align: top;\n",
       "    }\n",
       "\n",
       "    .dataframe thead th {\n",
       "        text-align: right;\n",
       "    }\n",
       "</style>\n",
       "<table border=\"1\" class=\"dataframe\">\n",
       "  <thead>\n",
       "    <tr style=\"text-align: right;\">\n",
       "      <th></th>\n",
       "      <th>tipo_viv</th>\n",
       "      <th>mat_pared</th>\n",
       "      <th>mat_techos</th>\n",
       "      <th>mat_pisos</th>\n",
       "      <th>ais_techos</th>\n",
       "      <th>ais_pared</th>\n",
       "      <th>ais_ventan</th>\n",
       "      <th>ais_otro</th>\n",
       "      <th>cocina_dor</th>\n",
       "      <th>cuart_dorm</th>\n",
       "      <th>...</th>\n",
       "      <th>tv_paga</th>\n",
       "      <th>auto_pick</th>\n",
       "      <th>tot_resid</th>\n",
       "      <th>tot_hog</th>\n",
       "      <th>ubica_geo</th>\n",
       "      <th>tam_loc</th>\n",
       "      <th>est_socio</th>\n",
       "      <th>ent</th>\n",
       "      <th>mun</th>\n",
       "      <th>loc</th>\n",
       "    </tr>\n",
       "  </thead>\n",
       "  <tbody>\n",
       "    <tr>\n",
       "      <th>0</th>\n",
       "      <td>1</td>\n",
       "      <td>8</td>\n",
       "      <td>9</td>\n",
       "      <td>3</td>\n",
       "      <td>2</td>\n",
       "      <td>2</td>\n",
       "      <td>2</td>\n",
       "      <td>2</td>\n",
       "      <td>2</td>\n",
       "      <td>3</td>\n",
       "      <td>...</td>\n",
       "      <td>1</td>\n",
       "      <td>1</td>\n",
       "      <td>4</td>\n",
       "      <td>1</td>\n",
       "      <td>010010001</td>\n",
       "      <td>1</td>\n",
       "      <td>3</td>\n",
       "      <td>01</td>\n",
       "      <td>001</td>\n",
       "      <td>0001</td>\n",
       "    </tr>\n",
       "    <tr>\n",
       "      <th>1</th>\n",
       "      <td>1</td>\n",
       "      <td>8</td>\n",
       "      <td>9</td>\n",
       "      <td>3</td>\n",
       "      <td>2</td>\n",
       "      <td>2</td>\n",
       "      <td>2</td>\n",
       "      <td>2</td>\n",
       "      <td>2</td>\n",
       "      <td>2</td>\n",
       "      <td>...</td>\n",
       "      <td>1</td>\n",
       "      <td>2</td>\n",
       "      <td>2</td>\n",
       "      <td>1</td>\n",
       "      <td>010010001</td>\n",
       "      <td>1</td>\n",
       "      <td>3</td>\n",
       "      <td>01</td>\n",
       "      <td>001</td>\n",
       "      <td>0001</td>\n",
       "    </tr>\n",
       "    <tr>\n",
       "      <th>2</th>\n",
       "      <td>1</td>\n",
       "      <td>8</td>\n",
       "      <td>9</td>\n",
       "      <td>3</td>\n",
       "      <td>2</td>\n",
       "      <td>2</td>\n",
       "      <td>2</td>\n",
       "      <td>9</td>\n",
       "      <td>2</td>\n",
       "      <td>2</td>\n",
       "      <td>...</td>\n",
       "      <td>1</td>\n",
       "      <td>1</td>\n",
       "      <td>2</td>\n",
       "      <td>1</td>\n",
       "      <td>010010001</td>\n",
       "      <td>1</td>\n",
       "      <td>3</td>\n",
       "      <td>01</td>\n",
       "      <td>001</td>\n",
       "      <td>0001</td>\n",
       "    </tr>\n",
       "    <tr>\n",
       "      <th>3</th>\n",
       "      <td>1</td>\n",
       "      <td>8</td>\n",
       "      <td>9</td>\n",
       "      <td>3</td>\n",
       "      <td>2</td>\n",
       "      <td>2</td>\n",
       "      <td>2</td>\n",
       "      <td>2</td>\n",
       "      <td>2</td>\n",
       "      <td>4</td>\n",
       "      <td>...</td>\n",
       "      <td>1</td>\n",
       "      <td>1</td>\n",
       "      <td>4</td>\n",
       "      <td>1</td>\n",
       "      <td>010010001</td>\n",
       "      <td>1</td>\n",
       "      <td>3</td>\n",
       "      <td>01</td>\n",
       "      <td>001</td>\n",
       "      <td>0001</td>\n",
       "    </tr>\n",
       "    <tr>\n",
       "      <th>4</th>\n",
       "      <td>1</td>\n",
       "      <td>8</td>\n",
       "      <td>9</td>\n",
       "      <td>2</td>\n",
       "      <td>2</td>\n",
       "      <td>2</td>\n",
       "      <td>2</td>\n",
       "      <td>2</td>\n",
       "      <td>2</td>\n",
       "      <td>2</td>\n",
       "      <td>...</td>\n",
       "      <td>1</td>\n",
       "      <td>1</td>\n",
       "      <td>4</td>\n",
       "      <td>1</td>\n",
       "      <td>010010001</td>\n",
       "      <td>1</td>\n",
       "      <td>3</td>\n",
       "      <td>01</td>\n",
       "      <td>001</td>\n",
       "      <td>0001</td>\n",
       "    </tr>\n",
       "  </tbody>\n",
       "</table>\n",
       "<p>5 rows × 63 columns</p>\n",
       "</div>"
      ],
      "text/plain": [
       "   tipo_viv  mat_pared  mat_techos  mat_pisos  ais_techos  ais_pared  \\\n",
       "0         1          8           9          3           2          2   \n",
       "1         1          8           9          3           2          2   \n",
       "2         1          8           9          3           2          2   \n",
       "3         1          8           9          3           2          2   \n",
       "4         1          8           9          2           2          2   \n",
       "\n",
       "   ais_ventan  ais_otro  cocina_dor  cuart_dorm  ...   tv_paga  auto_pick  \\\n",
       "0           2         2           2           3  ...         1          1   \n",
       "1           2         2           2           2  ...         1          2   \n",
       "2           2         9           2           2  ...         1          1   \n",
       "3           2         2           2           4  ...         1          1   \n",
       "4           2         2           2           2  ...         1          1   \n",
       "\n",
       "   tot_resid  tot_hog  ubica_geo  tam_loc  est_socio  ent  mun   loc  \n",
       "0          4        1  010010001        1          3   01  001  0001  \n",
       "1          2        1  010010001        1          3   01  001  0001  \n",
       "2          2        1  010010001        1          3   01  001  0001  \n",
       "3          4        1  010010001        1          3   01  001  0001  \n",
       "4          4        1  010010001        1          3   01  001  0001  \n",
       "\n",
       "[5 rows x 63 columns]"
      ]
     },
     "execution_count": 87,
     "metadata": {},
     "output_type": "execute_result"
    }
   ],
   "source": [
    "df_copy.head()"
   ]
  },
  {
   "cell_type": "code",
   "execution_count": 92,
   "metadata": {},
   "outputs": [],
   "source": [
    "df_copy.drop(labels=['ubica_geo'], axis=1, inplace=True)"
   ]
  },
  {
   "cell_type": "code",
   "execution_count": 93,
   "metadata": {},
   "outputs": [
    {
     "data": {
      "text/plain": [
       "False"
      ]
     },
     "execution_count": 93,
     "metadata": {},
     "output_type": "execute_result"
    }
   ],
   "source": [
    "df_copy.isnull().any().any()"
   ]
  },
  {
   "cell_type": "code",
   "execution_count": 94,
   "metadata": {},
   "outputs": [],
   "source": [
    "file = \"../../dataframes/enh/enh_clean_2016.csv\""
   ]
  },
  {
   "cell_type": "code",
   "execution_count": null,
   "metadata": {},
   "outputs": [],
   "source": [
    "df_copy.to_csv(file)"
   ]
  },
  {
   "cell_type": "code",
   "execution_count": null,
   "metadata": {},
   "outputs": [],
   "source": []
  }
 ],
 "metadata": {
  "kernelspec": {
   "display_name": "Python 3",
   "language": "python",
   "name": "python3"
  },
  "language_info": {
   "codemirror_mode": {
    "name": "ipython",
    "version": 3
   },
   "file_extension": ".py",
   "mimetype": "text/x-python",
   "name": "python",
   "nbconvert_exporter": "python",
   "pygments_lexer": "ipython3",
   "version": "3.7.0"
  }
 },
 "nbformat": 4,
 "nbformat_minor": 2
}
