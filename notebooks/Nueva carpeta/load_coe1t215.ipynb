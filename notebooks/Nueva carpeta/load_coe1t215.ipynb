{
 "cells": [
  {
   "cell_type": "markdown",
   "metadata": {},
   "source": []
  },
  {
   "cell_type": "code",
   "execution_count": 1,
   "metadata": {},
   "outputs": [],
   "source": [
    "import pandas as pd\n",
    "import missingno as msno\n",
    "import numpy as np\n",
    "%matplotlib inline"
   ]
  },
  {
   "cell_type": "markdown",
   "metadata": {},
   "source": [
    "## coe1t215"
   ]
  },
  {
   "cell_type": "code",
   "execution_count": 3,
   "metadata": {},
   "outputs": [],
   "source": [
    "file = \"../../data/enoe/2015trim2_csv/coe1t215.CSV\""
   ]
  },
  {
   "cell_type": "code",
   "execution_count": 4,
   "metadata": {},
   "outputs": [],
   "source": [
    "df_coe1t115 = pd.read_csv(file)"
   ]
  },
  {
   "cell_type": "code",
   "execution_count": 5,
   "metadata": {},
   "outputs": [
    {
     "data": {
      "text/plain": [
       "(313877, 169)"
      ]
     },
     "execution_count": 5,
     "metadata": {},
     "output_type": "execute_result"
    }
   ],
   "source": [
    "df_coe1t115.shape"
   ]
  },
  {
   "cell_type": "code",
   "execution_count": 6,
   "metadata": {},
   "outputs": [],
   "source": [
    "df_coe1t115_cdmx = df_coe1t115[(df_coe1t115['ent'] == 9)]"
   ]
  },
  {
   "cell_type": "code",
   "execution_count": 7,
   "metadata": {},
   "outputs": [
    {
     "data": {
      "text/plain": [
       "(7942, 169)"
      ]
     },
     "execution_count": 7,
     "metadata": {},
     "output_type": "execute_result"
    }
   ],
   "source": [
    "df_coe1t115_cdmx.shape"
   ]
  },
  {
   "cell_type": "code",
   "execution_count": 8,
   "metadata": {},
   "outputs": [
    {
     "name": "stderr",
     "output_type": "stream",
     "text": [
      "C:\\Users\\aniit\\Anaconda3\\lib\\site-packages\\ipykernel_launcher.py:1: SettingWithCopyWarning: \n",
      "A value is trying to be set on a copy of a slice from a DataFrame.\n",
      "Try using .loc[row_indexer,col_indexer] = value instead\n",
      "\n",
      "See the caveats in the documentation: http://pandas.pydata.org/pandas-docs/stable/indexing.html#indexing-view-versus-copy\n",
      "  \"\"\"Entry point for launching an IPython kernel.\n"
     ]
    }
   ],
   "source": [
    "df_coe1t115_cdmx['id'] = df_coe1t115_cdmx.cd_a + df_coe1t115_cdmx.ent + df_coe1t115_cdmx.con + df_coe1t115_cdmx.v_sel + df_coe1t115_cdmx.n_hog + df_coe1t115_cdmx.h_mud + df_coe1t115_cdmx.n_ren"
   ]
  },
  {
   "cell_type": "code",
   "execution_count": 9,
   "metadata": {},
   "outputs": [
    {
     "data": {
      "text/html": [
       "<div>\n",
       "<style scoped>\n",
       "    .dataframe tbody tr th:only-of-type {\n",
       "        vertical-align: middle;\n",
       "    }\n",
       "\n",
       "    .dataframe tbody tr th {\n",
       "        vertical-align: top;\n",
       "    }\n",
       "\n",
       "    .dataframe thead th {\n",
       "        text-align: right;\n",
       "    }\n",
       "</style>\n",
       "<table border=\"1\" class=\"dataframe\">\n",
       "  <thead>\n",
       "    <tr style=\"text-align: right;\">\n",
       "      <th></th>\n",
       "      <th>r_def</th>\n",
       "      <th>cd_a</th>\n",
       "      <th>ent</th>\n",
       "      <th>con</th>\n",
       "      <th>upm</th>\n",
       "      <th>d_sem</th>\n",
       "      <th>n_pro_viv</th>\n",
       "      <th>v_sel</th>\n",
       "      <th>n_hog</th>\n",
       "      <th>h_mud</th>\n",
       "      <th>...</th>\n",
       "      <th>p5f10</th>\n",
       "      <th>p5f11</th>\n",
       "      <th>p5f12</th>\n",
       "      <th>p5f13</th>\n",
       "      <th>p5f14</th>\n",
       "      <th>p5f15</th>\n",
       "      <th>p5f99</th>\n",
       "      <th>ur</th>\n",
       "      <th>fac</th>\n",
       "      <th>id</th>\n",
       "    </tr>\n",
       "  </thead>\n",
       "  <tbody>\n",
       "    <tr>\n",
       "      <th>0</th>\n",
       "      <td>0</td>\n",
       "      <td>1</td>\n",
       "      <td>9</td>\n",
       "      <td>40001</td>\n",
       "      <td>900471</td>\n",
       "      <td>101</td>\n",
       "      <td>15</td>\n",
       "      <td>1</td>\n",
       "      <td>1</td>\n",
       "      <td>0</td>\n",
       "      <td>...</td>\n",
       "      <td>NaN</td>\n",
       "      <td>NaN</td>\n",
       "      <td>NaN</td>\n",
       "      <td>NaN</td>\n",
       "      <td>14.0</td>\n",
       "      <td>NaN</td>\n",
       "      <td>NaN</td>\n",
       "      <td>1</td>\n",
       "      <td>426</td>\n",
       "      <td>40014</td>\n",
       "    </tr>\n",
       "    <tr>\n",
       "      <th>1</th>\n",
       "      <td>0</td>\n",
       "      <td>1</td>\n",
       "      <td>9</td>\n",
       "      <td>40001</td>\n",
       "      <td>900471</td>\n",
       "      <td>101</td>\n",
       "      <td>15</td>\n",
       "      <td>1</td>\n",
       "      <td>1</td>\n",
       "      <td>0</td>\n",
       "      <td>...</td>\n",
       "      <td>NaN</td>\n",
       "      <td>NaN</td>\n",
       "      <td>NaN</td>\n",
       "      <td>NaN</td>\n",
       "      <td>14.0</td>\n",
       "      <td>NaN</td>\n",
       "      <td>NaN</td>\n",
       "      <td>1</td>\n",
       "      <td>426</td>\n",
       "      <td>40015</td>\n",
       "    </tr>\n",
       "    <tr>\n",
       "      <th>2</th>\n",
       "      <td>0</td>\n",
       "      <td>1</td>\n",
       "      <td>9</td>\n",
       "      <td>40001</td>\n",
       "      <td>900471</td>\n",
       "      <td>101</td>\n",
       "      <td>15</td>\n",
       "      <td>1</td>\n",
       "      <td>1</td>\n",
       "      <td>0</td>\n",
       "      <td>...</td>\n",
       "      <td>NaN</td>\n",
       "      <td>NaN</td>\n",
       "      <td>NaN</td>\n",
       "      <td>NaN</td>\n",
       "      <td>14.0</td>\n",
       "      <td>NaN</td>\n",
       "      <td>NaN</td>\n",
       "      <td>1</td>\n",
       "      <td>426</td>\n",
       "      <td>40016</td>\n",
       "    </tr>\n",
       "    <tr>\n",
       "      <th>3</th>\n",
       "      <td>0</td>\n",
       "      <td>1</td>\n",
       "      <td>9</td>\n",
       "      <td>40001</td>\n",
       "      <td>900471</td>\n",
       "      <td>101</td>\n",
       "      <td>15</td>\n",
       "      <td>1</td>\n",
       "      <td>1</td>\n",
       "      <td>0</td>\n",
       "      <td>...</td>\n",
       "      <td>NaN</td>\n",
       "      <td>NaN</td>\n",
       "      <td>NaN</td>\n",
       "      <td>NaN</td>\n",
       "      <td>NaN</td>\n",
       "      <td>NaN</td>\n",
       "      <td>NaN</td>\n",
       "      <td>1</td>\n",
       "      <td>426</td>\n",
       "      <td>40017</td>\n",
       "    </tr>\n",
       "    <tr>\n",
       "      <th>4</th>\n",
       "      <td>0</td>\n",
       "      <td>1</td>\n",
       "      <td>9</td>\n",
       "      <td>40001</td>\n",
       "      <td>900471</td>\n",
       "      <td>101</td>\n",
       "      <td>38</td>\n",
       "      <td>2</td>\n",
       "      <td>1</td>\n",
       "      <td>0</td>\n",
       "      <td>...</td>\n",
       "      <td>NaN</td>\n",
       "      <td>NaN</td>\n",
       "      <td>NaN</td>\n",
       "      <td>NaN</td>\n",
       "      <td>14.0</td>\n",
       "      <td>NaN</td>\n",
       "      <td>NaN</td>\n",
       "      <td>1</td>\n",
       "      <td>426</td>\n",
       "      <td>40015</td>\n",
       "    </tr>\n",
       "  </tbody>\n",
       "</table>\n",
       "<p>5 rows × 170 columns</p>\n",
       "</div>"
      ],
      "text/plain": [
       "   r_def  cd_a  ent    con     upm  d_sem  n_pro_viv  v_sel  n_hog  h_mud  \\\n",
       "0      0     1    9  40001  900471    101         15      1      1      0   \n",
       "1      0     1    9  40001  900471    101         15      1      1      0   \n",
       "2      0     1    9  40001  900471    101         15      1      1      0   \n",
       "3      0     1    9  40001  900471    101         15      1      1      0   \n",
       "4      0     1    9  40001  900471    101         38      2      1      0   \n",
       "\n",
       "   ...    p5f10  p5f11  p5f12  p5f13  p5f14  p5f15 p5f99 ur  fac     id  \n",
       "0  ...      NaN    NaN    NaN    NaN   14.0    NaN   NaN  1  426  40014  \n",
       "1  ...      NaN    NaN    NaN    NaN   14.0    NaN   NaN  1  426  40015  \n",
       "2  ...      NaN    NaN    NaN    NaN   14.0    NaN   NaN  1  426  40016  \n",
       "3  ...      NaN    NaN    NaN    NaN    NaN    NaN   NaN  1  426  40017  \n",
       "4  ...      NaN    NaN    NaN    NaN   14.0    NaN   NaN  1  426  40015  \n",
       "\n",
       "[5 rows x 170 columns]"
      ]
     },
     "execution_count": 9,
     "metadata": {},
     "output_type": "execute_result"
    }
   ],
   "source": [
    "df_coe1t115_cdmx.head()"
   ]
  },
  {
   "cell_type": "code",
   "execution_count": 10,
   "metadata": {},
   "outputs": [
    {
     "data": {
      "text/plain": [
       "677"
      ]
     },
     "execution_count": 10,
     "metadata": {},
     "output_type": "execute_result"
    }
   ],
   "source": [
    "df_coe1t115_cdmx.id.nunique()"
   ]
  },
  {
   "cell_type": "code",
   "execution_count": 11,
   "metadata": {},
   "outputs": [],
   "source": [
    "df_coe1t115_cdmx_copy = df_coe1t115_cdmx.copy()"
   ]
  },
  {
   "cell_type": "markdown",
   "metadata": {},
   "source": [
    "## sdemt215"
   ]
  },
  {
   "cell_type": "code",
   "execution_count": 12,
   "metadata": {},
   "outputs": [],
   "source": [
    "file = \"../../data/enoe/2015trim2_csv/sdemt215.CSV\""
   ]
  },
  {
   "cell_type": "code",
   "execution_count": 13,
   "metadata": {},
   "outputs": [
    {
     "name": "stderr",
     "output_type": "stream",
     "text": [
      "C:\\Users\\aniit\\Anaconda3\\lib\\site-packages\\IPython\\core\\interactiveshell.py:2785: DtypeWarning: Columns (21,30,37,40) have mixed types. Specify dtype option on import or set low_memory=False.\n",
      "  interactivity=interactivity, compiler=compiler, result=result)\n"
     ]
    }
   ],
   "source": [
    "df_sdemt115 = pd.read_csv(file, encoding='latin')"
   ]
  },
  {
   "cell_type": "code",
   "execution_count": 14,
   "metadata": {},
   "outputs": [
    {
     "data": {
      "text/plain": [
       "(403865, 104)"
      ]
     },
     "execution_count": 14,
     "metadata": {},
     "output_type": "execute_result"
    }
   ],
   "source": [
    "df_sdemt115.shape"
   ]
  },
  {
   "cell_type": "code",
   "execution_count": 15,
   "metadata": {},
   "outputs": [
    {
     "data": {
      "text/html": [
       "<div>\n",
       "<style scoped>\n",
       "    .dataframe tbody tr th:only-of-type {\n",
       "        vertical-align: middle;\n",
       "    }\n",
       "\n",
       "    .dataframe tbody tr th {\n",
       "        vertical-align: top;\n",
       "    }\n",
       "\n",
       "    .dataframe thead th {\n",
       "        text-align: right;\n",
       "    }\n",
       "</style>\n",
       "<table border=\"1\" class=\"dataframe\">\n",
       "  <thead>\n",
       "    <tr style=\"text-align: right;\">\n",
       "      <th></th>\n",
       "      <th>r_def</th>\n",
       "      <th>loc</th>\n",
       "      <th>mun</th>\n",
       "      <th>est</th>\n",
       "      <th>est_d</th>\n",
       "      <th>ageb</th>\n",
       "      <th>t_loc</th>\n",
       "      <th>cd_a</th>\n",
       "      <th>ent</th>\n",
       "      <th>con</th>\n",
       "      <th>...</th>\n",
       "      <th>ma48me1sm</th>\n",
       "      <th>p14apoyos</th>\n",
       "      <th>scian</th>\n",
       "      <th>t_tra</th>\n",
       "      <th>emp_ppal</th>\n",
       "      <th>tue_ppal</th>\n",
       "      <th>trans_ppal</th>\n",
       "      <th>mh_fil2</th>\n",
       "      <th>mh_col</th>\n",
       "      <th>sec_ins</th>\n",
       "    </tr>\n",
       "  </thead>\n",
       "  <tbody>\n",
       "    <tr>\n",
       "      <th>0</th>\n",
       "      <td>0</td>\n",
       "      <td>1</td>\n",
       "      <td>2</td>\n",
       "      <td>10</td>\n",
       "      <td>103</td>\n",
       "      <td>0</td>\n",
       "      <td>1</td>\n",
       "      <td>1</td>\n",
       "      <td>9</td>\n",
       "      <td>40001</td>\n",
       "      <td>...</td>\n",
       "      <td>0</td>\n",
       "      <td>0</td>\n",
       "      <td>5</td>\n",
       "      <td>1</td>\n",
       "      <td>2</td>\n",
       "      <td>2</td>\n",
       "      <td>0</td>\n",
       "      <td>3</td>\n",
       "      <td>2</td>\n",
       "      <td>2</td>\n",
       "    </tr>\n",
       "    <tr>\n",
       "      <th>1</th>\n",
       "      <td>0</td>\n",
       "      <td>1</td>\n",
       "      <td>2</td>\n",
       "      <td>10</td>\n",
       "      <td>103</td>\n",
       "      <td>0</td>\n",
       "      <td>1</td>\n",
       "      <td>1</td>\n",
       "      <td>9</td>\n",
       "      <td>40001</td>\n",
       "      <td>...</td>\n",
       "      <td>0</td>\n",
       "      <td>0</td>\n",
       "      <td>19</td>\n",
       "      <td>1</td>\n",
       "      <td>1</td>\n",
       "      <td>2</td>\n",
       "      <td>0</td>\n",
       "      <td>2</td>\n",
       "      <td>1</td>\n",
       "      <td>9</td>\n",
       "    </tr>\n",
       "    <tr>\n",
       "      <th>2</th>\n",
       "      <td>0</td>\n",
       "      <td>1</td>\n",
       "      <td>2</td>\n",
       "      <td>10</td>\n",
       "      <td>103</td>\n",
       "      <td>0</td>\n",
       "      <td>1</td>\n",
       "      <td>1</td>\n",
       "      <td>9</td>\n",
       "      <td>40001</td>\n",
       "      <td>...</td>\n",
       "      <td>0</td>\n",
       "      <td>0</td>\n",
       "      <td>7</td>\n",
       "      <td>1</td>\n",
       "      <td>2</td>\n",
       "      <td>2</td>\n",
       "      <td>0</td>\n",
       "      <td>3</td>\n",
       "      <td>2</td>\n",
       "      <td>4</td>\n",
       "    </tr>\n",
       "    <tr>\n",
       "      <th>3</th>\n",
       "      <td>0</td>\n",
       "      <td>1</td>\n",
       "      <td>2</td>\n",
       "      <td>10</td>\n",
       "      <td>103</td>\n",
       "      <td>0</td>\n",
       "      <td>1</td>\n",
       "      <td>1</td>\n",
       "      <td>9</td>\n",
       "      <td>40001</td>\n",
       "      <td>...</td>\n",
       "      <td>0</td>\n",
       "      <td>0</td>\n",
       "      <td>0</td>\n",
       "      <td>1</td>\n",
       "      <td>0</td>\n",
       "      <td>0</td>\n",
       "      <td>0</td>\n",
       "      <td>0</td>\n",
       "      <td>0</td>\n",
       "      <td>0</td>\n",
       "    </tr>\n",
       "    <tr>\n",
       "      <th>4</th>\n",
       "      <td>0</td>\n",
       "      <td>1</td>\n",
       "      <td>2</td>\n",
       "      <td>10</td>\n",
       "      <td>103</td>\n",
       "      <td>0</td>\n",
       "      <td>1</td>\n",
       "      <td>1</td>\n",
       "      <td>9</td>\n",
       "      <td>40001</td>\n",
       "      <td>...</td>\n",
       "      <td>0</td>\n",
       "      <td>0</td>\n",
       "      <td>7</td>\n",
       "      <td>1</td>\n",
       "      <td>2</td>\n",
       "      <td>2</td>\n",
       "      <td>0</td>\n",
       "      <td>3</td>\n",
       "      <td>8</td>\n",
       "      <td>4</td>\n",
       "    </tr>\n",
       "  </tbody>\n",
       "</table>\n",
       "<p>5 rows × 104 columns</p>\n",
       "</div>"
      ],
      "text/plain": [
       "   r_def  loc  mun  est  est_d  ageb  t_loc  cd_a  ent    con   ...     \\\n",
       "0      0    1    2   10    103     0      1     1    9  40001   ...      \n",
       "1      0    1    2   10    103     0      1     1    9  40001   ...      \n",
       "2      0    1    2   10    103     0      1     1    9  40001   ...      \n",
       "3      0    1    2   10    103     0      1     1    9  40001   ...      \n",
       "4      0    1    2   10    103     0      1     1    9  40001   ...      \n",
       "\n",
       "   ma48me1sm  p14apoyos  scian  t_tra  emp_ppal  tue_ppal  trans_ppal  \\\n",
       "0          0          0      5      1         2         2           0   \n",
       "1          0          0     19      1         1         2           0   \n",
       "2          0          0      7      1         2         2           0   \n",
       "3          0          0      0      1         0         0           0   \n",
       "4          0          0      7      1         2         2           0   \n",
       "\n",
       "   mh_fil2  mh_col  sec_ins  \n",
       "0        3       2        2  \n",
       "1        2       1        9  \n",
       "2        3       2        4  \n",
       "3        0       0        0  \n",
       "4        3       8        4  \n",
       "\n",
       "[5 rows x 104 columns]"
      ]
     },
     "execution_count": 15,
     "metadata": {},
     "output_type": "execute_result"
    }
   ],
   "source": [
    "df_sdemt115.head()"
   ]
  },
  {
   "cell_type": "code",
   "execution_count": 16,
   "metadata": {},
   "outputs": [],
   "source": [
    "df_sdemt115_cdmx = df_sdemt115[(df_sdemt115['ent'] == 9)]"
   ]
  },
  {
   "cell_type": "code",
   "execution_count": 17,
   "metadata": {},
   "outputs": [
    {
     "data": {
      "text/plain": [
       "(9598, 104)"
      ]
     },
     "execution_count": 17,
     "metadata": {},
     "output_type": "execute_result"
    }
   ],
   "source": [
    "df_sdemt115_cdmx.shape"
   ]
  },
  {
   "cell_type": "code",
   "execution_count": 18,
   "metadata": {},
   "outputs": [
    {
     "name": "stderr",
     "output_type": "stream",
     "text": [
      "C:\\Users\\aniit\\Anaconda3\\lib\\site-packages\\ipykernel_launcher.py:1: SettingWithCopyWarning: \n",
      "A value is trying to be set on a copy of a slice from a DataFrame.\n",
      "Try using .loc[row_indexer,col_indexer] = value instead\n",
      "\n",
      "See the caveats in the documentation: http://pandas.pydata.org/pandas-docs/stable/indexing.html#indexing-view-versus-copy\n",
      "  \"\"\"Entry point for launching an IPython kernel.\n"
     ]
    }
   ],
   "source": [
    "df_sdemt115_cdmx['id'] = df_sdemt115_cdmx.cd_a + df_sdemt115_cdmx.ent + df_sdemt115_cdmx.con + df_sdemt115_cdmx.v_sel + df_sdemt115_cdmx.n_hog + df_sdemt115_cdmx.h_mud + df_sdemt115_cdmx.n_ren"
   ]
  },
  {
   "cell_type": "code",
   "execution_count": 19,
   "metadata": {},
   "outputs": [
    {
     "data": {
      "text/plain": [
       "677"
      ]
     },
     "execution_count": 19,
     "metadata": {},
     "output_type": "execute_result"
    }
   ],
   "source": [
    "df_sdemt115_cdmx.id.nunique()"
   ]
  },
  {
   "cell_type": "code",
   "execution_count": 20,
   "metadata": {},
   "outputs": [],
   "source": [
    "df_sdemt115_cdmx = df_sdemt115_cdmx[['id', 'mun', 'loc']]"
   ]
  },
  {
   "cell_type": "code",
   "execution_count": 21,
   "metadata": {},
   "outputs": [
    {
     "data": {
      "text/plain": [
       "(9598, 3)"
      ]
     },
     "execution_count": 21,
     "metadata": {},
     "output_type": "execute_result"
    }
   ],
   "source": [
    "df_sdemt115_cdmx.shape"
   ]
  },
  {
   "cell_type": "code",
   "execution_count": 22,
   "metadata": {},
   "outputs": [
    {
     "data": {
      "text/html": [
       "<div>\n",
       "<style scoped>\n",
       "    .dataframe tbody tr th:only-of-type {\n",
       "        vertical-align: middle;\n",
       "    }\n",
       "\n",
       "    .dataframe tbody tr th {\n",
       "        vertical-align: top;\n",
       "    }\n",
       "\n",
       "    .dataframe thead th {\n",
       "        text-align: right;\n",
       "    }\n",
       "</style>\n",
       "<table border=\"1\" class=\"dataframe\">\n",
       "  <thead>\n",
       "    <tr style=\"text-align: right;\">\n",
       "      <th></th>\n",
       "      <th>id</th>\n",
       "      <th>mun</th>\n",
       "      <th>loc</th>\n",
       "    </tr>\n",
       "  </thead>\n",
       "  <tbody>\n",
       "    <tr>\n",
       "      <th>0</th>\n",
       "      <td>40014</td>\n",
       "      <td>2</td>\n",
       "      <td>1</td>\n",
       "    </tr>\n",
       "    <tr>\n",
       "      <th>1</th>\n",
       "      <td>40015</td>\n",
       "      <td>2</td>\n",
       "      <td>1</td>\n",
       "    </tr>\n",
       "    <tr>\n",
       "      <th>2</th>\n",
       "      <td>40016</td>\n",
       "      <td>2</td>\n",
       "      <td>1</td>\n",
       "    </tr>\n",
       "    <tr>\n",
       "      <th>3</th>\n",
       "      <td>40017</td>\n",
       "      <td>2</td>\n",
       "      <td>1</td>\n",
       "    </tr>\n",
       "    <tr>\n",
       "      <th>4</th>\n",
       "      <td>40015</td>\n",
       "      <td>2</td>\n",
       "      <td>1</td>\n",
       "    </tr>\n",
       "  </tbody>\n",
       "</table>\n",
       "</div>"
      ],
      "text/plain": [
       "      id  mun  loc\n",
       "0  40014    2    1\n",
       "1  40015    2    1\n",
       "2  40016    2    1\n",
       "3  40017    2    1\n",
       "4  40015    2    1"
      ]
     },
     "execution_count": 22,
     "metadata": {},
     "output_type": "execute_result"
    }
   ],
   "source": [
    "df_sdemt115_cdmx.head()"
   ]
  },
  {
   "cell_type": "code",
   "execution_count": 23,
   "metadata": {},
   "outputs": [],
   "source": [
    "df_sdemt115_cdmx_copy = df_sdemt115_cdmx.copy()"
   ]
  },
  {
   "cell_type": "markdown",
   "metadata": {},
   "source": [
    "## Recovery location"
   ]
  },
  {
   "cell_type": "code",
   "execution_count": 24,
   "metadata": {},
   "outputs": [],
   "source": [
    "df_coe1t115_cdmx_copy.drop_duplicates(inplace=True)"
   ]
  },
  {
   "cell_type": "code",
   "execution_count": 25,
   "metadata": {},
   "outputs": [],
   "source": [
    "df_sdemt115_cdmx_copy.drop_duplicates(inplace=True)"
   ]
  },
  {
   "cell_type": "code",
   "execution_count": 26,
   "metadata": {},
   "outputs": [],
   "source": [
    "df = pd.merge(left=df_coe1t115_cdmx_copy, right=df_sdemt115_cdmx_copy, on=['id'], how='inner')"
   ]
  },
  {
   "cell_type": "code",
   "execution_count": 27,
   "metadata": {},
   "outputs": [
    {
     "data": {
      "text/html": [
       "<div>\n",
       "<style scoped>\n",
       "    .dataframe tbody tr th:only-of-type {\n",
       "        vertical-align: middle;\n",
       "    }\n",
       "\n",
       "    .dataframe tbody tr th {\n",
       "        vertical-align: top;\n",
       "    }\n",
       "\n",
       "    .dataframe thead th {\n",
       "        text-align: right;\n",
       "    }\n",
       "</style>\n",
       "<table border=\"1\" class=\"dataframe\">\n",
       "  <thead>\n",
       "    <tr style=\"text-align: right;\">\n",
       "      <th></th>\n",
       "      <th>r_def</th>\n",
       "      <th>cd_a</th>\n",
       "      <th>ent</th>\n",
       "      <th>con</th>\n",
       "      <th>upm</th>\n",
       "      <th>d_sem</th>\n",
       "      <th>n_pro_viv</th>\n",
       "      <th>v_sel</th>\n",
       "      <th>n_hog</th>\n",
       "      <th>h_mud</th>\n",
       "      <th>...</th>\n",
       "      <th>p5f12</th>\n",
       "      <th>p5f13</th>\n",
       "      <th>p5f14</th>\n",
       "      <th>p5f15</th>\n",
       "      <th>p5f99</th>\n",
       "      <th>ur</th>\n",
       "      <th>fac</th>\n",
       "      <th>id</th>\n",
       "      <th>mun</th>\n",
       "      <th>loc</th>\n",
       "    </tr>\n",
       "  </thead>\n",
       "  <tbody>\n",
       "    <tr>\n",
       "      <th>0</th>\n",
       "      <td>0</td>\n",
       "      <td>1</td>\n",
       "      <td>9</td>\n",
       "      <td>40001</td>\n",
       "      <td>900471</td>\n",
       "      <td>101</td>\n",
       "      <td>15</td>\n",
       "      <td>1</td>\n",
       "      <td>1</td>\n",
       "      <td>0</td>\n",
       "      <td>...</td>\n",
       "      <td>NaN</td>\n",
       "      <td>NaN</td>\n",
       "      <td>14.0</td>\n",
       "      <td>NaN</td>\n",
       "      <td>NaN</td>\n",
       "      <td>1</td>\n",
       "      <td>426</td>\n",
       "      <td>40014</td>\n",
       "      <td>2</td>\n",
       "      <td>1</td>\n",
       "    </tr>\n",
       "    <tr>\n",
       "      <th>1</th>\n",
       "      <td>0</td>\n",
       "      <td>1</td>\n",
       "      <td>9</td>\n",
       "      <td>40001</td>\n",
       "      <td>900471</td>\n",
       "      <td>101</td>\n",
       "      <td>15</td>\n",
       "      <td>1</td>\n",
       "      <td>1</td>\n",
       "      <td>0</td>\n",
       "      <td>...</td>\n",
       "      <td>NaN</td>\n",
       "      <td>NaN</td>\n",
       "      <td>14.0</td>\n",
       "      <td>NaN</td>\n",
       "      <td>NaN</td>\n",
       "      <td>1</td>\n",
       "      <td>426</td>\n",
       "      <td>40015</td>\n",
       "      <td>2</td>\n",
       "      <td>1</td>\n",
       "    </tr>\n",
       "    <tr>\n",
       "      <th>2</th>\n",
       "      <td>0</td>\n",
       "      <td>1</td>\n",
       "      <td>9</td>\n",
       "      <td>40001</td>\n",
       "      <td>900471</td>\n",
       "      <td>101</td>\n",
       "      <td>38</td>\n",
       "      <td>2</td>\n",
       "      <td>1</td>\n",
       "      <td>0</td>\n",
       "      <td>...</td>\n",
       "      <td>NaN</td>\n",
       "      <td>NaN</td>\n",
       "      <td>14.0</td>\n",
       "      <td>NaN</td>\n",
       "      <td>NaN</td>\n",
       "      <td>1</td>\n",
       "      <td>426</td>\n",
       "      <td>40015</td>\n",
       "      <td>2</td>\n",
       "      <td>1</td>\n",
       "    </tr>\n",
       "    <tr>\n",
       "      <th>3</th>\n",
       "      <td>0</td>\n",
       "      <td>1</td>\n",
       "      <td>9</td>\n",
       "      <td>40002</td>\n",
       "      <td>900821</td>\n",
       "      <td>101</td>\n",
       "      <td>24</td>\n",
       "      <td>1</td>\n",
       "      <td>1</td>\n",
       "      <td>0</td>\n",
       "      <td>...</td>\n",
       "      <td>NaN</td>\n",
       "      <td>NaN</td>\n",
       "      <td>NaN</td>\n",
       "      <td>NaN</td>\n",
       "      <td>NaN</td>\n",
       "      <td>1</td>\n",
       "      <td>833</td>\n",
       "      <td>40015</td>\n",
       "      <td>2</td>\n",
       "      <td>1</td>\n",
       "    </tr>\n",
       "    <tr>\n",
       "      <th>4</th>\n",
       "      <td>0</td>\n",
       "      <td>1</td>\n",
       "      <td>9</td>\n",
       "      <td>40001</td>\n",
       "      <td>900471</td>\n",
       "      <td>101</td>\n",
       "      <td>15</td>\n",
       "      <td>1</td>\n",
       "      <td>1</td>\n",
       "      <td>0</td>\n",
       "      <td>...</td>\n",
       "      <td>NaN</td>\n",
       "      <td>NaN</td>\n",
       "      <td>14.0</td>\n",
       "      <td>NaN</td>\n",
       "      <td>NaN</td>\n",
       "      <td>1</td>\n",
       "      <td>426</td>\n",
       "      <td>40016</td>\n",
       "      <td>2</td>\n",
       "      <td>1</td>\n",
       "    </tr>\n",
       "  </tbody>\n",
       "</table>\n",
       "<p>5 rows × 172 columns</p>\n",
       "</div>"
      ],
      "text/plain": [
       "   r_def  cd_a  ent    con     upm  d_sem  n_pro_viv  v_sel  n_hog  h_mud ...  \\\n",
       "0      0     1    9  40001  900471    101         15      1      1      0 ...   \n",
       "1      0     1    9  40001  900471    101         15      1      1      0 ...   \n",
       "2      0     1    9  40001  900471    101         38      2      1      0 ...   \n",
       "3      0     1    9  40002  900821    101         24      1      1      0 ...   \n",
       "4      0     1    9  40001  900471    101         15      1      1      0 ...   \n",
       "\n",
       "   p5f12  p5f13  p5f14  p5f15  p5f99  ur  fac     id mun loc  \n",
       "0    NaN    NaN   14.0    NaN    NaN   1  426  40014   2   1  \n",
       "1    NaN    NaN   14.0    NaN    NaN   1  426  40015   2   1  \n",
       "2    NaN    NaN   14.0    NaN    NaN   1  426  40015   2   1  \n",
       "3    NaN    NaN    NaN    NaN    NaN   1  833  40015   2   1  \n",
       "4    NaN    NaN   14.0    NaN    NaN   1  426  40016   2   1  \n",
       "\n",
       "[5 rows x 172 columns]"
      ]
     },
     "execution_count": 27,
     "metadata": {},
     "output_type": "execute_result"
    }
   ],
   "source": [
    "df.head()"
   ]
  },
  {
   "cell_type": "code",
   "execution_count": 28,
   "metadata": {},
   "outputs": [
    {
     "data": {
      "text/plain": [
       "(49034, 172)"
      ]
     },
     "execution_count": 28,
     "metadata": {},
     "output_type": "execute_result"
    }
   ],
   "source": [
    "df.shape"
   ]
  },
  {
   "cell_type": "code",
   "execution_count": 29,
   "metadata": {},
   "outputs": [
    {
     "data": {
      "text/plain": [
       "677"
      ]
     },
     "execution_count": 29,
     "metadata": {},
     "output_type": "execute_result"
    }
   ],
   "source": [
    "df.id.nunique()"
   ]
  },
  {
   "cell_type": "code",
   "execution_count": 30,
   "metadata": {},
   "outputs": [
    {
     "data": {
      "text/plain": [
       "(313877, 169)"
      ]
     },
     "execution_count": 30,
     "metadata": {},
     "output_type": "execute_result"
    }
   ],
   "source": [
    "df_coe1t115.shape"
   ]
  },
  {
   "cell_type": "code",
   "execution_count": 31,
   "metadata": {},
   "outputs": [],
   "source": [
    "df_copy = df.copy()"
   ]
  },
  {
   "cell_type": "markdown",
   "metadata": {},
   "source": [
    "## Check NA"
   ]
  },
  {
   "cell_type": "code",
   "execution_count": 32,
   "metadata": {},
   "outputs": [
    {
     "data": {
      "text/plain": [
       "True"
      ]
     },
     "execution_count": 32,
     "metadata": {},
     "output_type": "execute_result"
    }
   ],
   "source": [
    "df_copy.isnull().any().any()"
   ]
  },
  {
   "cell_type": "code",
   "execution_count": 33,
   "metadata": {},
   "outputs": [
    {
     "data": {
      "text/plain": [
       "Index(['p1c', 'p2a_dia', 'p2a_mes', 'p2a_anio', 'p2b_dia', 'p2b_mes',\n",
       "       'p2b_anio', 'p2d1', 'p2d2', 'p2d3', 'p2d4', 'p2d5', 'p2d6', 'p2d7',\n",
       "       'p2d8', 'p2d9', 'p2d10', 'p2d11', 'p2d99', 'p2g2', 'p2k_anio',\n",
       "       'p2k_mes', 'p3', 'p3f2', 'p3g1_2', 'p3g2_2', 'p3g3_2', 'p3g4_2',\n",
       "       'p3g_tot', 'p3l', 'p4a', 'p4f', 'p5b_hlu', 'p5b_mlu', 'p5b_hma',\n",
       "       'p5b_mma', 'p5b_hmi', 'p5b_mmi', 'p5b_hju', 'p5b_mju', 'p5b_hvi',\n",
       "       'p5b_mvi', 'p5b_hsa', 'p5b_msa', 'p5b_hdo', 'p5b_mdo', 'p5b_thrs',\n",
       "       'p5d_hlu', 'p5d_mlu', 'p5d_hma', 'p5d_mma', 'p5d_hmi', 'p5d_mmi',\n",
       "       'p5d_hju', 'p5d_mju', 'p5d_hvi', 'p5d_mvi', 'p5d_hsa', 'p5d_msa',\n",
       "       'p5d_hdo', 'p5d_mdo', 'p5d_thrs', 'p5e', 'p5f1', 'p5f2', 'p5f3', 'p5f4',\n",
       "       'p5f5', 'p5f6', 'p5f7', 'p5f8', 'p5f9', 'p5f10', 'p5f11', 'p5f12',\n",
       "       'p5f13', 'p5f14', 'p5f15', 'p5f99'],\n",
       "      dtype='object')"
      ]
     },
     "execution_count": 33,
     "metadata": {},
     "output_type": "execute_result"
    }
   ],
   "source": [
    "df_copy.columns[df_copy.isnull().any()]"
   ]
  },
  {
   "cell_type": "code",
   "execution_count": 34,
   "metadata": {},
   "outputs": [
    {
     "data": {
      "text/plain": [
       "49034"
      ]
     },
     "execution_count": 34,
     "metadata": {},
     "output_type": "execute_result"
    }
   ],
   "source": [
    "len(pd.isnull(df_copy).any(1).nonzero()[0].tolist())"
   ]
  },
  {
   "cell_type": "code",
   "execution_count": 35,
   "metadata": {},
   "outputs": [],
   "source": [
    "df_copy.replace(to_replace=' ', value=np.NaN, inplace=True)"
   ]
  },
  {
   "cell_type": "code",
   "execution_count": 36,
   "metadata": {},
   "outputs": [
    {
     "data": {
      "text/plain": [
       "<matplotlib.axes._subplots.AxesSubplot at 0x1f7d5a9beb8>"
      ]
     },
     "execution_count": 36,
     "metadata": {},
     "output_type": "execute_result"
    },
    {
     "data": {
      "image/png": "[encoded data removed]",
      "text/plain": [
       "<Figure size 1728x720 with 2 Axes>"
      ]
     },
     "metadata": {
      "needs_background": "light"
     },
     "output_type": "display_data"
    }
   ],
   "source": [
    "msno.bar(df_copy)"
   ]
  },
  {
   "cell_type": "code",
   "execution_count": 37,
   "metadata": {},
   "outputs": [],
   "source": [
    "df_copy.fillna(value=-1, inplace=True)"
   ]
  },
  {
   "cell_type": "code",
   "execution_count": 38,
   "metadata": {},
   "outputs": [
    {
     "data": {
      "text/plain": [
       "39227"
      ]
     },
     "execution_count": 38,
     "metadata": {},
     "output_type": "execute_result"
    }
   ],
   "source": [
    "threshold = round(df_copy.shape[0]*.8)\n",
    "threshold"
   ]
  },
  {
   "cell_type": "code",
   "execution_count": 39,
   "metadata": {},
   "outputs": [
    {
     "name": "stdout",
     "output_type": "stream",
     "text": [
      "p1a1 :  102  -  39227\n",
      "p1a1 :  d e l e t e d\n",
      "p1a2 :  78  -  39227\n",
      "p1a2 :  d e l e t e d\n",
      "p1a3 :  22781  -  39227\n",
      "p1a3 :  d e l e t e d\n",
      "p1b :  22781  -  39227\n",
      "p1b :  d e l e t e d\n",
      "p1c :  1279  -  39227\n",
      "p1c :  d e l e t e d\n",
      "p1d :  1255  -  39227\n",
      "p1d :  d e l e t e d\n",
      "p1e :  830  -  39227\n",
      "p1e :  d e l e t e d\n",
      "p2_1 :  11  -  39227\n",
      "p2_1 :  d e l e t e d\n",
      "p2_2 :  1552  -  39227\n",
      "p2_2 :  d e l e t e d\n",
      "p2_3 :  53  -  39227\n",
      "p2_3 :  d e l e t e d\n",
      "p2_4 :  20475  -  39227\n",
      "p2_4 :  d e l e t e d\n",
      "p2_9 :  0  -  39227\n",
      "p2_9 :  d e l e t e d\n",
      "p2a_dia :  1607  -  39227\n",
      "p2a_dia :  d e l e t e d\n",
      "p2a_sem :  325  -  39227\n",
      "p2a_sem :  d e l e t e d\n",
      "p2a_mes :  1607  -  39227\n",
      "p2a_mes :  d e l e t e d\n",
      "p2a_anio :  1607  -  39227\n",
      "p2a_anio :  d e l e t e d\n",
      "p2b_dia :  1607  -  39227\n",
      "p2b_dia :  d e l e t e d\n",
      "p2b_sem :  101  -  39227\n",
      "p2b_sem :  d e l e t e d\n",
      "p2b_mes :  1607  -  39227\n",
      "p2b_mes :  d e l e t e d\n",
      "p2b_anio :  1607  -  39227\n",
      "p2b_anio :  d e l e t e d\n",
      "p2b :  1607  -  39227\n",
      "p2b :  d e l e t e d\n",
      "p2c :  1590  -  39227\n",
      "p2c :  d e l e t e d\n",
      "p2d1 :  865  -  39227\n",
      "p2d1 :  d e l e t e d\n",
      "p2d2 :  74  -  39227\n",
      "p2d2 :  d e l e t e d\n",
      "p2d3 :  35  -  39227\n",
      "p2d3 :  d e l e t e d\n",
      "p2d4 :  20  -  39227\n",
      "p2d4 :  d e l e t e d\n",
      "p2d5 :  40  -  39227\n",
      "p2d5 :  d e l e t e d\n",
      "p2d6 :  471  -  39227\n",
      "p2d6 :  d e l e t e d\n",
      "p2d7 :  123  -  39227\n",
      "p2d7 :  d e l e t e d\n",
      "p2d8 :  0  -  39227\n",
      "p2d8 :  d e l e t e d\n",
      "p2d9 :  151  -  39227\n",
      "p2d9 :  d e l e t e d\n",
      "p2d10 :  17  -  39227\n",
      "p2d10 :  d e l e t e d\n",
      "p2d11 :  0  -  39227\n",
      "p2d11 :  d e l e t e d\n",
      "p2d99 :  41  -  39227\n",
      "p2d99 :  d e l e t e d\n",
      "p2e :  20510  -  39227\n",
      "p2e :  d e l e t e d\n",
      "p2f :  19660  -  39227\n",
      "p2f :  d e l e t e d\n",
      "p2g1 :  4443  -  39227\n",
      "p2g1 :  d e l e t e d\n",
      "p2g2 :  1074  -  39227\n",
      "p2g2 :  d e l e t e d\n",
      "p2h1 :  10824  -  39227\n",
      "p2h1 :  d e l e t e d\n",
      "p2h2 :  810  -  39227\n",
      "p2h2 :  d e l e t e d\n",
      "p2h3 :  105  -  39227\n",
      "p2h3 :  d e l e t e d\n",
      "p2h4 :  10043  -  39227\n",
      "p2h4 :  d e l e t e d\n",
      "p2h9 :  37  -  39227\n",
      "p2h9 :  d e l e t e d\n",
      "p2i :  11504  -  39227\n",
      "p2i :  d e l e t e d\n",
      "p2j :  2386  -  39227\n",
      "p2j :  d e l e t e d\n",
      "p2k_anio :  12002  -  39227\n",
      "p2k_anio :  d e l e t e d\n",
      "p2k_mes :  4043  -  39227\n",
      "p2k_mes :  d e l e t e d\n",
      "p2k :  12002  -  39227\n",
      "p2k :  d e l e t e d\n",
      "p3 :  26952  -  39227\n",
      "p3 :  d e l e t e d\n",
      "p3a :  26952  -  39227\n",
      "p3a :  d e l e t e d\n",
      "p3b :  7123  -  39227\n",
      "p3b :  d e l e t e d\n",
      "p3c1 :  54  -  39227\n",
      "p3c1 :  d e l e t e d\n",
      "p3c2 :  480  -  39227\n",
      "p3c2 :  d e l e t e d\n",
      "p3c3 :  6439  -  39227\n",
      "p3c3 :  d e l e t e d\n",
      "p3c4 :  8  -  39227\n",
      "p3c4 :  d e l e t e d\n",
      "p3c9 :  0  -  39227\n",
      "p3c9 :  d e l e t e d\n",
      "p3d :  6775  -  39227\n",
      "p3d :  d e l e t e d\n",
      "p3e :  1974  -  39227\n",
      "p3e :  d e l e t e d\n",
      "p3f1 :  1974  -  39227\n",
      "p3f1 :  d e l e t e d\n",
      "p3f2 :  46  -  39227\n",
      "p3f2 :  d e l e t e d\n",
      "p3g1_1 :  951  -  39227\n",
      "p3g1_1 :  d e l e t e d\n",
      "p3g1_2 :  951  -  39227\n",
      "p3g1_2 :  d e l e t e d\n",
      "p3g2_1 :  641  -  39227\n",
      "p3g2_1 :  d e l e t e d\n",
      "p3g2_2 :  641  -  39227\n",
      "p3g2_2 :  d e l e t e d\n",
      "p3g3_1 :  598  -  39227\n",
      "p3g3_1 :  d e l e t e d\n",
      "p3g3_2 :  598  -  39227\n",
      "p3g3_2 :  d e l e t e d\n",
      "p3g4_1 :  0  -  39227\n",
      "p3g4_1 :  d e l e t e d\n",
      "p3g4_2 :  0  -  39227\n",
      "p3g4_2 :  d e l e t e d\n",
      "p3g9 :  15  -  39227\n",
      "p3g9 :  d e l e t e d\n",
      "p3g_tot :  1959  -  39227\n",
      "p3g_tot :  d e l e t e d\n",
      "p3h :  20177  -  39227\n",
      "p3h :  d e l e t e d\n",
      "p3i :  19349  -  39227\n",
      "p3i :  d e l e t e d\n",
      "p3j1 :  11491  -  39227\n",
      "p3j1 :  d e l e t e d\n",
      "p3j2 :  1995  -  39227\n",
      "p3j2 :  d e l e t e d\n",
      "p3k1 :  11991  -  39227\n",
      "p3k1 :  d e l e t e d\n",
      "p3k2 :  10501  -  39227\n",
      "p3k2 :  d e l e t e d\n",
      "p3k3 :  2102  -  39227\n",
      "p3k3 :  d e l e t e d\n",
      "p3k4 :  126  -  39227\n",
      "p3k4 :  d e l e t e d\n",
      "p3k5 :  6927  -  39227\n",
      "p3k5 :  d e l e t e d\n",
      "p3k9 :  71  -  39227\n",
      "p3k9 :  d e l e t e d\n",
      "p3l :  20177  -  39227\n",
      "p3l :  d e l e t e d\n",
      "p4 :  26952  -  39227\n",
      "p4 :  d e l e t e d\n",
      "p4_1 :  4661  -  39227\n",
      "p4_1 :  d e l e t e d\n",
      "p4_2 :  4661  -  39227\n",
      "p4_2 :  d e l e t e d\n",
      "p4_3 :  7827  -  39227\n",
      "p4_3 :  d e l e t e d\n",
      "p4a :  26952  -  39227\n",
      "p4a :  d e l e t e d\n",
      "p4a_1 :  26952  -  39227\n",
      "p4a_1 :  d e l e t e d\n",
      "p4b :  25299  -  39227\n",
      "p4b :  d e l e t e d\n",
      "p4c :  20212  -  39227\n",
      "p4c :  d e l e t e d\n",
      "p4d1 :  4702  -  39227\n",
      "p4d1 :  d e l e t e d\n",
      "p4d2 :  4702  -  39227\n",
      "p4d2 :  d e l e t e d\n",
      "p4d3 :  12177  -  39227\n",
      "p4d3 :  d e l e t e d\n",
      "p4e :  12705  -  39227\n",
      "p4e :  d e l e t e d\n",
      "p4f :  7085  -  39227\n",
      "p4f :  d e l e t e d\n",
      "p4g :  12385  -  39227\n",
      "p4g :  d e l e t e d\n",
      "p4h :  7827  -  39227\n",
      "p4h :  d e l e t e d\n",
      "p4i :  7827  -  39227\n",
      "p4i :  d e l e t e d\n",
      "p4i_1 :  7827  -  39227\n",
      "p4i_1 :  d e l e t e d\n",
      "p5 :  26952  -  39227\n",
      "p5 :  d e l e t e d\n",
      "p5a :  2328  -  39227\n",
      "p5a :  d e l e t e d\n",
      "p5b_hlu :  26253  -  39227\n",
      "p5b_hlu :  d e l e t e d\n",
      "p5b_mlu :  26253  -  39227\n",
      "p5b_mlu :  d e l e t e d\n",
      "p5b_hma :  26253  -  39227\n",
      "p5b_hma :  d e l e t e d\n",
      "p5b_mma :  26253  -  39227\n",
      "p5b_mma :  d e l e t e d\n",
      "p5b_hmi :  26253  -  39227\n",
      "p5b_hmi :  d e l e t e d\n",
      "p5b_mmi :  26253  -  39227\n",
      "p5b_mmi :  d e l e t e d\n",
      "p5b_hju :  26253  -  39227\n",
      "p5b_hju :  d e l e t e d\n",
      "p5b_mju :  26253  -  39227\n",
      "p5b_mju :  d e l e t e d\n",
      "p5b_hvi :  26253  -  39227\n",
      "p5b_hvi :  d e l e t e d\n",
      "p5b_mvi :  26253  -  39227\n",
      "p5b_mvi :  d e l e t e d\n",
      "p5b_hsa :  26253  -  39227\n",
      "p5b_hsa :  d e l e t e d\n",
      "p5b_msa :  26253  -  39227\n",
      "p5b_msa :  d e l e t e d\n",
      "p5b_hdo :  26253  -  39227\n",
      "p5b_hdo :  d e l e t e d\n",
      "p5b_mdo :  26253  -  39227\n",
      "p5b_mdo :  d e l e t e d\n",
      "p5b_thrs :  26253  -  39227\n",
      "p5b_thrs :  d e l e t e d\n",
      "p5b_tdia :  26253  -  39227\n",
      "p5b_tdia :  d e l e t e d\n",
      "p5c :  26253  -  39227\n",
      "p5c :  d e l e t e d\n",
      "p5d1 :  5036  -  39227\n",
      "p5d1 :  d e l e t e d\n",
      "p5d_hlu :  2915  -  39227\n",
      "p5d_hlu :  d e l e t e d\n",
      "p5d_mlu :  2915  -  39227\n",
      "p5d_mlu :  d e l e t e d\n",
      "p5d_hma :  2915  -  39227\n",
      "p5d_hma :  d e l e t e d\n",
      "p5d_mma :  2915  -  39227\n",
      "p5d_mma :  d e l e t e d\n",
      "p5d_hmi :  2915  -  39227\n",
      "p5d_hmi :  d e l e t e d\n",
      "p5d_mmi :  2915  -  39227\n",
      "p5d_mmi :  d e l e t e d\n",
      "p5d_hju :  2915  -  39227\n",
      "p5d_hju :  d e l e t e d\n",
      "p5d_mju :  2915  -  39227\n",
      "p5d_mju :  d e l e t e d\n",
      "p5d_hvi :  2915  -  39227\n",
      "p5d_hvi :  d e l e t e d\n",
      "p5d_mvi :  2915  -  39227\n",
      "p5d_mvi :  d e l e t e d\n",
      "p5d_hsa :  2915  -  39227\n",
      "p5d_hsa :  d e l e t e d\n",
      "p5d_msa :  2915  -  39227\n",
      "p5d_msa :  d e l e t e d\n",
      "p5d_hdo :  2915  -  39227\n",
      "p5d_hdo :  d e l e t e d\n",
      "p5d_mdo :  2915  -  39227\n",
      "p5d_mdo :  d e l e t e d\n",
      "p5d_thrs :  2915  -  39227\n",
      "p5d_thrs :  d e l e t e d\n",
      "p5d_tdia :  2915  -  39227\n",
      "p5d_tdia :  d e l e t e d\n",
      "p5e :  2262  -  39227\n",
      "p5e :  d e l e t e d\n",
      "p5f1 :  0  -  39227\n",
      "p5f1 :  d e l e t e d\n",
      "p5f2 :  0  -  39227\n",
      "p5f2 :  d e l e t e d\n",
      "p5f3 :  6  -  39227\n",
      "p5f3 :  d e l e t e d\n",
      "p5f4 :  20  -  39227\n",
      "p5f4 :  d e l e t e d\n",
      "p5f5 :  13  -  39227\n",
      "p5f5 :  d e l e t e d\n",
      "p5f6 :  0  -  39227\n",
      "p5f6 :  d e l e t e d\n",
      "p5f7 :  7  -  39227\n",
      "p5f7 :  d e l e t e d\n",
      "p5f8 :  0  -  39227\n",
      "p5f8 :  d e l e t e d\n",
      "p5f9 :  0  -  39227\n",
      "p5f9 :  d e l e t e d\n",
      "p5f10 :  0  -  39227\n",
      "p5f10 :  d e l e t e d\n",
      "p5f11 :  0  -  39227\n",
      "p5f11 :  d e l e t e d\n",
      "p5f12 :  0  -  39227\n",
      "p5f12 :  d e l e t e d\n",
      "p5f13 :  12  -  39227\n",
      "p5f13 :  d e l e t e d\n",
      "p5f14 :  24730  -  39227\n",
      "p5f14 :  d e l e t e d\n",
      "p5f15 :  2183  -  39227\n",
      "p5f15 :  d e l e t e d\n",
      "p5f99 :  0  -  39227\n",
      "p5f99 :  d e l e t e d\n"
     ]
    }
   ],
   "source": [
    "l = []\n",
    "for column in df_copy.columns:\n",
    "    na_column =  df_copy[column].value_counts().get(-1)\n",
    "    if(na_column != None):\n",
    "        print(column, ': ', df_copy.shape[0] - na_column, ' - ', threshold)\n",
    "        if (df_copy.shape[0] - na_column < threshold):\n",
    "            print(column, ': ', 'd e l e t e d')\n",
    "            l.append(column)"
   ]
  },
  {
   "cell_type": "code",
   "execution_count": 40,
   "metadata": {},
   "outputs": [
    {
     "data": {
      "text/plain": [
       "151"
      ]
     },
     "execution_count": 40,
     "metadata": {},
     "output_type": "execute_result"
    }
   ],
   "source": [
    "len(l)"
   ]
  },
  {
   "cell_type": "code",
   "execution_count": 41,
   "metadata": {},
   "outputs": [],
   "source": [
    "df_copy.drop(labels=l, axis=1, inplace=True)"
   ]
  },
  {
   "cell_type": "code",
   "execution_count": 42,
   "metadata": {},
   "outputs": [],
   "source": [
    "df_copy.replace(to_replace=-1, value=np.NaN, inplace=True)"
   ]
  },
  {
   "cell_type": "code",
   "execution_count": 43,
   "metadata": {},
   "outputs": [
    {
     "data": {
      "text/plain": [
       "<matplotlib.axes._subplots.AxesSubplot at 0x1f7817b14e0>"
      ]
     },
     "execution_count": 43,
     "metadata": {},
     "output_type": "execute_result"
    },
    {
     "data": {
      "image/png": "[encoded data removed]",
      "text/plain": [
       "<Figure size 1800x720 with 2 Axes>"
      ]
     },
     "metadata": {
      "needs_background": "light"
     },
     "output_type": "display_data"
    }
   ],
   "source": [
    "msno.matrix(df_copy)"
   ]
  },
  {
   "cell_type": "code",
   "execution_count": 44,
   "metadata": {},
   "outputs": [
    {
     "data": {
      "text/plain": [
       "False"
      ]
     },
     "execution_count": 44,
     "metadata": {},
     "output_type": "execute_result"
    }
   ],
   "source": [
    "df_copy.isnull().any().any()"
   ]
  },
  {
   "cell_type": "code",
   "execution_count": 45,
   "metadata": {},
   "outputs": [
    {
     "data": {
      "text/plain": [
       "(49034, 21)"
      ]
     },
     "execution_count": 45,
     "metadata": {},
     "output_type": "execute_result"
    }
   ],
   "source": [
    "df_copy.shape"
   ]
  },
  {
   "cell_type": "code",
   "execution_count": 46,
   "metadata": {},
   "outputs": [],
   "source": [
    "file = \"../../dataframes/enoe/coe1t215_clean.csv\""
   ]
  },
  {
   "cell_type": "code",
   "execution_count": 47,
   "metadata": {},
   "outputs": [],
   "source": [
    "df_copy.to_csv(file)"
   ]
  },
  {
   "cell_type": "code",
   "execution_count": null,
   "metadata": {},
   "outputs": [],
   "source": []
  }
 ],
 "metadata": {
  "kernelspec": {
   "display_name": "Python 3",
   "language": "python",
   "name": "python3"
  },
  "language_info": {
   "codemirror_mode": {
    "name": "ipython",
    "version": 3
   },
   "file_extension": ".py",
   "mimetype": "text/x-python",
   "name": "python",
   "nbconvert_exporter": "python",
   "pygments_lexer": "ipython3",
   "version": "3.7.0"
  }
 },
 "nbformat": 4,
 "nbformat_minor": 2
}
