{
 "cells": [
  {
   "cell_type": "markdown",
   "metadata": {},
   "source": []
  },
  {
   "cell_type": "code",
   "execution_count": 1,
   "metadata": {},
   "outputs": [],
   "source": [
    "import pandas as pd\n",
    "import missingno as msno\n",
    "import numpy as np\n",
    "%matplotlib inline"
   ]
  },
  {
   "cell_type": "markdown",
   "metadata": {},
   "source": [
    "## coe2t215"
   ]
  },
  {
   "cell_type": "code",
   "execution_count": 2,
   "metadata": {},
   "outputs": [],
   "source": [
    "file = \"../../data/enoe/2015trim2_csv/coe2t215.CSV\""
   ]
  },
  {
   "cell_type": "code",
   "execution_count": 3,
   "metadata": {},
   "outputs": [],
   "source": [
    "df_coe1t115 = pd.read_csv(file)"
   ]
  },
  {
   "cell_type": "code",
   "execution_count": 4,
   "metadata": {},
   "outputs": [
    {
     "data": {
      "text/plain": [
       "(313877, 70)"
      ]
     },
     "execution_count": 4,
     "metadata": {},
     "output_type": "execute_result"
    }
   ],
   "source": [
    "df_coe1t115.shape"
   ]
  },
  {
   "cell_type": "code",
   "execution_count": 5,
   "metadata": {},
   "outputs": [],
   "source": [
    "df_coe1t115_cdmx = df_coe1t115[(df_coe1t115['ent'] == 9)]"
   ]
  },
  {
   "cell_type": "code",
   "execution_count": 6,
   "metadata": {},
   "outputs": [
    {
     "data": {
      "text/plain": [
       "(7942, 70)"
      ]
     },
     "execution_count": 6,
     "metadata": {},
     "output_type": "execute_result"
    }
   ],
   "source": [
    "df_coe1t115_cdmx.shape"
   ]
  },
  {
   "cell_type": "code",
   "execution_count": 7,
   "metadata": {},
   "outputs": [
    {
     "name": "stderr",
     "output_type": "stream",
     "text": [
      "C:\\Users\\aniit\\Anaconda3\\lib\\site-packages\\ipykernel_launcher.py:1: SettingWithCopyWarning: \n",
      "A value is trying to be set on a copy of a slice from a DataFrame.\n",
      "Try using .loc[row_indexer,col_indexer] = value instead\n",
      "\n",
      "See the caveats in the documentation: http://pandas.pydata.org/pandas-docs/stable/indexing.html#indexing-view-versus-copy\n",
      "  \"\"\"Entry point for launching an IPython kernel.\n"
     ]
    }
   ],
   "source": [
    "df_coe1t115_cdmx['id'] = df_coe1t115_cdmx.cd_a + df_coe1t115_cdmx.ent + df_coe1t115_cdmx.con + df_coe1t115_cdmx.v_sel + df_coe1t115_cdmx.n_hog + df_coe1t115_cdmx.h_mud + df_coe1t115_cdmx.n_ren"
   ]
  },
  {
   "cell_type": "code",
   "execution_count": 8,
   "metadata": {},
   "outputs": [
    {
     "data": {
      "text/html": [
       "<div>\n",
       "<style scoped>\n",
       "    .dataframe tbody tr th:only-of-type {\n",
       "        vertical-align: middle;\n",
       "    }\n",
       "\n",
       "    .dataframe tbody tr th {\n",
       "        vertical-align: top;\n",
       "    }\n",
       "\n",
       "    .dataframe thead th {\n",
       "        text-align: right;\n",
       "    }\n",
       "</style>\n",
       "<table border=\"1\" class=\"dataframe\">\n",
       "  <thead>\n",
       "    <tr style=\"text-align: right;\">\n",
       "      <th></th>\n",
       "      <th>cd_a</th>\n",
       "      <th>ent</th>\n",
       "      <th>con</th>\n",
       "      <th>upm</th>\n",
       "      <th>d_sem</th>\n",
       "      <th>n_pro_viv</th>\n",
       "      <th>v_sel</th>\n",
       "      <th>n_hog</th>\n",
       "      <th>h_mud</th>\n",
       "      <th>n_ent</th>\n",
       "      <th>...</th>\n",
       "      <th>p9_m6</th>\n",
       "      <th>p9_7</th>\n",
       "      <th>p9_h7</th>\n",
       "      <th>p9_m7</th>\n",
       "      <th>p9_8</th>\n",
       "      <th>p9_h8</th>\n",
       "      <th>p9_m8</th>\n",
       "      <th>ur</th>\n",
       "      <th>fac</th>\n",
       "      <th>id</th>\n",
       "    </tr>\n",
       "  </thead>\n",
       "  <tbody>\n",
       "    <tr>\n",
       "      <th>0</th>\n",
       "      <td>1</td>\n",
       "      <td>9</td>\n",
       "      <td>40001</td>\n",
       "      <td>900471</td>\n",
       "      <td>101</td>\n",
       "      <td>15</td>\n",
       "      <td>1</td>\n",
       "      <td>1</td>\n",
       "      <td>0</td>\n",
       "      <td>1</td>\n",
       "      <td>...</td>\n",
       "      <td>0.0</td>\n",
       "      <td>7</td>\n",
       "      <td>2.0</td>\n",
       "      <td>0.0</td>\n",
       "      <td></td>\n",
       "      <td>NaN</td>\n",
       "      <td>NaN</td>\n",
       "      <td>1</td>\n",
       "      <td>426</td>\n",
       "      <td>40014</td>\n",
       "    </tr>\n",
       "    <tr>\n",
       "      <th>1</th>\n",
       "      <td>1</td>\n",
       "      <td>9</td>\n",
       "      <td>40001</td>\n",
       "      <td>900471</td>\n",
       "      <td>101</td>\n",
       "      <td>15</td>\n",
       "      <td>1</td>\n",
       "      <td>1</td>\n",
       "      <td>0</td>\n",
       "      <td>1</td>\n",
       "      <td>...</td>\n",
       "      <td>NaN</td>\n",
       "      <td>7</td>\n",
       "      <td>30.0</td>\n",
       "      <td>0.0</td>\n",
       "      <td></td>\n",
       "      <td>NaN</td>\n",
       "      <td>NaN</td>\n",
       "      <td>1</td>\n",
       "      <td>426</td>\n",
       "      <td>40015</td>\n",
       "    </tr>\n",
       "    <tr>\n",
       "      <th>2</th>\n",
       "      <td>1</td>\n",
       "      <td>9</td>\n",
       "      <td>40001</td>\n",
       "      <td>900471</td>\n",
       "      <td>101</td>\n",
       "      <td>15</td>\n",
       "      <td>1</td>\n",
       "      <td>1</td>\n",
       "      <td>0</td>\n",
       "      <td>1</td>\n",
       "      <td>...</td>\n",
       "      <td>NaN</td>\n",
       "      <td>7</td>\n",
       "      <td>2.0</td>\n",
       "      <td>0.0</td>\n",
       "      <td></td>\n",
       "      <td>NaN</td>\n",
       "      <td>NaN</td>\n",
       "      <td>1</td>\n",
       "      <td>426</td>\n",
       "      <td>40016</td>\n",
       "    </tr>\n",
       "    <tr>\n",
       "      <th>3</th>\n",
       "      <td>1</td>\n",
       "      <td>9</td>\n",
       "      <td>40001</td>\n",
       "      <td>900471</td>\n",
       "      <td>101</td>\n",
       "      <td>15</td>\n",
       "      <td>1</td>\n",
       "      <td>1</td>\n",
       "      <td>0</td>\n",
       "      <td>1</td>\n",
       "      <td>...</td>\n",
       "      <td>NaN</td>\n",
       "      <td>7</td>\n",
       "      <td>20.0</td>\n",
       "      <td>0.0</td>\n",
       "      <td></td>\n",
       "      <td>NaN</td>\n",
       "      <td>NaN</td>\n",
       "      <td>1</td>\n",
       "      <td>426</td>\n",
       "      <td>40017</td>\n",
       "    </tr>\n",
       "    <tr>\n",
       "      <th>4</th>\n",
       "      <td>1</td>\n",
       "      <td>9</td>\n",
       "      <td>40001</td>\n",
       "      <td>900471</td>\n",
       "      <td>101</td>\n",
       "      <td>38</td>\n",
       "      <td>2</td>\n",
       "      <td>1</td>\n",
       "      <td>0</td>\n",
       "      <td>1</td>\n",
       "      <td>...</td>\n",
       "      <td>0.0</td>\n",
       "      <td>7</td>\n",
       "      <td>3.0</td>\n",
       "      <td>0.0</td>\n",
       "      <td></td>\n",
       "      <td>NaN</td>\n",
       "      <td>NaN</td>\n",
       "      <td>1</td>\n",
       "      <td>426</td>\n",
       "      <td>40015</td>\n",
       "    </tr>\n",
       "  </tbody>\n",
       "</table>\n",
       "<p>5 rows × 71 columns</p>\n",
       "</div>"
      ],
      "text/plain": [
       "   cd_a  ent    con     upm  d_sem  n_pro_viv  v_sel  n_hog  h_mud  n_ent  \\\n",
       "0     1    9  40001  900471    101         15      1      1      0      1   \n",
       "1     1    9  40001  900471    101         15      1      1      0      1   \n",
       "2     1    9  40001  900471    101         15      1      1      0      1   \n",
       "3     1    9  40001  900471    101         15      1      1      0      1   \n",
       "4     1    9  40001  900471    101         38      2      1      0      1   \n",
       "\n",
       "   ...    p9_m6  p9_7  p9_h7  p9_m7  p9_8  p9_h8  p9_m8  ur  fac     id  \n",
       "0  ...      0.0     7    2.0    0.0          NaN    NaN   1  426  40014  \n",
       "1  ...      NaN     7   30.0    0.0          NaN    NaN   1  426  40015  \n",
       "2  ...      NaN     7    2.0    0.0          NaN    NaN   1  426  40016  \n",
       "3  ...      NaN     7   20.0    0.0          NaN    NaN   1  426  40017  \n",
       "4  ...      0.0     7    3.0    0.0          NaN    NaN   1  426  40015  \n",
       "\n",
       "[5 rows x 71 columns]"
      ]
     },
     "execution_count": 8,
     "metadata": {},
     "output_type": "execute_result"
    }
   ],
   "source": [
    "df_coe1t115_cdmx.head()"
   ]
  },
  {
   "cell_type": "code",
   "execution_count": 9,
   "metadata": {},
   "outputs": [
    {
     "data": {
      "text/plain": [
       "677"
      ]
     },
     "execution_count": 9,
     "metadata": {},
     "output_type": "execute_result"
    }
   ],
   "source": [
    "df_coe1t115_cdmx.id.nunique()"
   ]
  },
  {
   "cell_type": "code",
   "execution_count": 10,
   "metadata": {},
   "outputs": [],
   "source": [
    "df_coe1t115_cdmx_copy = df_coe1t115_cdmx.copy()"
   ]
  },
  {
   "cell_type": "markdown",
   "metadata": {},
   "source": [
    "## sdemt115"
   ]
  },
  {
   "cell_type": "code",
   "execution_count": 11,
   "metadata": {},
   "outputs": [],
   "source": [
    "file = \"../../data/enoe/2015trim1_csv/sdemt115.CSV\""
   ]
  },
  {
   "cell_type": "code",
   "execution_count": 12,
   "metadata": {},
   "outputs": [
    {
     "name": "stderr",
     "output_type": "stream",
     "text": [
      "C:\\Users\\aniit\\Anaconda3\\lib\\site-packages\\IPython\\core\\interactiveshell.py:2785: DtypeWarning: Columns (21,30,37,40) have mixed types. Specify dtype option on import or set low_memory=False.\n",
      "  interactivity=interactivity, compiler=compiler, result=result)\n"
     ]
    }
   ],
   "source": [
    "df_sdemt115 = pd.read_csv(file, encoding='latin')"
   ]
  },
  {
   "cell_type": "code",
   "execution_count": 13,
   "metadata": {},
   "outputs": [
    {
     "data": {
      "text/plain": [
       "(404432, 104)"
      ]
     },
     "execution_count": 13,
     "metadata": {},
     "output_type": "execute_result"
    }
   ],
   "source": [
    "df_sdemt115.shape"
   ]
  },
  {
   "cell_type": "code",
   "execution_count": 14,
   "metadata": {},
   "outputs": [
    {
     "data": {
      "text/html": [
       "<div>\n",
       "<style scoped>\n",
       "    .dataframe tbody tr th:only-of-type {\n",
       "        vertical-align: middle;\n",
       "    }\n",
       "\n",
       "    .dataframe tbody tr th {\n",
       "        vertical-align: top;\n",
       "    }\n",
       "\n",
       "    .dataframe thead th {\n",
       "        text-align: right;\n",
       "    }\n",
       "</style>\n",
       "<table border=\"1\" class=\"dataframe\">\n",
       "  <thead>\n",
       "    <tr style=\"text-align: right;\">\n",
       "      <th></th>\n",
       "      <th>r_def</th>\n",
       "      <th>loc</th>\n",
       "      <th>mun</th>\n",
       "      <th>est</th>\n",
       "      <th>est_d</th>\n",
       "      <th>ageb</th>\n",
       "      <th>t_loc</th>\n",
       "      <th>cd_a</th>\n",
       "      <th>ent</th>\n",
       "      <th>con</th>\n",
       "      <th>...</th>\n",
       "      <th>ma48me1sm</th>\n",
       "      <th>p14apoyos</th>\n",
       "      <th>scian</th>\n",
       "      <th>t_tra</th>\n",
       "      <th>emp_ppal</th>\n",
       "      <th>tue_ppal</th>\n",
       "      <th>trans_ppal</th>\n",
       "      <th>mh_fil2</th>\n",
       "      <th>mh_col</th>\n",
       "      <th>sec_ins</th>\n",
       "    </tr>\n",
       "  </thead>\n",
       "  <tbody>\n",
       "    <tr>\n",
       "      <th>0</th>\n",
       "      <td>0</td>\n",
       "      <td>1</td>\n",
       "      <td>2</td>\n",
       "      <td>10</td>\n",
       "      <td>103</td>\n",
       "      <td>0</td>\n",
       "      <td>1</td>\n",
       "      <td>1</td>\n",
       "      <td>9</td>\n",
       "      <td>40001</td>\n",
       "      <td>...</td>\n",
       "      <td>0</td>\n",
       "      <td>2</td>\n",
       "      <td>7</td>\n",
       "      <td>1</td>\n",
       "      <td>2</td>\n",
       "      <td>2</td>\n",
       "      <td>0</td>\n",
       "      <td>3</td>\n",
       "      <td>2</td>\n",
       "      <td>2</td>\n",
       "    </tr>\n",
       "    <tr>\n",
       "      <th>1</th>\n",
       "      <td>0</td>\n",
       "      <td>1</td>\n",
       "      <td>2</td>\n",
       "      <td>10</td>\n",
       "      <td>103</td>\n",
       "      <td>0</td>\n",
       "      <td>1</td>\n",
       "      <td>1</td>\n",
       "      <td>9</td>\n",
       "      <td>40001</td>\n",
       "      <td>...</td>\n",
       "      <td>0</td>\n",
       "      <td>2</td>\n",
       "      <td>5</td>\n",
       "      <td>2</td>\n",
       "      <td>1</td>\n",
       "      <td>1</td>\n",
       "      <td>0</td>\n",
       "      <td>1</td>\n",
       "      <td>7</td>\n",
       "      <td>8</td>\n",
       "    </tr>\n",
       "    <tr>\n",
       "      <th>2</th>\n",
       "      <td>0</td>\n",
       "      <td>1</td>\n",
       "      <td>2</td>\n",
       "      <td>10</td>\n",
       "      <td>103</td>\n",
       "      <td>0</td>\n",
       "      <td>1</td>\n",
       "      <td>1</td>\n",
       "      <td>9</td>\n",
       "      <td>40001</td>\n",
       "      <td>...</td>\n",
       "      <td>0</td>\n",
       "      <td>2</td>\n",
       "      <td>18</td>\n",
       "      <td>1</td>\n",
       "      <td>2</td>\n",
       "      <td>2</td>\n",
       "      <td>0</td>\n",
       "      <td>3</td>\n",
       "      <td>8</td>\n",
       "      <td>4</td>\n",
       "    </tr>\n",
       "    <tr>\n",
       "      <th>3</th>\n",
       "      <td>0</td>\n",
       "      <td>1</td>\n",
       "      <td>2</td>\n",
       "      <td>10</td>\n",
       "      <td>103</td>\n",
       "      <td>0</td>\n",
       "      <td>1</td>\n",
       "      <td>1</td>\n",
       "      <td>9</td>\n",
       "      <td>40001</td>\n",
       "      <td>...</td>\n",
       "      <td>0</td>\n",
       "      <td>2</td>\n",
       "      <td>0</td>\n",
       "      <td>1</td>\n",
       "      <td>0</td>\n",
       "      <td>0</td>\n",
       "      <td>0</td>\n",
       "      <td>0</td>\n",
       "      <td>0</td>\n",
       "      <td>0</td>\n",
       "    </tr>\n",
       "    <tr>\n",
       "      <th>4</th>\n",
       "      <td>0</td>\n",
       "      <td>1</td>\n",
       "      <td>2</td>\n",
       "      <td>10</td>\n",
       "      <td>103</td>\n",
       "      <td>0</td>\n",
       "      <td>1</td>\n",
       "      <td>1</td>\n",
       "      <td>9</td>\n",
       "      <td>40001</td>\n",
       "      <td>...</td>\n",
       "      <td>0</td>\n",
       "      <td>2</td>\n",
       "      <td>19</td>\n",
       "      <td>1</td>\n",
       "      <td>1</td>\n",
       "      <td>1</td>\n",
       "      <td>0</td>\n",
       "      <td>1</td>\n",
       "      <td>5</td>\n",
       "      <td>8</td>\n",
       "    </tr>\n",
       "  </tbody>\n",
       "</table>\n",
       "<p>5 rows × 104 columns</p>\n",
       "</div>"
      ],
      "text/plain": [
       "   r_def  loc  mun  est  est_d  ageb  t_loc  cd_a  ent    con   ...     \\\n",
       "0      0    1    2   10    103     0      1     1    9  40001   ...      \n",
       "1      0    1    2   10    103     0      1     1    9  40001   ...      \n",
       "2      0    1    2   10    103     0      1     1    9  40001   ...      \n",
       "3      0    1    2   10    103     0      1     1    9  40001   ...      \n",
       "4      0    1    2   10    103     0      1     1    9  40001   ...      \n",
       "\n",
       "   ma48me1sm  p14apoyos  scian  t_tra  emp_ppal  tue_ppal  trans_ppal  \\\n",
       "0          0          2      7      1         2         2           0   \n",
       "1          0          2      5      2         1         1           0   \n",
       "2          0          2     18      1         2         2           0   \n",
       "3          0          2      0      1         0         0           0   \n",
       "4          0          2     19      1         1         1           0   \n",
       "\n",
       "   mh_fil2  mh_col  sec_ins  \n",
       "0        3       2        2  \n",
       "1        1       7        8  \n",
       "2        3       8        4  \n",
       "3        0       0        0  \n",
       "4        1       5        8  \n",
       "\n",
       "[5 rows x 104 columns]"
      ]
     },
     "execution_count": 14,
     "metadata": {},
     "output_type": "execute_result"
    }
   ],
   "source": [
    "df_sdemt115.head()"
   ]
  },
  {
   "cell_type": "code",
   "execution_count": 15,
   "metadata": {},
   "outputs": [],
   "source": [
    "df_sdemt115_cdmx = df_sdemt115[(df_sdemt115['ent'] == 9)]"
   ]
  },
  {
   "cell_type": "code",
   "execution_count": 16,
   "metadata": {},
   "outputs": [
    {
     "data": {
      "text/plain": [
       "(9664, 104)"
      ]
     },
     "execution_count": 16,
     "metadata": {},
     "output_type": "execute_result"
    }
   ],
   "source": [
    "df_sdemt115_cdmx.shape"
   ]
  },
  {
   "cell_type": "code",
   "execution_count": 17,
   "metadata": {},
   "outputs": [
    {
     "name": "stderr",
     "output_type": "stream",
     "text": [
      "C:\\Users\\aniit\\Anaconda3\\lib\\site-packages\\ipykernel_launcher.py:1: SettingWithCopyWarning: \n",
      "A value is trying to be set on a copy of a slice from a DataFrame.\n",
      "Try using .loc[row_indexer,col_indexer] = value instead\n",
      "\n",
      "See the caveats in the documentation: http://pandas.pydata.org/pandas-docs/stable/indexing.html#indexing-view-versus-copy\n",
      "  \"\"\"Entry point for launching an IPython kernel.\n"
     ]
    }
   ],
   "source": [
    "df_sdemt115_cdmx['id'] = df_sdemt115_cdmx.cd_a + df_sdemt115_cdmx.ent + df_sdemt115_cdmx.con + df_sdemt115_cdmx.v_sel + df_sdemt115_cdmx.n_hog + df_sdemt115_cdmx.h_mud + df_sdemt115_cdmx.n_ren"
   ]
  },
  {
   "cell_type": "code",
   "execution_count": 18,
   "metadata": {},
   "outputs": [
    {
     "data": {
      "text/plain": [
       "677"
      ]
     },
     "execution_count": 18,
     "metadata": {},
     "output_type": "execute_result"
    }
   ],
   "source": [
    "df_sdemt115_cdmx.id.nunique()"
   ]
  },
  {
   "cell_type": "code",
   "execution_count": 19,
   "metadata": {},
   "outputs": [],
   "source": [
    "df_sdemt115_cdmx = df_sdemt115_cdmx[['id', 'mun', 'loc']]"
   ]
  },
  {
   "cell_type": "code",
   "execution_count": 20,
   "metadata": {},
   "outputs": [
    {
     "data": {
      "text/plain": [
       "(9664, 3)"
      ]
     },
     "execution_count": 20,
     "metadata": {},
     "output_type": "execute_result"
    }
   ],
   "source": [
    "df_sdemt115_cdmx.shape"
   ]
  },
  {
   "cell_type": "code",
   "execution_count": 21,
   "metadata": {},
   "outputs": [
    {
     "data": {
      "text/html": [
       "<div>\n",
       "<style scoped>\n",
       "    .dataframe tbody tr th:only-of-type {\n",
       "        vertical-align: middle;\n",
       "    }\n",
       "\n",
       "    .dataframe tbody tr th {\n",
       "        vertical-align: top;\n",
       "    }\n",
       "\n",
       "    .dataframe thead th {\n",
       "        text-align: right;\n",
       "    }\n",
       "</style>\n",
       "<table border=\"1\" class=\"dataframe\">\n",
       "  <thead>\n",
       "    <tr style=\"text-align: right;\">\n",
       "      <th></th>\n",
       "      <th>id</th>\n",
       "      <th>mun</th>\n",
       "      <th>loc</th>\n",
       "    </tr>\n",
       "  </thead>\n",
       "  <tbody>\n",
       "    <tr>\n",
       "      <th>0</th>\n",
       "      <td>40014</td>\n",
       "      <td>2</td>\n",
       "      <td>1</td>\n",
       "    </tr>\n",
       "    <tr>\n",
       "      <th>1</th>\n",
       "      <td>40015</td>\n",
       "      <td>2</td>\n",
       "      <td>1</td>\n",
       "    </tr>\n",
       "    <tr>\n",
       "      <th>2</th>\n",
       "      <td>40016</td>\n",
       "      <td>2</td>\n",
       "      <td>1</td>\n",
       "    </tr>\n",
       "    <tr>\n",
       "      <th>3</th>\n",
       "      <td>40017</td>\n",
       "      <td>2</td>\n",
       "      <td>1</td>\n",
       "    </tr>\n",
       "    <tr>\n",
       "      <th>4</th>\n",
       "      <td>40017</td>\n",
       "      <td>2</td>\n",
       "      <td>1</td>\n",
       "    </tr>\n",
       "  </tbody>\n",
       "</table>\n",
       "</div>"
      ],
      "text/plain": [
       "      id  mun  loc\n",
       "0  40014    2    1\n",
       "1  40015    2    1\n",
       "2  40016    2    1\n",
       "3  40017    2    1\n",
       "4  40017    2    1"
      ]
     },
     "execution_count": 21,
     "metadata": {},
     "output_type": "execute_result"
    }
   ],
   "source": [
    "df_sdemt115_cdmx.head()"
   ]
  },
  {
   "cell_type": "code",
   "execution_count": 22,
   "metadata": {},
   "outputs": [],
   "source": [
    "df_sdemt115_cdmx_copy = df_sdemt115_cdmx.copy()"
   ]
  },
  {
   "cell_type": "markdown",
   "metadata": {},
   "source": [
    "## Recovery location"
   ]
  },
  {
   "cell_type": "code",
   "execution_count": 23,
   "metadata": {},
   "outputs": [],
   "source": [
    "df_coe1t115_cdmx_copy.drop_duplicates(inplace=True)"
   ]
  },
  {
   "cell_type": "code",
   "execution_count": 24,
   "metadata": {},
   "outputs": [],
   "source": [
    "df_sdemt115_cdmx_copy.drop_duplicates(inplace=True)"
   ]
  },
  {
   "cell_type": "code",
   "execution_count": 25,
   "metadata": {},
   "outputs": [],
   "source": [
    "df = pd.merge(left=df_coe1t115_cdmx_copy, right=df_sdemt115_cdmx_copy, on=['id'], how='inner')"
   ]
  },
  {
   "cell_type": "code",
   "execution_count": 26,
   "metadata": {},
   "outputs": [
    {
     "data": {
      "text/html": [
       "<div>\n",
       "<style scoped>\n",
       "    .dataframe tbody tr th:only-of-type {\n",
       "        vertical-align: middle;\n",
       "    }\n",
       "\n",
       "    .dataframe tbody tr th {\n",
       "        vertical-align: top;\n",
       "    }\n",
       "\n",
       "    .dataframe thead th {\n",
       "        text-align: right;\n",
       "    }\n",
       "</style>\n",
       "<table border=\"1\" class=\"dataframe\">\n",
       "  <thead>\n",
       "    <tr style=\"text-align: right;\">\n",
       "      <th></th>\n",
       "      <th>cd_a</th>\n",
       "      <th>ent</th>\n",
       "      <th>con</th>\n",
       "      <th>upm</th>\n",
       "      <th>d_sem</th>\n",
       "      <th>n_pro_viv</th>\n",
       "      <th>v_sel</th>\n",
       "      <th>n_hog</th>\n",
       "      <th>h_mud</th>\n",
       "      <th>n_ent</th>\n",
       "      <th>...</th>\n",
       "      <th>p9_h7</th>\n",
       "      <th>p9_m7</th>\n",
       "      <th>p9_8</th>\n",
       "      <th>p9_h8</th>\n",
       "      <th>p9_m8</th>\n",
       "      <th>ur</th>\n",
       "      <th>fac</th>\n",
       "      <th>id</th>\n",
       "      <th>mun</th>\n",
       "      <th>loc</th>\n",
       "    </tr>\n",
       "  </thead>\n",
       "  <tbody>\n",
       "    <tr>\n",
       "      <th>0</th>\n",
       "      <td>1</td>\n",
       "      <td>9</td>\n",
       "      <td>40001</td>\n",
       "      <td>900471</td>\n",
       "      <td>101</td>\n",
       "      <td>15</td>\n",
       "      <td>1</td>\n",
       "      <td>1</td>\n",
       "      <td>0</td>\n",
       "      <td>1</td>\n",
       "      <td>...</td>\n",
       "      <td>2.0</td>\n",
       "      <td>0.0</td>\n",
       "      <td></td>\n",
       "      <td>NaN</td>\n",
       "      <td>NaN</td>\n",
       "      <td>1</td>\n",
       "      <td>426</td>\n",
       "      <td>40014</td>\n",
       "      <td>2</td>\n",
       "      <td>1</td>\n",
       "    </tr>\n",
       "    <tr>\n",
       "      <th>1</th>\n",
       "      <td>1</td>\n",
       "      <td>9</td>\n",
       "      <td>40001</td>\n",
       "      <td>900471</td>\n",
       "      <td>101</td>\n",
       "      <td>15</td>\n",
       "      <td>1</td>\n",
       "      <td>1</td>\n",
       "      <td>0</td>\n",
       "      <td>1</td>\n",
       "      <td>...</td>\n",
       "      <td>30.0</td>\n",
       "      <td>0.0</td>\n",
       "      <td></td>\n",
       "      <td>NaN</td>\n",
       "      <td>NaN</td>\n",
       "      <td>1</td>\n",
       "      <td>426</td>\n",
       "      <td>40015</td>\n",
       "      <td>2</td>\n",
       "      <td>1</td>\n",
       "    </tr>\n",
       "    <tr>\n",
       "      <th>2</th>\n",
       "      <td>1</td>\n",
       "      <td>9</td>\n",
       "      <td>40001</td>\n",
       "      <td>900471</td>\n",
       "      <td>101</td>\n",
       "      <td>38</td>\n",
       "      <td>2</td>\n",
       "      <td>1</td>\n",
       "      <td>0</td>\n",
       "      <td>1</td>\n",
       "      <td>...</td>\n",
       "      <td>3.0</td>\n",
       "      <td>0.0</td>\n",
       "      <td></td>\n",
       "      <td>NaN</td>\n",
       "      <td>NaN</td>\n",
       "      <td>1</td>\n",
       "      <td>426</td>\n",
       "      <td>40015</td>\n",
       "      <td>2</td>\n",
       "      <td>1</td>\n",
       "    </tr>\n",
       "    <tr>\n",
       "      <th>3</th>\n",
       "      <td>1</td>\n",
       "      <td>9</td>\n",
       "      <td>40002</td>\n",
       "      <td>900821</td>\n",
       "      <td>101</td>\n",
       "      <td>24</td>\n",
       "      <td>1</td>\n",
       "      <td>1</td>\n",
       "      <td>0</td>\n",
       "      <td>1</td>\n",
       "      <td>...</td>\n",
       "      <td>30.0</td>\n",
       "      <td>0.0</td>\n",
       "      <td></td>\n",
       "      <td>NaN</td>\n",
       "      <td>NaN</td>\n",
       "      <td>1</td>\n",
       "      <td>833</td>\n",
       "      <td>40015</td>\n",
       "      <td>2</td>\n",
       "      <td>1</td>\n",
       "    </tr>\n",
       "    <tr>\n",
       "      <th>4</th>\n",
       "      <td>1</td>\n",
       "      <td>9</td>\n",
       "      <td>40001</td>\n",
       "      <td>900471</td>\n",
       "      <td>101</td>\n",
       "      <td>15</td>\n",
       "      <td>1</td>\n",
       "      <td>1</td>\n",
       "      <td>0</td>\n",
       "      <td>1</td>\n",
       "      <td>...</td>\n",
       "      <td>2.0</td>\n",
       "      <td>0.0</td>\n",
       "      <td></td>\n",
       "      <td>NaN</td>\n",
       "      <td>NaN</td>\n",
       "      <td>1</td>\n",
       "      <td>426</td>\n",
       "      <td>40016</td>\n",
       "      <td>2</td>\n",
       "      <td>1</td>\n",
       "    </tr>\n",
       "  </tbody>\n",
       "</table>\n",
       "<p>5 rows × 73 columns</p>\n",
       "</div>"
      ],
      "text/plain": [
       "   cd_a  ent    con     upm  d_sem  n_pro_viv  v_sel  n_hog  h_mud  n_ent  \\\n",
       "0     1    9  40001  900471    101         15      1      1      0      1   \n",
       "1     1    9  40001  900471    101         15      1      1      0      1   \n",
       "2     1    9  40001  900471    101         38      2      1      0      1   \n",
       "3     1    9  40002  900821    101         24      1      1      0      1   \n",
       "4     1    9  40001  900471    101         15      1      1      0      1   \n",
       "\n",
       "  ...   p9_h7  p9_m7  p9_8  p9_h8  p9_m8  ur  fac     id  mun  loc  \n",
       "0 ...     2.0    0.0          NaN    NaN   1  426  40014    2    1  \n",
       "1 ...    30.0    0.0          NaN    NaN   1  426  40015    2    1  \n",
       "2 ...     3.0    0.0          NaN    NaN   1  426  40015    2    1  \n",
       "3 ...    30.0    0.0          NaN    NaN   1  833  40015    2    1  \n",
       "4 ...     2.0    0.0          NaN    NaN   1  426  40016    2    1  \n",
       "\n",
       "[5 rows x 73 columns]"
      ]
     },
     "execution_count": 26,
     "metadata": {},
     "output_type": "execute_result"
    }
   ],
   "source": [
    "df.head()"
   ]
  },
  {
   "cell_type": "code",
   "execution_count": 27,
   "metadata": {},
   "outputs": [
    {
     "data": {
      "text/plain": [
       "(49321, 73)"
      ]
     },
     "execution_count": 27,
     "metadata": {},
     "output_type": "execute_result"
    }
   ],
   "source": [
    "df.shape"
   ]
  },
  {
   "cell_type": "code",
   "execution_count": 28,
   "metadata": {},
   "outputs": [
    {
     "data": {
      "text/plain": [
       "677"
      ]
     },
     "execution_count": 28,
     "metadata": {},
     "output_type": "execute_result"
    }
   ],
   "source": [
    "df.id.nunique()"
   ]
  },
  {
   "cell_type": "code",
   "execution_count": 29,
   "metadata": {},
   "outputs": [
    {
     "data": {
      "text/plain": [
       "(313877, 70)"
      ]
     },
     "execution_count": 29,
     "metadata": {},
     "output_type": "execute_result"
    }
   ],
   "source": [
    "df_coe1t115.shape"
   ]
  },
  {
   "cell_type": "code",
   "execution_count": 30,
   "metadata": {},
   "outputs": [],
   "source": [
    "df_copy = df.copy()"
   ]
  },
  {
   "cell_type": "markdown",
   "metadata": {},
   "source": [
    "## Check NA"
   ]
  },
  {
   "cell_type": "code",
   "execution_count": 31,
   "metadata": {},
   "outputs": [
    {
     "data": {
      "text/plain": [
       "True"
      ]
     },
     "execution_count": 31,
     "metadata": {},
     "output_type": "execute_result"
    }
   ],
   "source": [
    "df_copy.isnull().any().any()"
   ]
  },
  {
   "cell_type": "code",
   "execution_count": 32,
   "metadata": {},
   "outputs": [
    {
     "data": {
      "text/plain": [
       "Index(['p6_1', 'p6_2', 'p6_3', 'p6_4', 'p6_5', 'p6_6', 'p6_7', 'p6_8', 'p6_9',\n",
       "       'p6_10', 'p6_99', 'p6b2', 'p7a', 'p7c', 'p9_h1', 'p9_m1', 'p9_h2',\n",
       "       'p9_m2', 'p9_h3', 'p9_m3', 'p9_h4', 'p9_m4', 'p9_h5', 'p9_m5', 'p9_h6',\n",
       "       'p9_m6', 'p9_h7', 'p9_m7', 'p9_h8', 'p9_m8'],\n",
       "      dtype='object')"
      ]
     },
     "execution_count": 32,
     "metadata": {},
     "output_type": "execute_result"
    }
   ],
   "source": [
    "df_copy.columns[df_copy.isnull().any()]"
   ]
  },
  {
   "cell_type": "code",
   "execution_count": 33,
   "metadata": {},
   "outputs": [
    {
     "data": {
      "text/plain": [
       "49321"
      ]
     },
     "execution_count": 33,
     "metadata": {},
     "output_type": "execute_result"
    }
   ],
   "source": [
    "len(pd.isnull(df_copy).any(1).nonzero()[0].tolist())"
   ]
  },
  {
   "cell_type": "code",
   "execution_count": 34,
   "metadata": {},
   "outputs": [],
   "source": [
    "df_copy.replace(to_replace=' ', value=np.NaN, inplace=True)"
   ]
  },
  {
   "cell_type": "code",
   "execution_count": 35,
   "metadata": {},
   "outputs": [
    {
     "data": {
      "text/plain": [
       "<matplotlib.axes._subplots.AxesSubplot at 0x28d815b55c0>"
      ]
     },
     "execution_count": 35,
     "metadata": {},
     "output_type": "execute_result"
    },
    {
     "data": {
      "image/png": "[encoded data removed]",
      "text/plain": [
       "<Figure size 1728x720 with 2 Axes>"
      ]
     },
     "metadata": {
      "needs_background": "light"
     },
     "output_type": "display_data"
    }
   ],
   "source": [
    "msno.bar(df_copy)"
   ]
  },
  {
   "cell_type": "code",
   "execution_count": 36,
   "metadata": {},
   "outputs": [],
   "source": [
    "df_copy.fillna(value=-1, inplace=True)"
   ]
  },
  {
   "cell_type": "code",
   "execution_count": 37,
   "metadata": {},
   "outputs": [
    {
     "data": {
      "text/plain": [
       "39457"
      ]
     },
     "execution_count": 37,
     "metadata": {},
     "output_type": "execute_result"
    }
   ],
   "source": [
    "threshold = round(df_copy.shape[0]*.8)\n",
    "threshold"
   ]
  },
  {
   "cell_type": "code",
   "execution_count": 38,
   "metadata": {},
   "outputs": [
    {
     "name": "stdout",
     "output_type": "stream",
     "text": [
      "p6_1 :  1168  -  39457\n",
      "p6_1 :  d e l e t e d\n",
      "p6_2 :  984  -  39457\n",
      "p6_2 :  d e l e t e d\n",
      "p6_3 :  288  -  39457\n",
      "p6_3 :  d e l e t e d\n",
      "p6_4 :  429  -  39457\n",
      "p6_4 :  d e l e t e d\n",
      "p6_5 :  38  -  39457\n",
      "p6_5 :  d e l e t e d\n",
      "p6_6 :  123  -  39457\n",
      "p6_6 :  d e l e t e d\n",
      "p6_7 :  15481  -  39457\n",
      "p6_7 :  d e l e t e d\n",
      "p6_8 :  5262  -  39457\n",
      "p6_8 :  d e l e t e d\n",
      "p6_9 :  833  -  39457\n",
      "p6_9 :  d e l e t e d\n",
      "p6_10 :  2469  -  39457\n",
      "p6_10 :  d e l e t e d\n",
      "p6_99 :  13  -  39457\n",
      "p6_99 :  d e l e t e d\n",
      "p6a1 :  2675  -  39457\n",
      "p6a1 :  d e l e t e d\n",
      "p6a2 :  616  -  39457\n",
      "p6a2 :  d e l e t e d\n",
      "p6a3 :  0  -  39457\n",
      "p6a3 :  d e l e t e d\n",
      "p6a4 :  2221  -  39457\n",
      "p6a4 :  d e l e t e d\n",
      "p6a9 :  0  -  39457\n",
      "p6a9 :  d e l e t e d\n",
      "p6b1 :  26227  -  39457\n",
      "p6b1 :  d e l e t e d\n",
      "p6b2 :  14442  -  39457\n",
      "p6b2 :  d e l e t e d\n",
      "p6c :  11785  -  39457\n",
      "p6c :  d e l e t e d\n",
      "p6d :  27060  -  39457\n",
      "p6d :  d e l e t e d\n",
      "p7 :  27060  -  39457\n",
      "p7 :  d e l e t e d\n",
      "p7a :  874  -  39457\n",
      "p7a :  d e l e t e d\n",
      "p7b :  874  -  39457\n",
      "p7b :  d e l e t e d\n",
      "p7c :  874  -  39457\n",
      "p7c :  d e l e t e d\n",
      "p8_1 :  0  -  39457\n",
      "p8_1 :  d e l e t e d\n",
      "p8_2 :  1391  -  39457\n",
      "p8_2 :  d e l e t e d\n",
      "p8_3 :  53  -  39457\n",
      "p8_3 :  d e l e t e d\n",
      "p8_4 :  25617  -  39457\n",
      "p8_4 :  d e l e t e d\n",
      "p8_9 :  10  -  39457\n",
      "p8_9 :  d e l e t e d\n",
      "p8a :  1433  -  39457\n",
      "p8a :  d e l e t e d\n",
      "p9_1 :  8823  -  39457\n",
      "p9_1 :  d e l e t e d\n",
      "p9_h1 :  8823  -  39457\n",
      "p9_h1 :  d e l e t e d\n",
      "p9_m1 :  8823  -  39457\n",
      "p9_m1 :  d e l e t e d\n",
      "p9_2 :  10275  -  39457\n",
      "p9_2 :  d e l e t e d\n",
      "p9_h2 :  10275  -  39457\n",
      "p9_h2 :  d e l e t e d\n",
      "p9_m2 :  10275  -  39457\n",
      "p9_m2 :  d e l e t e d\n",
      "p9_3 :  27376  -  39457\n",
      "p9_3 :  d e l e t e d\n",
      "p9_h3 :  27376  -  39457\n",
      "p9_h3 :  d e l e t e d\n",
      "p9_m3 :  27376  -  39457\n",
      "p9_m3 :  d e l e t e d\n",
      "p9_4 :  5503  -  39457\n",
      "p9_4 :  d e l e t e d\n",
      "p9_h4 :  5503  -  39457\n",
      "p9_h4 :  d e l e t e d\n",
      "p9_m4 :  5503  -  39457\n",
      "p9_m4 :  d e l e t e d\n",
      "p9_5 :  102  -  39457\n",
      "p9_5 :  d e l e t e d\n",
      "p9_h5 :  102  -  39457\n",
      "p9_h5 :  d e l e t e d\n",
      "p9_m5 :  102  -  39457\n",
      "p9_m5 :  d e l e t e d\n",
      "p9_6 :  1716  -  39457\n",
      "p9_6 :  d e l e t e d\n",
      "p9_h6 :  1716  -  39457\n",
      "p9_h6 :  d e l e t e d\n",
      "p9_m6 :  1716  -  39457\n",
      "p9_m6 :  d e l e t e d\n",
      "p9_7 :  40660  -  39457\n",
      "p9_h7 :  40660  -  39457\n",
      "p9_m7 :  40660  -  39457\n",
      "p9_8 :  297  -  39457\n",
      "p9_8 :  d e l e t e d\n",
      "p9_h8 :  297  -  39457\n",
      "p9_h8 :  d e l e t e d\n",
      "p9_m8 :  297  -  39457\n",
      "p9_m8 :  d e l e t e d\n"
     ]
    }
   ],
   "source": [
    "l = []\n",
    "for column in df_copy.columns:\n",
    "    na_column =  df_copy[column].value_counts().get(-1)\n",
    "    if(na_column != None):\n",
    "        print(column, ': ', df_copy.shape[0] - na_column, ' - ', threshold)\n",
    "        if (df_copy.shape[0] - na_column < threshold):\n",
    "            print(column, ': ', 'd e l e t e d')\n",
    "            l.append(column)"
   ]
  },
  {
   "cell_type": "code",
   "execution_count": 39,
   "metadata": {},
   "outputs": [
    {
     "data": {
      "text/plain": [
       "51"
      ]
     },
     "execution_count": 39,
     "metadata": {},
     "output_type": "execute_result"
    }
   ],
   "source": [
    "len(l)"
   ]
  },
  {
   "cell_type": "code",
   "execution_count": 40,
   "metadata": {},
   "outputs": [],
   "source": [
    "df_copy.drop(labels=l, axis=1, inplace=True)"
   ]
  },
  {
   "cell_type": "code",
   "execution_count": 41,
   "metadata": {},
   "outputs": [],
   "source": [
    "df_copy.replace(to_replace=-1, value=np.NaN, inplace=True)"
   ]
  },
  {
   "cell_type": "code",
   "execution_count": 42,
   "metadata": {},
   "outputs": [
    {
     "data": {
      "text/plain": [
       "<matplotlib.axes._subplots.AxesSubplot at 0x28d81a093c8>"
      ]
     },
     "execution_count": 42,
     "metadata": {},
     "output_type": "execute_result"
    },
    {
     "data": {
      "image/png": "[encoded data removed]",
      "text/plain": [
       "<Figure size 1800x720 with 2 Axes>"
      ]
     },
     "metadata": {
      "needs_background": "light"
     },
     "output_type": "display_data"
    }
   ],
   "source": [
    "msno.matrix(df_copy)"
   ]
  },
  {
   "cell_type": "code",
   "execution_count": 43,
   "metadata": {},
   "outputs": [
    {
     "data": {
      "text/plain": [
       "True"
      ]
     },
     "execution_count": 43,
     "metadata": {},
     "output_type": "execute_result"
    }
   ],
   "source": [
    "df_copy.isnull().any().any()"
   ]
  },
  {
   "cell_type": "code",
   "execution_count": 44,
   "metadata": {},
   "outputs": [
    {
     "data": {
      "text/plain": [
       "(49321, 22)"
      ]
     },
     "execution_count": 44,
     "metadata": {},
     "output_type": "execute_result"
    }
   ],
   "source": [
    "df_copy.shape"
   ]
  },
  {
   "cell_type": "code",
   "execution_count": 45,
   "metadata": {},
   "outputs": [],
   "source": [
    "file = \"../../dataframes/enoe/coe2t215_clean.csv\""
   ]
  },
  {
   "cell_type": "code",
   "execution_count": 46,
   "metadata": {},
   "outputs": [],
   "source": [
    "df_copy.to_csv(file)"
   ]
  },
  {
   "cell_type": "code",
   "execution_count": null,
   "metadata": {},
   "outputs": [],
   "source": []
  }
 ],
 "metadata": {
  "kernelspec": {
   "display_name": "Python 3",
   "language": "python",
   "name": "python3"
  },
  "language_info": {
   "codemirror_mode": {
    "name": "ipython",
    "version": 3
   },
   "file_extension": ".py",
   "mimetype": "text/x-python",
   "name": "python",
   "nbconvert_exporter": "python",
   "pygments_lexer": "ipython3",
   "version": "3.7.0"
  }
 },
 "nbformat": 4,
 "nbformat_minor": 2
}
