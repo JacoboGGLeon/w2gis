{
 "cells": [
  {
   "cell_type": "markdown",
   "metadata": {},
   "source": []
  },
  {
   "cell_type": "code",
   "execution_count": 4,
   "metadata": {},
   "outputs": [],
   "source": [
    "import pandas as pd\n",
    "import missingno as msno\n",
    "import numpy as np\n",
    "%matplotlib inline"
   ]
  },
  {
   "cell_type": "markdown",
   "metadata": {},
   "source": [
    "## coe1t115"
   ]
  },
  {
   "cell_type": "code",
   "execution_count": 44,
   "metadata": {},
   "outputs": [],
   "source": [
    "file = \"../../data/enoe/2015trim1_csv/coe1t115.csv\""
   ]
  },
  {
   "cell_type": "code",
   "execution_count": 45,
   "metadata": {},
   "outputs": [],
   "source": [
    "df_coe1t115 = pd.read_csv(file)"
   ]
  },
  {
   "cell_type": "code",
   "execution_count": 46,
   "metadata": {},
   "outputs": [
    {
     "data": {
      "text/plain": [
       "(313934, 186)"
      ]
     },
     "execution_count": 46,
     "metadata": {},
     "output_type": "execute_result"
    }
   ],
   "source": [
    "df_coe1t115.shape"
   ]
  },
  {
   "cell_type": "code",
   "execution_count": 47,
   "metadata": {},
   "outputs": [],
   "source": [
    "df_coe1t115_cdmx = df_coe1t115[(df_coe1t115['ent'] == 9)]"
   ]
  },
  {
   "cell_type": "code",
   "execution_count": 48,
   "metadata": {},
   "outputs": [
    {
     "data": {
      "text/plain": [
       "(8001, 186)"
      ]
     },
     "execution_count": 48,
     "metadata": {},
     "output_type": "execute_result"
    }
   ],
   "source": [
    "df_coe1t115_cdmx.shape"
   ]
  },
  {
   "cell_type": "code",
   "execution_count": 49,
   "metadata": {},
   "outputs": [
    {
     "name": "stderr",
     "output_type": "stream",
     "text": [
      "C:\\Users\\aniit\\Anaconda3\\lib\\site-packages\\ipykernel_launcher.py:1: SettingWithCopyWarning: \n",
      "A value is trying to be set on a copy of a slice from a DataFrame.\n",
      "Try using .loc[row_indexer,col_indexer] = value instead\n",
      "\n",
      "See the caveats in the documentation: http://pandas.pydata.org/pandas-docs/stable/indexing.html#indexing-view-versus-copy\n",
      "  \"\"\"Entry point for launching an IPython kernel.\n"
     ]
    }
   ],
   "source": [
    "df_coe1t115_cdmx['id'] = df_coe1t115_cdmx.cd_a + df_coe1t115_cdmx.ent + df_coe1t115_cdmx.con + df_coe1t115_cdmx.v_sel + df_coe1t115_cdmx.n_hog + df_coe1t115_cdmx.h_mud + df_coe1t115_cdmx.n_ren"
   ]
  },
  {
   "cell_type": "code",
   "execution_count": 50,
   "metadata": {},
   "outputs": [
    {
     "data": {
      "text/html": [
       "<div>\n",
       "<style scoped>\n",
       "    .dataframe tbody tr th:only-of-type {\n",
       "        vertical-align: middle;\n",
       "    }\n",
       "\n",
       "    .dataframe tbody tr th {\n",
       "        vertical-align: top;\n",
       "    }\n",
       "\n",
       "    .dataframe thead th {\n",
       "        text-align: right;\n",
       "    }\n",
       "</style>\n",
       "<table border=\"1\" class=\"dataframe\">\n",
       "  <thead>\n",
       "    <tr style=\"text-align: right;\">\n",
       "      <th></th>\n",
       "      <th>r_def</th>\n",
       "      <th>cd_a</th>\n",
       "      <th>ent</th>\n",
       "      <th>con</th>\n",
       "      <th>upm</th>\n",
       "      <th>d_sem</th>\n",
       "      <th>n_pro_viv</th>\n",
       "      <th>v_sel</th>\n",
       "      <th>n_hog</th>\n",
       "      <th>h_mud</th>\n",
       "      <th>...</th>\n",
       "      <th>p5g11</th>\n",
       "      <th>p5g12</th>\n",
       "      <th>p5g13</th>\n",
       "      <th>p5g14</th>\n",
       "      <th>p5g15</th>\n",
       "      <th>p5g99</th>\n",
       "      <th>p5h</th>\n",
       "      <th>ur</th>\n",
       "      <th>fac</th>\n",
       "      <th>id</th>\n",
       "    </tr>\n",
       "  </thead>\n",
       "  <tbody>\n",
       "    <tr>\n",
       "      <th>0</th>\n",
       "      <td>0</td>\n",
       "      <td>1</td>\n",
       "      <td>9</td>\n",
       "      <td>40001</td>\n",
       "      <td>900471</td>\n",
       "      <td>101</td>\n",
       "      <td>19</td>\n",
       "      <td>1</td>\n",
       "      <td>1</td>\n",
       "      <td>0</td>\n",
       "      <td>...</td>\n",
       "      <td>NaN</td>\n",
       "      <td>NaN</td>\n",
       "      <td>NaN</td>\n",
       "      <td>14.0</td>\n",
       "      <td>NaN</td>\n",
       "      <td>NaN</td>\n",
       "      <td></td>\n",
       "      <td>1</td>\n",
       "      <td>507</td>\n",
       "      <td>40014</td>\n",
       "    </tr>\n",
       "    <tr>\n",
       "      <th>1</th>\n",
       "      <td>0</td>\n",
       "      <td>1</td>\n",
       "      <td>9</td>\n",
       "      <td>40001</td>\n",
       "      <td>900471</td>\n",
       "      <td>101</td>\n",
       "      <td>45</td>\n",
       "      <td>2</td>\n",
       "      <td>1</td>\n",
       "      <td>0</td>\n",
       "      <td>...</td>\n",
       "      <td>NaN</td>\n",
       "      <td>NaN</td>\n",
       "      <td>NaN</td>\n",
       "      <td>14.0</td>\n",
       "      <td>NaN</td>\n",
       "      <td>NaN</td>\n",
       "      <td></td>\n",
       "      <td>1</td>\n",
       "      <td>507</td>\n",
       "      <td>40015</td>\n",
       "    </tr>\n",
       "    <tr>\n",
       "      <th>2</th>\n",
       "      <td>0</td>\n",
       "      <td>1</td>\n",
       "      <td>9</td>\n",
       "      <td>40001</td>\n",
       "      <td>900471</td>\n",
       "      <td>101</td>\n",
       "      <td>45</td>\n",
       "      <td>2</td>\n",
       "      <td>1</td>\n",
       "      <td>0</td>\n",
       "      <td>...</td>\n",
       "      <td>NaN</td>\n",
       "      <td>NaN</td>\n",
       "      <td>NaN</td>\n",
       "      <td>14.0</td>\n",
       "      <td>NaN</td>\n",
       "      <td>NaN</td>\n",
       "      <td></td>\n",
       "      <td>1</td>\n",
       "      <td>507</td>\n",
       "      <td>40016</td>\n",
       "    </tr>\n",
       "    <tr>\n",
       "      <th>3</th>\n",
       "      <td>0</td>\n",
       "      <td>1</td>\n",
       "      <td>9</td>\n",
       "      <td>40001</td>\n",
       "      <td>900471</td>\n",
       "      <td>101</td>\n",
       "      <td>45</td>\n",
       "      <td>2</td>\n",
       "      <td>1</td>\n",
       "      <td>0</td>\n",
       "      <td>...</td>\n",
       "      <td>NaN</td>\n",
       "      <td>NaN</td>\n",
       "      <td>NaN</td>\n",
       "      <td>NaN</td>\n",
       "      <td>NaN</td>\n",
       "      <td>NaN</td>\n",
       "      <td></td>\n",
       "      <td>1</td>\n",
       "      <td>507</td>\n",
       "      <td>40017</td>\n",
       "    </tr>\n",
       "    <tr>\n",
       "      <th>4</th>\n",
       "      <td>0</td>\n",
       "      <td>1</td>\n",
       "      <td>9</td>\n",
       "      <td>40001</td>\n",
       "      <td>900471</td>\n",
       "      <td>101</td>\n",
       "      <td>97</td>\n",
       "      <td>4</td>\n",
       "      <td>1</td>\n",
       "      <td>0</td>\n",
       "      <td>...</td>\n",
       "      <td>NaN</td>\n",
       "      <td>NaN</td>\n",
       "      <td>NaN</td>\n",
       "      <td>14.0</td>\n",
       "      <td>NaN</td>\n",
       "      <td>NaN</td>\n",
       "      <td></td>\n",
       "      <td>1</td>\n",
       "      <td>507</td>\n",
       "      <td>40017</td>\n",
       "    </tr>\n",
       "  </tbody>\n",
       "</table>\n",
       "<p>5 rows × 187 columns</p>\n",
       "</div>"
      ],
      "text/plain": [
       "   r_def  cd_a  ent    con     upm  d_sem  n_pro_viv  v_sel  n_hog  h_mud  \\\n",
       "0      0     1    9  40001  900471    101         19      1      1      0   \n",
       "1      0     1    9  40001  900471    101         45      2      1      0   \n",
       "2      0     1    9  40001  900471    101         45      2      1      0   \n",
       "3      0     1    9  40001  900471    101         45      2      1      0   \n",
       "4      0     1    9  40001  900471    101         97      4      1      0   \n",
       "\n",
       "   ...    p5g11  p5g12  p5g13  p5g14  p5g15  p5g99 p5h ur  fac     id  \n",
       "0  ...      NaN    NaN    NaN   14.0    NaN    NaN      1  507  40014  \n",
       "1  ...      NaN    NaN    NaN   14.0    NaN    NaN      1  507  40015  \n",
       "2  ...      NaN    NaN    NaN   14.0    NaN    NaN      1  507  40016  \n",
       "3  ...      NaN    NaN    NaN    NaN    NaN    NaN      1  507  40017  \n",
       "4  ...      NaN    NaN    NaN   14.0    NaN    NaN      1  507  40017  \n",
       "\n",
       "[5 rows x 187 columns]"
      ]
     },
     "execution_count": 50,
     "metadata": {},
     "output_type": "execute_result"
    }
   ],
   "source": [
    "df_coe1t115_cdmx.head()"
   ]
  },
  {
   "cell_type": "code",
   "execution_count": 51,
   "metadata": {},
   "outputs": [
    {
     "data": {
      "text/plain": [
       "677"
      ]
     },
     "execution_count": 51,
     "metadata": {},
     "output_type": "execute_result"
    }
   ],
   "source": [
    "df_coe1t115_cdmx.id.nunique()"
   ]
  },
  {
   "cell_type": "code",
   "execution_count": 76,
   "metadata": {},
   "outputs": [],
   "source": [
    "df_coe1t115_cdmx_copy = df_coe1t115_cdmx.copy()"
   ]
  },
  {
   "cell_type": "markdown",
   "metadata": {},
   "source": [
    "## sdemt115"
   ]
  },
  {
   "cell_type": "code",
   "execution_count": 52,
   "metadata": {},
   "outputs": [],
   "source": [
    "file = \"../../data/enoe/2015trim1_csv/sdemt115.CSV\""
   ]
  },
  {
   "cell_type": "code",
   "execution_count": 53,
   "metadata": {},
   "outputs": [
    {
     "name": "stderr",
     "output_type": "stream",
     "text": [
      "C:\\Users\\aniit\\Anaconda3\\lib\\site-packages\\IPython\\core\\interactiveshell.py:2785: DtypeWarning: Columns (21,30,37,40) have mixed types. Specify dtype option on import or set low_memory=False.\n",
      "  interactivity=interactivity, compiler=compiler, result=result)\n"
     ]
    }
   ],
   "source": [
    "df_sdemt115 = pd.read_csv(file, encoding='latin')"
   ]
  },
  {
   "cell_type": "code",
   "execution_count": 54,
   "metadata": {},
   "outputs": [
    {
     "data": {
      "text/plain": [
       "(404432, 104)"
      ]
     },
     "execution_count": 54,
     "metadata": {},
     "output_type": "execute_result"
    }
   ],
   "source": [
    "df_sdemt115.shape"
   ]
  },
  {
   "cell_type": "code",
   "execution_count": 55,
   "metadata": {},
   "outputs": [
    {
     "data": {
      "text/html": [
       "<div>\n",
       "<style scoped>\n",
       "    .dataframe tbody tr th:only-of-type {\n",
       "        vertical-align: middle;\n",
       "    }\n",
       "\n",
       "    .dataframe tbody tr th {\n",
       "        vertical-align: top;\n",
       "    }\n",
       "\n",
       "    .dataframe thead th {\n",
       "        text-align: right;\n",
       "    }\n",
       "</style>\n",
       "<table border=\"1\" class=\"dataframe\">\n",
       "  <thead>\n",
       "    <tr style=\"text-align: right;\">\n",
       "      <th></th>\n",
       "      <th>r_def</th>\n",
       "      <th>loc</th>\n",
       "      <th>mun</th>\n",
       "      <th>est</th>\n",
       "      <th>est_d</th>\n",
       "      <th>ageb</th>\n",
       "      <th>t_loc</th>\n",
       "      <th>cd_a</th>\n",
       "      <th>ent</th>\n",
       "      <th>con</th>\n",
       "      <th>...</th>\n",
       "      <th>ma48me1sm</th>\n",
       "      <th>p14apoyos</th>\n",
       "      <th>scian</th>\n",
       "      <th>t_tra</th>\n",
       "      <th>emp_ppal</th>\n",
       "      <th>tue_ppal</th>\n",
       "      <th>trans_ppal</th>\n",
       "      <th>mh_fil2</th>\n",
       "      <th>mh_col</th>\n",
       "      <th>sec_ins</th>\n",
       "    </tr>\n",
       "  </thead>\n",
       "  <tbody>\n",
       "    <tr>\n",
       "      <th>0</th>\n",
       "      <td>0</td>\n",
       "      <td>1</td>\n",
       "      <td>2</td>\n",
       "      <td>10</td>\n",
       "      <td>103</td>\n",
       "      <td>0</td>\n",
       "      <td>1</td>\n",
       "      <td>1</td>\n",
       "      <td>9</td>\n",
       "      <td>40001</td>\n",
       "      <td>...</td>\n",
       "      <td>0</td>\n",
       "      <td>2</td>\n",
       "      <td>7</td>\n",
       "      <td>1</td>\n",
       "      <td>2</td>\n",
       "      <td>2</td>\n",
       "      <td>0</td>\n",
       "      <td>3</td>\n",
       "      <td>2</td>\n",
       "      <td>2</td>\n",
       "    </tr>\n",
       "    <tr>\n",
       "      <th>1</th>\n",
       "      <td>0</td>\n",
       "      <td>1</td>\n",
       "      <td>2</td>\n",
       "      <td>10</td>\n",
       "      <td>103</td>\n",
       "      <td>0</td>\n",
       "      <td>1</td>\n",
       "      <td>1</td>\n",
       "      <td>9</td>\n",
       "      <td>40001</td>\n",
       "      <td>...</td>\n",
       "      <td>0</td>\n",
       "      <td>2</td>\n",
       "      <td>5</td>\n",
       "      <td>2</td>\n",
       "      <td>1</td>\n",
       "      <td>1</td>\n",
       "      <td>0</td>\n",
       "      <td>1</td>\n",
       "      <td>7</td>\n",
       "      <td>8</td>\n",
       "    </tr>\n",
       "    <tr>\n",
       "      <th>2</th>\n",
       "      <td>0</td>\n",
       "      <td>1</td>\n",
       "      <td>2</td>\n",
       "      <td>10</td>\n",
       "      <td>103</td>\n",
       "      <td>0</td>\n",
       "      <td>1</td>\n",
       "      <td>1</td>\n",
       "      <td>9</td>\n",
       "      <td>40001</td>\n",
       "      <td>...</td>\n",
       "      <td>0</td>\n",
       "      <td>2</td>\n",
       "      <td>18</td>\n",
       "      <td>1</td>\n",
       "      <td>2</td>\n",
       "      <td>2</td>\n",
       "      <td>0</td>\n",
       "      <td>3</td>\n",
       "      <td>8</td>\n",
       "      <td>4</td>\n",
       "    </tr>\n",
       "    <tr>\n",
       "      <th>3</th>\n",
       "      <td>0</td>\n",
       "      <td>1</td>\n",
       "      <td>2</td>\n",
       "      <td>10</td>\n",
       "      <td>103</td>\n",
       "      <td>0</td>\n",
       "      <td>1</td>\n",
       "      <td>1</td>\n",
       "      <td>9</td>\n",
       "      <td>40001</td>\n",
       "      <td>...</td>\n",
       "      <td>0</td>\n",
       "      <td>2</td>\n",
       "      <td>0</td>\n",
       "      <td>1</td>\n",
       "      <td>0</td>\n",
       "      <td>0</td>\n",
       "      <td>0</td>\n",
       "      <td>0</td>\n",
       "      <td>0</td>\n",
       "      <td>0</td>\n",
       "    </tr>\n",
       "    <tr>\n",
       "      <th>4</th>\n",
       "      <td>0</td>\n",
       "      <td>1</td>\n",
       "      <td>2</td>\n",
       "      <td>10</td>\n",
       "      <td>103</td>\n",
       "      <td>0</td>\n",
       "      <td>1</td>\n",
       "      <td>1</td>\n",
       "      <td>9</td>\n",
       "      <td>40001</td>\n",
       "      <td>...</td>\n",
       "      <td>0</td>\n",
       "      <td>2</td>\n",
       "      <td>19</td>\n",
       "      <td>1</td>\n",
       "      <td>1</td>\n",
       "      <td>1</td>\n",
       "      <td>0</td>\n",
       "      <td>1</td>\n",
       "      <td>5</td>\n",
       "      <td>8</td>\n",
       "    </tr>\n",
       "  </tbody>\n",
       "</table>\n",
       "<p>5 rows × 104 columns</p>\n",
       "</div>"
      ],
      "text/plain": [
       "   r_def  loc  mun  est  est_d  ageb  t_loc  cd_a  ent    con   ...     \\\n",
       "0      0    1    2   10    103     0      1     1    9  40001   ...      \n",
       "1      0    1    2   10    103     0      1     1    9  40001   ...      \n",
       "2      0    1    2   10    103     0      1     1    9  40001   ...      \n",
       "3      0    1    2   10    103     0      1     1    9  40001   ...      \n",
       "4      0    1    2   10    103     0      1     1    9  40001   ...      \n",
       "\n",
       "   ma48me1sm  p14apoyos  scian  t_tra  emp_ppal  tue_ppal  trans_ppal  \\\n",
       "0          0          2      7      1         2         2           0   \n",
       "1          0          2      5      2         1         1           0   \n",
       "2          0          2     18      1         2         2           0   \n",
       "3          0          2      0      1         0         0           0   \n",
       "4          0          2     19      1         1         1           0   \n",
       "\n",
       "   mh_fil2  mh_col  sec_ins  \n",
       "0        3       2        2  \n",
       "1        1       7        8  \n",
       "2        3       8        4  \n",
       "3        0       0        0  \n",
       "4        1       5        8  \n",
       "\n",
       "[5 rows x 104 columns]"
      ]
     },
     "execution_count": 55,
     "metadata": {},
     "output_type": "execute_result"
    }
   ],
   "source": [
    "df_sdemt115.head()"
   ]
  },
  {
   "cell_type": "code",
   "execution_count": 64,
   "metadata": {},
   "outputs": [],
   "source": [
    "df_sdemt115_cdmx = df_sdemt115[(df_sdemt115['ent'] == 9)]"
   ]
  },
  {
   "cell_type": "code",
   "execution_count": 65,
   "metadata": {},
   "outputs": [
    {
     "data": {
      "text/plain": [
       "(9664, 104)"
      ]
     },
     "execution_count": 65,
     "metadata": {},
     "output_type": "execute_result"
    }
   ],
   "source": [
    "df_sdemt115_cdmx.shape"
   ]
  },
  {
   "cell_type": "code",
   "execution_count": 66,
   "metadata": {},
   "outputs": [
    {
     "name": "stderr",
     "output_type": "stream",
     "text": [
      "C:\\Users\\aniit\\Anaconda3\\lib\\site-packages\\ipykernel_launcher.py:1: SettingWithCopyWarning: \n",
      "A value is trying to be set on a copy of a slice from a DataFrame.\n",
      "Try using .loc[row_indexer,col_indexer] = value instead\n",
      "\n",
      "See the caveats in the documentation: http://pandas.pydata.org/pandas-docs/stable/indexing.html#indexing-view-versus-copy\n",
      "  \"\"\"Entry point for launching an IPython kernel.\n"
     ]
    }
   ],
   "source": [
    "df_sdemt115_cdmx['id'] = df_sdemt115_cdmx.cd_a + df_sdemt115_cdmx.ent + df_sdemt115_cdmx.con + df_sdemt115_cdmx.v_sel + df_sdemt115_cdmx.n_hog + df_sdemt115_cdmx.h_mud + df_sdemt115_cdmx.n_ren"
   ]
  },
  {
   "cell_type": "code",
   "execution_count": 67,
   "metadata": {},
   "outputs": [
    {
     "data": {
      "text/plain": [
       "677"
      ]
     },
     "execution_count": 67,
     "metadata": {},
     "output_type": "execute_result"
    }
   ],
   "source": [
    "df_sdemt115_cdmx.id.nunique()"
   ]
  },
  {
   "cell_type": "code",
   "execution_count": 68,
   "metadata": {},
   "outputs": [],
   "source": [
    "df_sdemt115_cdmx = df_sdemt115_cdmx[['id', 'mun', 'loc']]"
   ]
  },
  {
   "cell_type": "code",
   "execution_count": 69,
   "metadata": {},
   "outputs": [
    {
     "data": {
      "text/plain": [
       "(9664, 3)"
      ]
     },
     "execution_count": 69,
     "metadata": {},
     "output_type": "execute_result"
    }
   ],
   "source": [
    "df_sdemt115_cdmx.shape"
   ]
  },
  {
   "cell_type": "code",
   "execution_count": 70,
   "metadata": {},
   "outputs": [
    {
     "data": {
      "text/html": [
       "<div>\n",
       "<style scoped>\n",
       "    .dataframe tbody tr th:only-of-type {\n",
       "        vertical-align: middle;\n",
       "    }\n",
       "\n",
       "    .dataframe tbody tr th {\n",
       "        vertical-align: top;\n",
       "    }\n",
       "\n",
       "    .dataframe thead th {\n",
       "        text-align: right;\n",
       "    }\n",
       "</style>\n",
       "<table border=\"1\" class=\"dataframe\">\n",
       "  <thead>\n",
       "    <tr style=\"text-align: right;\">\n",
       "      <th></th>\n",
       "      <th>id</th>\n",
       "      <th>mun</th>\n",
       "      <th>loc</th>\n",
       "    </tr>\n",
       "  </thead>\n",
       "  <tbody>\n",
       "    <tr>\n",
       "      <th>0</th>\n",
       "      <td>40014</td>\n",
       "      <td>2</td>\n",
       "      <td>1</td>\n",
       "    </tr>\n",
       "    <tr>\n",
       "      <th>1</th>\n",
       "      <td>40015</td>\n",
       "      <td>2</td>\n",
       "      <td>1</td>\n",
       "    </tr>\n",
       "    <tr>\n",
       "      <th>2</th>\n",
       "      <td>40016</td>\n",
       "      <td>2</td>\n",
       "      <td>1</td>\n",
       "    </tr>\n",
       "    <tr>\n",
       "      <th>3</th>\n",
       "      <td>40017</td>\n",
       "      <td>2</td>\n",
       "      <td>1</td>\n",
       "    </tr>\n",
       "    <tr>\n",
       "      <th>4</th>\n",
       "      <td>40017</td>\n",
       "      <td>2</td>\n",
       "      <td>1</td>\n",
       "    </tr>\n",
       "  </tbody>\n",
       "</table>\n",
       "</div>"
      ],
      "text/plain": [
       "      id  mun  loc\n",
       "0  40014    2    1\n",
       "1  40015    2    1\n",
       "2  40016    2    1\n",
       "3  40017    2    1\n",
       "4  40017    2    1"
      ]
     },
     "execution_count": 70,
     "metadata": {},
     "output_type": "execute_result"
    }
   ],
   "source": [
    "df_sdemt115_cdmx.head()"
   ]
  },
  {
   "cell_type": "code",
   "execution_count": 75,
   "metadata": {},
   "outputs": [],
   "source": [
    "df_sdemt115_cdmx_copy = df_sdemt115_cdmx.copy()"
   ]
  },
  {
   "cell_type": "markdown",
   "metadata": {},
   "source": [
    "## Recovery location"
   ]
  },
  {
   "cell_type": "code",
   "execution_count": 79,
   "metadata": {},
   "outputs": [],
   "source": [
    "df_coe1t115_cdmx_copy.drop_duplicates(inplace=True)"
   ]
  },
  {
   "cell_type": "code",
   "execution_count": 78,
   "metadata": {},
   "outputs": [],
   "source": [
    "df_sdemt115_cdmx_copy.drop_duplicates(inplace=True)"
   ]
  },
  {
   "cell_type": "code",
   "execution_count": 80,
   "metadata": {},
   "outputs": [],
   "source": [
    "df = pd.merge(left=df_coe1t115_cdmx_copy, right=df_sdemt115_cdmx_copy, on=['id'], how='inner')"
   ]
  },
  {
   "cell_type": "code",
   "execution_count": 84,
   "metadata": {},
   "outputs": [
    {
     "data": {
      "text/html": [
       "<div>\n",
       "<style scoped>\n",
       "    .dataframe tbody tr th:only-of-type {\n",
       "        vertical-align: middle;\n",
       "    }\n",
       "\n",
       "    .dataframe tbody tr th {\n",
       "        vertical-align: top;\n",
       "    }\n",
       "\n",
       "    .dataframe thead th {\n",
       "        text-align: right;\n",
       "    }\n",
       "</style>\n",
       "<table border=\"1\" class=\"dataframe\">\n",
       "  <thead>\n",
       "    <tr style=\"text-align: right;\">\n",
       "      <th></th>\n",
       "      <th>r_def</th>\n",
       "      <th>cd_a</th>\n",
       "      <th>ent</th>\n",
       "      <th>con</th>\n",
       "      <th>upm</th>\n",
       "      <th>d_sem</th>\n",
       "      <th>n_pro_viv</th>\n",
       "      <th>v_sel</th>\n",
       "      <th>n_hog</th>\n",
       "      <th>h_mud</th>\n",
       "      <th>...</th>\n",
       "      <th>p5g13</th>\n",
       "      <th>p5g14</th>\n",
       "      <th>p5g15</th>\n",
       "      <th>p5g99</th>\n",
       "      <th>p5h</th>\n",
       "      <th>ur</th>\n",
       "      <th>fac</th>\n",
       "      <th>id</th>\n",
       "      <th>mun</th>\n",
       "      <th>loc</th>\n",
       "    </tr>\n",
       "  </thead>\n",
       "  <tbody>\n",
       "    <tr>\n",
       "      <th>0</th>\n",
       "      <td>0</td>\n",
       "      <td>1</td>\n",
       "      <td>9</td>\n",
       "      <td>40001</td>\n",
       "      <td>900471</td>\n",
       "      <td>101</td>\n",
       "      <td>19</td>\n",
       "      <td>1</td>\n",
       "      <td>1</td>\n",
       "      <td>0</td>\n",
       "      <td>...</td>\n",
       "      <td>NaN</td>\n",
       "      <td>14.0</td>\n",
       "      <td>NaN</td>\n",
       "      <td>NaN</td>\n",
       "      <td></td>\n",
       "      <td>1</td>\n",
       "      <td>507</td>\n",
       "      <td>40014</td>\n",
       "      <td>2</td>\n",
       "      <td>1</td>\n",
       "    </tr>\n",
       "    <tr>\n",
       "      <th>1</th>\n",
       "      <td>0</td>\n",
       "      <td>1</td>\n",
       "      <td>9</td>\n",
       "      <td>40001</td>\n",
       "      <td>900471</td>\n",
       "      <td>101</td>\n",
       "      <td>45</td>\n",
       "      <td>2</td>\n",
       "      <td>1</td>\n",
       "      <td>0</td>\n",
       "      <td>...</td>\n",
       "      <td>NaN</td>\n",
       "      <td>14.0</td>\n",
       "      <td>NaN</td>\n",
       "      <td>NaN</td>\n",
       "      <td></td>\n",
       "      <td>1</td>\n",
       "      <td>507</td>\n",
       "      <td>40015</td>\n",
       "      <td>2</td>\n",
       "      <td>1</td>\n",
       "    </tr>\n",
       "    <tr>\n",
       "      <th>2</th>\n",
       "      <td>0</td>\n",
       "      <td>1</td>\n",
       "      <td>9</td>\n",
       "      <td>40002</td>\n",
       "      <td>900821</td>\n",
       "      <td>101</td>\n",
       "      <td>26</td>\n",
       "      <td>1</td>\n",
       "      <td>1</td>\n",
       "      <td>0</td>\n",
       "      <td>...</td>\n",
       "      <td>NaN</td>\n",
       "      <td>NaN</td>\n",
       "      <td>NaN</td>\n",
       "      <td>NaN</td>\n",
       "      <td></td>\n",
       "      <td>1</td>\n",
       "      <td>1152</td>\n",
       "      <td>40015</td>\n",
       "      <td>2</td>\n",
       "      <td>1</td>\n",
       "    </tr>\n",
       "    <tr>\n",
       "      <th>3</th>\n",
       "      <td>0</td>\n",
       "      <td>1</td>\n",
       "      <td>9</td>\n",
       "      <td>40001</td>\n",
       "      <td>900471</td>\n",
       "      <td>101</td>\n",
       "      <td>45</td>\n",
       "      <td>2</td>\n",
       "      <td>1</td>\n",
       "      <td>0</td>\n",
       "      <td>...</td>\n",
       "      <td>NaN</td>\n",
       "      <td>14.0</td>\n",
       "      <td>NaN</td>\n",
       "      <td>NaN</td>\n",
       "      <td></td>\n",
       "      <td>1</td>\n",
       "      <td>507</td>\n",
       "      <td>40016</td>\n",
       "      <td>2</td>\n",
       "      <td>1</td>\n",
       "    </tr>\n",
       "    <tr>\n",
       "      <th>4</th>\n",
       "      <td>0</td>\n",
       "      <td>1</td>\n",
       "      <td>9</td>\n",
       "      <td>40001</td>\n",
       "      <td>900471</td>\n",
       "      <td>101</td>\n",
       "      <td>45</td>\n",
       "      <td>2</td>\n",
       "      <td>1</td>\n",
       "      <td>0</td>\n",
       "      <td>...</td>\n",
       "      <td>NaN</td>\n",
       "      <td>14.0</td>\n",
       "      <td>NaN</td>\n",
       "      <td>NaN</td>\n",
       "      <td></td>\n",
       "      <td>1</td>\n",
       "      <td>507</td>\n",
       "      <td>40016</td>\n",
       "      <td>6</td>\n",
       "      <td>1</td>\n",
       "    </tr>\n",
       "  </tbody>\n",
       "</table>\n",
       "<p>5 rows × 189 columns</p>\n",
       "</div>"
      ],
      "text/plain": [
       "   r_def  cd_a  ent    con     upm  d_sem  n_pro_viv  v_sel  n_hog  h_mud ...  \\\n",
       "0      0     1    9  40001  900471    101         19      1      1      0 ...   \n",
       "1      0     1    9  40001  900471    101         45      2      1      0 ...   \n",
       "2      0     1    9  40002  900821    101         26      1      1      0 ...   \n",
       "3      0     1    9  40001  900471    101         45      2      1      0 ...   \n",
       "4      0     1    9  40001  900471    101         45      2      1      0 ...   \n",
       "\n",
       "   p5g13  p5g14  p5g15  p5g99  p5h  ur   fac     id mun loc  \n",
       "0    NaN   14.0    NaN    NaN        1   507  40014   2   1  \n",
       "1    NaN   14.0    NaN    NaN        1   507  40015   2   1  \n",
       "2    NaN    NaN    NaN    NaN        1  1152  40015   2   1  \n",
       "3    NaN   14.0    NaN    NaN        1   507  40016   2   1  \n",
       "4    NaN   14.0    NaN    NaN        1   507  40016   6   1  \n",
       "\n",
       "[5 rows x 189 columns]"
      ]
     },
     "execution_count": 84,
     "metadata": {},
     "output_type": "execute_result"
    }
   ],
   "source": [
    "df.head()"
   ]
  },
  {
   "cell_type": "code",
   "execution_count": 85,
   "metadata": {},
   "outputs": [
    {
     "data": {
      "text/plain": [
       "(50063, 189)"
      ]
     },
     "execution_count": 85,
     "metadata": {},
     "output_type": "execute_result"
    }
   ],
   "source": [
    "df.shape"
   ]
  },
  {
   "cell_type": "code",
   "execution_count": 86,
   "metadata": {},
   "outputs": [
    {
     "data": {
      "text/plain": [
       "677"
      ]
     },
     "execution_count": 86,
     "metadata": {},
     "output_type": "execute_result"
    }
   ],
   "source": [
    "df.id.nunique()"
   ]
  },
  {
   "cell_type": "code",
   "execution_count": 87,
   "metadata": {},
   "outputs": [
    {
     "data": {
      "text/plain": [
       "(313934, 186)"
      ]
     },
     "execution_count": 87,
     "metadata": {},
     "output_type": "execute_result"
    }
   ],
   "source": [
    "df_coe1t115.shape"
   ]
  },
  {
   "cell_type": "code",
   "execution_count": 89,
   "metadata": {},
   "outputs": [],
   "source": [
    "df_copy = df.copy()"
   ]
  },
  {
   "cell_type": "markdown",
   "metadata": {},
   "source": [
    "## Check NA"
   ]
  },
  {
   "cell_type": "code",
   "execution_count": 90,
   "metadata": {},
   "outputs": [
    {
     "data": {
      "text/plain": [
       "True"
      ]
     },
     "execution_count": 90,
     "metadata": {},
     "output_type": "execute_result"
    }
   ],
   "source": [
    "df_copy.isnull().any().any()"
   ]
  },
  {
   "cell_type": "code",
   "execution_count": 93,
   "metadata": {},
   "outputs": [
    {
     "data": {
      "text/plain": [
       "Index(['p1c', 'p2a_dia', 'p2a_mes', 'p2a_anio', 'p2b_dia', 'p2b_mes',\n",
       "       'p2b_anio', 'p2d1', 'p2d2', 'p2d3', 'p2d4', 'p2d5', 'p2d6', 'p2d7',\n",
       "       'p2d8', 'p2d9', 'p2d10', 'p2d11', 'p2d99', 'p2g2', 'p3', 'p3f2',\n",
       "       'p3g1_2', 'p3g2_2', 'p3g3_2', 'p3g4_2', 'p3g_tot', 'p3n', 'p3p2', 'p3q',\n",
       "       'p3r_anio', 'p3r_mes', 'p3t_anio', 'p3t_mes', 'p4a', 'p4f', 'p5c_hlu',\n",
       "       'p5c_mlu', 'p5c_hma', 'p5c_mma', 'p5c_hmi', 'p5c_mmi', 'p5c_hju',\n",
       "       'p5c_mju', 'p5c_hvi', 'p5c_mvi', 'p5c_hsa', 'p5c_msa', 'p5c_hdo',\n",
       "       'p5c_mdo', 'p5c_thrs', 'p5e_hlu', 'p5e_mlu', 'p5e_hma', 'p5e_mma',\n",
       "       'p5e_hmi', 'p5e_mmi', 'p5e_hju', 'p5e_mju', 'p5e_hvi', 'p5e_mvi',\n",
       "       'p5e_hsa', 'p5e_msa', 'p5e_hdo', 'p5e_mdo', 'p5e_thrs', 'p5f', 'p5g1',\n",
       "       'p5g2', 'p5g3', 'p5g4', 'p5g5', 'p5g6', 'p5g7', 'p5g8', 'p5g9', 'p5g10',\n",
       "       'p5g11', 'p5g12', 'p5g13', 'p5g14', 'p5g15', 'p5g99'],\n",
       "      dtype='object')"
      ]
     },
     "execution_count": 93,
     "metadata": {},
     "output_type": "execute_result"
    }
   ],
   "source": [
    "df_copy.columns[df_copy.isnull().any()]"
   ]
  },
  {
   "cell_type": "code",
   "execution_count": 96,
   "metadata": {},
   "outputs": [
    {
     "data": {
      "text/plain": [
       "50063"
      ]
     },
     "execution_count": 96,
     "metadata": {},
     "output_type": "execute_result"
    }
   ],
   "source": [
    "len(pd.isnull(df_copy).any(1).nonzero()[0].tolist())"
   ]
  },
  {
   "cell_type": "code",
   "execution_count": 97,
   "metadata": {},
   "outputs": [],
   "source": [
    "df_copy.replace(to_replace=' ', value=np.NaN, inplace=True)"
   ]
  },
  {
   "cell_type": "code",
   "execution_count": 98,
   "metadata": {},
   "outputs": [
    {
     "data": {
      "text/plain": [
       "<matplotlib.axes._subplots.AxesSubplot at 0x220999ce710>"
      ]
     },
     "execution_count": 98,
     "metadata": {},
     "output_type": "execute_result"
    },
    {
     "data": {
      "image/png": "[encoded data removed]",
      "text/plain": [
       "<Figure size 1728x720 with 2 Axes>"
      ]
     },
     "metadata": {
      "needs_background": "light"
     },
     "output_type": "display_data"
    }
   ],
   "source": [
    "msno.bar(df_copy)"
   ]
  },
  {
   "cell_type": "code",
   "execution_count": 99,
   "metadata": {},
   "outputs": [],
   "source": [
    "df_copy.fillna(value=-1, inplace=True)"
   ]
  },
  {
   "cell_type": "code",
   "execution_count": 100,
   "metadata": {},
   "outputs": [
    {
     "data": {
      "text/plain": [
       "40050"
      ]
     },
     "execution_count": 100,
     "metadata": {},
     "output_type": "execute_result"
    }
   ],
   "source": [
    "threshold = round(df_copy.shape[0]*.8)\n",
    "threshold"
   ]
  },
  {
   "cell_type": "code",
   "execution_count": 101,
   "metadata": {},
   "outputs": [
    {
     "name": "stdout",
     "output_type": "stream",
     "text": [
      "p1a1 :  23  -  40050\n",
      "p1a1 :  d e l e t e d\n",
      "p1a2 :  134  -  40050\n",
      "p1a2 :  d e l e t e d\n",
      "p1a3 :  24310  -  40050\n",
      "p1a3 :  d e l e t e d\n",
      "p1b :  24310  -  40050\n",
      "p1b :  d e l e t e d\n",
      "p1c :  1644  -  40050\n",
      "p1c :  d e l e t e d\n",
      "p1d :  1615  -  40050\n",
      "p1d :  d e l e t e d\n",
      "p1e :  1002  -  40050\n",
      "p1e :  d e l e t e d\n",
      "p2_1 :  0  -  40050\n",
      "p2_1 :  d e l e t e d\n",
      "p2_2 :  1726  -  40050\n",
      "p2_2 :  d e l e t e d\n",
      "p2_3 :  42  -  40050\n",
      "p2_3 :  d e l e t e d\n",
      "p2_4 :  21533  -  40050\n",
      "p2_4 :  d e l e t e d\n",
      "p2_9 :  0  -  40050\n",
      "p2_9 :  d e l e t e d\n",
      "p2a_dia :  1753  -  40050\n",
      "p2a_dia :  d e l e t e d\n",
      "p2a_sem :  369  -  40050\n",
      "p2a_sem :  d e l e t e d\n",
      "p2a_mes :  1753  -  40050\n",
      "p2a_mes :  d e l e t e d\n",
      "p2a_anio :  1753  -  40050\n",
      "p2a_anio :  d e l e t e d\n",
      "p2b_dia :  1753  -  40050\n",
      "p2b_dia :  d e l e t e d\n",
      "p2b_sem :  149  -  40050\n",
      "p2b_sem :  d e l e t e d\n",
      "p2b_mes :  1753  -  40050\n",
      "p2b_mes :  d e l e t e d\n",
      "p2b_anio :  1753  -  40050\n",
      "p2b_anio :  d e l e t e d\n",
      "p2b :  1753  -  40050\n",
      "p2b :  d e l e t e d\n",
      "p2c :  1716  -  40050\n",
      "p2c :  d e l e t e d\n",
      "p2d1 :  876  -  40050\n",
      "p2d1 :  d e l e t e d\n",
      "p2d2 :  52  -  40050\n",
      "p2d2 :  d e l e t e d\n",
      "p2d3 :  33  -  40050\n",
      "p2d3 :  d e l e t e d\n",
      "p2d4 :  7  -  40050\n",
      "p2d4 :  d e l e t e d\n",
      "p2d5 :  36  -  40050\n",
      "p2d5 :  d e l e t e d\n",
      "p2d6 :  547  -  40050\n",
      "p2d6 :  d e l e t e d\n",
      "p2d7 :  136  -  40050\n",
      "p2d7 :  d e l e t e d\n",
      "p2d8 :  5  -  40050\n",
      "p2d8 :  d e l e t e d\n",
      "p2d9 :  180  -  40050\n",
      "p2d9 :  d e l e t e d\n",
      "p2d10 :  32  -  40050\n",
      "p2d10 :  d e l e t e d\n",
      "p2d11 :  6  -  40050\n",
      "p2d11 :  d e l e t e d\n",
      "p2d99 :  0  -  40050\n",
      "p2d99 :  d e l e t e d\n",
      "p2e :  21591  -  40050\n",
      "p2e :  d e l e t e d\n",
      "p2f :  20678  -  40050\n",
      "p2f :  d e l e t e d\n",
      "p2g1 :  5159  -  40050\n",
      "p2g1 :  d e l e t e d\n",
      "p2g2 :  1510  -  40050\n",
      "p2g2 :  d e l e t e d\n",
      "p2h1 :  11265  -  40050\n",
      "p2h1 :  d e l e t e d\n",
      "p2h2 :  1153  -  40050\n",
      "p2h2 :  d e l e t e d\n",
      "p2h3 :  83  -  40050\n",
      "p2h3 :  d e l e t e d\n",
      "p2h4 :  10505  -  40050\n",
      "p2h4 :  d e l e t e d\n",
      "p2h9 :  20  -  40050\n",
      "p2h9 :  d e l e t e d\n",
      "p3 :  26777  -  40050\n",
      "p3 :  d e l e t e d\n",
      "p3a :  26777  -  40050\n",
      "p3a :  d e l e t e d\n",
      "p3b :  6949  -  40050\n",
      "p3b :  d e l e t e d\n",
      "p3c1 :  76  -  40050\n",
      "p3c1 :  d e l e t e d\n",
      "p3c2 :  462  -  40050\n",
      "p3c2 :  d e l e t e d\n",
      "p3c3 :  6125  -  40050\n",
      "p3c3 :  d e l e t e d\n",
      "p3c4 :  0  -  40050\n",
      "p3c4 :  d e l e t e d\n",
      "p3c9 :  0  -  40050\n",
      "p3c9 :  d e l e t e d\n",
      "p3d :  6536  -  40050\n",
      "p3d :  d e l e t e d\n",
      "p3e :  1910  -  40050\n",
      "p3e :  d e l e t e d\n",
      "p3f1 :  1910  -  40050\n",
      "p3f1 :  d e l e t e d\n",
      "p3f2 :  39  -  40050\n",
      "p3f2 :  d e l e t e d\n",
      "p3g1_1 :  1011  -  40050\n",
      "p3g1_1 :  d e l e t e d\n",
      "p3g1_2 :  1011  -  40050\n",
      "p3g1_2 :  d e l e t e d\n",
      "p3g2_1 :  579  -  40050\n",
      "p3g2_1 :  d e l e t e d\n",
      "p3g2_2 :  579  -  40050\n",
      "p3g2_2 :  d e l e t e d\n",
      "p3g3_1 :  624  -  40050\n",
      "p3g3_1 :  d e l e t e d\n",
      "p3g3_2 :  624  -  40050\n",
      "p3g3_2 :  d e l e t e d\n",
      "p3g4_1 :  0  -  40050\n",
      "p3g4_1 :  d e l e t e d\n",
      "p3g4_2 :  0  -  40050\n",
      "p3g4_2 :  d e l e t e d\n",
      "p3g9 :  0  -  40050\n",
      "p3g9 :  d e l e t e d\n",
      "p3g_tot :  1910  -  40050\n",
      "p3g_tot :  d e l e t e d\n",
      "p3h :  20241  -  40050\n",
      "p3h :  d e l e t e d\n",
      "p3i :  19485  -  40050\n",
      "p3i :  d e l e t e d\n",
      "p3j :  19485  -  40050\n",
      "p3j :  d e l e t e d\n",
      "p3k1 :  11666  -  40050\n",
      "p3k1 :  d e l e t e d\n",
      "p3k2 :  2515  -  40050\n",
      "p3k2 :  d e l e t e d\n",
      "p3l1 :  12656  -  40050\n",
      "p3l1 :  d e l e t e d\n",
      "p3l2 :  10989  -  40050\n",
      "p3l2 :  d e l e t e d\n",
      "p3l3 :  2274  -  40050\n",
      "p3l3 :  d e l e t e d\n",
      "p3l4 :  192  -  40050\n",
      "p3l4 :  d e l e t e d\n",
      "p3l5 :  6463  -  40050\n",
      "p3l5 :  d e l e t e d\n",
      "p3l9 :  74  -  40050\n",
      "p3l9 :  d e l e t e d\n",
      "p3m1 :  9152  -  40050\n",
      "p3m1 :  d e l e t e d\n",
      "p3m2 :  2458  -  40050\n",
      "p3m2 :  d e l e t e d\n",
      "p3m3 :  2284  -  40050\n",
      "p3m3 :  d e l e t e d\n",
      "p3m4 :  9726  -  40050\n",
      "p3m4 :  d e l e t e d\n",
      "p3m5 :  4644  -  40050\n",
      "p3m5 :  d e l e t e d\n",
      "p3m6 :  1410  -  40050\n",
      "p3m6 :  d e l e t e d\n",
      "p3m7 :  4648  -  40050\n",
      "p3m7 :  d e l e t e d\n",
      "p3m8 :  2655  -  40050\n",
      "p3m8 :  d e l e t e d\n",
      "p3m9 :  67  -  40050\n",
      "p3m9 :  d e l e t e d\n",
      "p3n :  19485  -  40050\n",
      "p3n :  d e l e t e d\n",
      "p3o :  19485  -  40050\n",
      "p3o :  d e l e t e d\n",
      "p3p1 :  286  -  40050\n",
      "p3p1 :  d e l e t e d\n",
      "p3p2 :  286  -  40050\n",
      "p3p2 :  d e l e t e d\n",
      "p3q :  20241  -  40050\n",
      "p3q :  d e l e t e d\n",
      "p3r_anio :  26777  -  40050\n",
      "p3r_anio :  d e l e t e d\n",
      "p3r_mes :  5410  -  40050\n",
      "p3r_mes :  d e l e t e d\n",
      "p3r :  26777  -  40050\n",
      "p3r :  d e l e t e d\n",
      "p3s :  21367  -  40050\n",
      "p3s :  d e l e t e d\n",
      "p3t_anio :  64  -  40050\n",
      "p3t_anio :  d e l e t e d\n",
      "p3t_mes :  36  -  40050\n",
      "p3t_mes :  d e l e t e d\n",
      "p4 :  26777  -  40050\n",
      "p4 :  d e l e t e d\n",
      "p4_1 :  4676  -  40050\n",
      "p4_1 :  d e l e t e d\n",
      "p4_2 :  4676  -  40050\n",
      "p4_2 :  d e l e t e d\n",
      "p4_3 :  7845  -  40050\n",
      "p4_3 :  d e l e t e d\n",
      "p4a :  26777  -  40050\n",
      "p4a :  d e l e t e d\n",
      "p4a_1 :  26777  -  40050\n",
      "p4a_1 :  d e l e t e d\n",
      "p4b :  25165  -  40050\n",
      "p4b :  d e l e t e d\n",
      "p4c :  20105  -  40050\n",
      "p4c :  d e l e t e d\n",
      "p4d1 :  4726  -  40050\n",
      "p4d1 :  d e l e t e d\n",
      "p4d2 :  4726  -  40050\n",
      "p4d2 :  d e l e t e d\n",
      "p4d3 :  12112  -  40050\n",
      "p4d3 :  d e l e t e d\n",
      "p4e :  12678  -  40050\n",
      "p4e :  d e l e t e d\n",
      "p4f :  6757  -  40050\n",
      "p4f :  d e l e t e d\n",
      "p4g :  12260  -  40050\n",
      "p4g :  d e l e t e d\n",
      "p4h :  7845  -  40050\n",
      "p4h :  d e l e t e d\n",
      "p4i :  7845  -  40050\n",
      "p4i :  d e l e t e d\n",
      "p4i_1 :  7845  -  40050\n",
      "p4i_1 :  d e l e t e d\n",
      "p5 :  26443  -  40050\n",
      "p5 :  d e l e t e d\n",
      "p5a :  26777  -  40050\n",
      "p5a :  d e l e t e d\n",
      "p5b :  2271  -  40050\n",
      "p5b :  d e l e t e d\n",
      "p5c_hlu :  25753  -  40050\n",
      "p5c_hlu :  d e l e t e d\n",
      "p5c_mlu :  25753  -  40050\n",
      "p5c_mlu :  d e l e t e d\n",
      "p5c_hma :  25753  -  40050\n",
      "p5c_hma :  d e l e t e d\n",
      "p5c_mma :  25753  -  40050\n",
      "p5c_mma :  d e l e t e d\n",
      "p5c_hmi :  25753  -  40050\n",
      "p5c_hmi :  d e l e t e d\n",
      "p5c_mmi :  25753  -  40050\n",
      "p5c_mmi :  d e l e t e d\n",
      "p5c_hju :  25753  -  40050\n",
      "p5c_hju :  d e l e t e d\n",
      "p5c_mju :  25753  -  40050\n",
      "p5c_mju :  d e l e t e d\n",
      "p5c_hvi :  25753  -  40050\n",
      "p5c_hvi :  d e l e t e d\n",
      "p5c_mvi :  25753  -  40050\n",
      "p5c_mvi :  d e l e t e d\n",
      "p5c_hsa :  25753  -  40050\n",
      "p5c_hsa :  d e l e t e d\n",
      "p5c_msa :  25753  -  40050\n",
      "p5c_msa :  d e l e t e d\n",
      "p5c_hdo :  25753  -  40050\n",
      "p5c_hdo :  d e l e t e d\n",
      "p5c_mdo :  25753  -  40050\n",
      "p5c_mdo :  d e l e t e d\n",
      "p5c_thrs :  25753  -  40050\n",
      "p5c_thrs :  d e l e t e d\n",
      "p5c_tdia :  25753  -  40050\n",
      "p5c_tdia :  d e l e t e d\n",
      "p5d :  25753  -  40050\n",
      "p5d :  d e l e t e d\n",
      "p5e1 :  5211  -  40050\n",
      "p5e1 :  d e l e t e d\n",
      "p5e_hlu :  3423  -  40050\n",
      "p5e_hlu :  d e l e t e d\n",
      "p5e_mlu :  3423  -  40050\n",
      "p5e_mlu :  d e l e t e d\n",
      "p5e_hma :  3423  -  40050\n",
      "p5e_hma :  d e l e t e d\n",
      "p5e_mma :  3423  -  40050\n",
      "p5e_mma :  d e l e t e d\n",
      "p5e_hmi :  3423  -  40050\n",
      "p5e_hmi :  d e l e t e d\n",
      "p5e_mmi :  3423  -  40050\n",
      "p5e_mmi :  d e l e t e d\n",
      "p5e_hju :  3423  -  40050\n",
      "p5e_hju :  d e l e t e d\n",
      "p5e_mju :  3423  -  40050\n",
      "p5e_mju :  d e l e t e d\n",
      "p5e_hvi :  3423  -  40050\n",
      "p5e_hvi :  d e l e t e d\n",
      "p5e_mvi :  3423  -  40050\n",
      "p5e_mvi :  d e l e t e d\n",
      "p5e_hsa :  3423  -  40050\n",
      "p5e_hsa :  d e l e t e d\n",
      "p5e_msa :  3423  -  40050\n",
      "p5e_msa :  d e l e t e d\n",
      "p5e_hdo :  3423  -  40050\n",
      "p5e_hdo :  d e l e t e d\n",
      "p5e_mdo :  3423  -  40050\n",
      "p5e_mdo :  d e l e t e d\n",
      "p5e_thrs :  3423  -  40050\n",
      "p5e_thrs :  d e l e t e d\n",
      "p5e_tdia :  3423  -  40050\n",
      "p5e_tdia :  d e l e t e d\n",
      "p5f :  2487  -  40050\n",
      "p5f :  d e l e t e d\n",
      "p5g1 :  7  -  40050\n",
      "p5g1 :  d e l e t e d\n",
      "p5g2 :  0  -  40050\n",
      "p5g2 :  d e l e t e d\n",
      "p5g3 :  0  -  40050\n",
      "p5g3 :  d e l e t e d\n",
      "p5g4 :  0  -  40050\n",
      "p5g4 :  d e l e t e d\n",
      "p5g5 :  0  -  40050\n",
      "p5g5 :  d e l e t e d\n",
      "p5g6 :  0  -  40050\n",
      "p5g6 :  d e l e t e d\n",
      "p5g7 :  0  -  40050\n",
      "p5g7 :  d e l e t e d\n",
      "p5g8 :  0  -  40050\n",
      "p5g8 :  d e l e t e d\n",
      "p5g9 :  0  -  40050\n",
      "p5g9 :  d e l e t e d\n",
      "p5g10 :  0  -  40050\n",
      "p5g10 :  d e l e t e d\n",
      "p5g11 :  0  -  40050\n",
      "p5g11 :  d e l e t e d\n",
      "p5g12 :  0  -  40050\n",
      "p5g12 :  d e l e t e d\n",
      "p5g13 :  11  -  40050\n",
      "p5g13 :  d e l e t e d\n",
      "p5g14 :  24056  -  40050\n",
      "p5g14 :  d e l e t e d\n",
      "p5g15 :  2703  -  40050\n",
      "p5g15 :  d e l e t e d\n",
      "p5g99 :  0  -  40050\n",
      "p5g99 :  d e l e t e d\n",
      "p5h :  18  -  40050\n",
      "p5h :  d e l e t e d\n"
     ]
    }
   ],
   "source": [
    "l = []\n",
    "for column in df_copy.columns:\n",
    "    na_column =  df_copy[column].value_counts().get(-1)\n",
    "    if(na_column != None):\n",
    "        print(column, ': ', df_copy.shape[0] - na_column, ' - ', threshold)\n",
    "        if (df_copy.shape[0] - na_column < threshold):\n",
    "            print(column, ': ', 'd e l e t e d')\n",
    "            l.append(column)"
   ]
  },
  {
   "cell_type": "code",
   "execution_count": 102,
   "metadata": {},
   "outputs": [
    {
     "data": {
      "text/plain": [
       "168"
      ]
     },
     "execution_count": 102,
     "metadata": {},
     "output_type": "execute_result"
    }
   ],
   "source": [
    "len(l)"
   ]
  },
  {
   "cell_type": "code",
   "execution_count": 103,
   "metadata": {},
   "outputs": [],
   "source": [
    "df_copy.drop(labels=l, axis=1, inplace=True)"
   ]
  },
  {
   "cell_type": "code",
   "execution_count": 104,
   "metadata": {},
   "outputs": [],
   "source": [
    "df_copy.replace(to_replace=-1, value=np.NaN, inplace=True)"
   ]
  },
  {
   "cell_type": "code",
   "execution_count": 105,
   "metadata": {},
   "outputs": [
    {
     "data": {
      "text/plain": [
       "<matplotlib.axes._subplots.AxesSubplot at 0x2209a7466d8>"
      ]
     },
     "execution_count": 105,
     "metadata": {},
     "output_type": "execute_result"
    },
    {
     "data": {
      "image/png": "[encoded data removed]",
      "text/plain": [
       "<Figure size 1800x720 with 2 Axes>"
      ]
     },
     "metadata": {
      "needs_background": "light"
     },
     "output_type": "display_data"
    }
   ],
   "source": [
    "msno.matrix(df_copy)"
   ]
  },
  {
   "cell_type": "code",
   "execution_count": 106,
   "metadata": {},
   "outputs": [
    {
     "data": {
      "text/plain": [
       "False"
      ]
     },
     "execution_count": 106,
     "metadata": {},
     "output_type": "execute_result"
    }
   ],
   "source": [
    "df_copy.isnull().any().any()"
   ]
  },
  {
   "cell_type": "code",
   "execution_count": 107,
   "metadata": {},
   "outputs": [
    {
     "data": {
      "text/plain": [
       "(50063, 21)"
      ]
     },
     "execution_count": 107,
     "metadata": {},
     "output_type": "execute_result"
    }
   ],
   "source": [
    "df_copy.shape"
   ]
  },
  {
   "cell_type": "code",
   "execution_count": 108,
   "metadata": {},
   "outputs": [],
   "source": [
    "file = \"../../dataframes/enoe/coe1t115_clean.csv\""
   ]
  },
  {
   "cell_type": "code",
   "execution_count": 109,
   "metadata": {},
   "outputs": [],
   "source": [
    "df_copy.to_csv(file)"
   ]
  },
  {
   "cell_type": "code",
   "execution_count": null,
   "metadata": {},
   "outputs": [],
   "source": []
  }
 ],
 "metadata": {
  "kernelspec": {
   "display_name": "Python 3",
   "language": "python",
   "name": "python3"
  },
  "language_info": {
   "codemirror_mode": {
    "name": "ipython",
    "version": 3
   },
   "file_extension": ".py",
   "mimetype": "text/x-python",
   "name": "python",
   "nbconvert_exporter": "python",
   "pygments_lexer": "ipython3",
   "version": "3.7.0"
  }
 },
 "nbformat": 4,
 "nbformat_minor": 2
}
