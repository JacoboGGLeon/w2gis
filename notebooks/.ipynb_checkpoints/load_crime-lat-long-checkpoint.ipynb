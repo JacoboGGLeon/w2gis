{
 "cells": [
  {
   "cell_type": "markdown",
   "metadata": {},
   "source": [
    "[DATOS OFICIALES](!https://hoyodecrimen.com/)"
   ]
  },
  {
   "cell_type": "code",
   "execution_count": 1,
   "metadata": {},
   "outputs": [],
   "source": [
    "import pandas as pd"
   ]
  },
  {
   "cell_type": "code",
   "execution_count": 63,
   "metadata": {},
   "outputs": [],
   "source": [
    "file = \"../w2gis/data/clean-data/crime-lat-long.csv\""
   ]
  },
  {
   "cell_type": "code",
   "execution_count": 64,
   "metadata": {},
   "outputs": [],
   "source": [
    "df = pd.read_csv(file)"
   ]
  },
  {
   "cell_type": "code",
   "execution_count": 65,
   "metadata": {},
   "outputs": [
    {
     "data": {
      "text/html": [
       "<div>\n",
       "<style scoped>\n",
       "    .dataframe tbody tr th:only-of-type {\n",
       "        vertical-align: middle;\n",
       "    }\n",
       "\n",
       "    .dataframe tbody tr th {\n",
       "        vertical-align: top;\n",
       "    }\n",
       "\n",
       "    .dataframe thead th {\n",
       "        text-align: right;\n",
       "    }\n",
       "</style>\n",
       "<table border=\"1\" class=\"dataframe\">\n",
       "  <thead>\n",
       "    <tr style=\"text-align: right;\">\n",
       "      <th></th>\n",
       "      <th>cuadrante</th>\n",
       "      <th>crime</th>\n",
       "      <th>date</th>\n",
       "      <th>hour</th>\n",
       "      <th>year</th>\n",
       "      <th>month</th>\n",
       "      <th>lat</th>\n",
       "      <th>long</th>\n",
       "    </tr>\n",
       "  </thead>\n",
       "  <tbody>\n",
       "    <tr>\n",
       "      <th>0</th>\n",
       "      <td>N-1.1.18</td>\n",
       "      <td>VIOLACION</td>\n",
       "      <td>2013-01-01</td>\n",
       "      <td>10:07</td>\n",
       "      <td>2013</td>\n",
       "      <td>1</td>\n",
       "      <td>19.544080</td>\n",
       "      <td>-99.124721</td>\n",
       "    </tr>\n",
       "    <tr>\n",
       "      <th>1</th>\n",
       "      <td>O-3.1.3</td>\n",
       "      <td>ROBO A NEGOCIO C.V.</td>\n",
       "      <td>2013-01-01</td>\n",
       "      <td>18:36</td>\n",
       "      <td>2013</td>\n",
       "      <td>1</td>\n",
       "      <td>19.188359</td>\n",
       "      <td>-99.074483</td>\n",
       "    </tr>\n",
       "    <tr>\n",
       "      <th>2</th>\n",
       "      <td>P-1.2.7</td>\n",
       "      <td>ROBO DE VEHICULO AUTOMOTOR S.V.</td>\n",
       "      <td>2013-01-01</td>\n",
       "      <td>01:31</td>\n",
       "      <td>2013</td>\n",
       "      <td>1</td>\n",
       "      <td>19.380817</td>\n",
       "      <td>-99.199885</td>\n",
       "    </tr>\n",
       "    <tr>\n",
       "      <th>3</th>\n",
       "      <td>P-1.2.9</td>\n",
       "      <td>ROBO A TRANSEUNTE C.V.</td>\n",
       "      <td>2013-01-01</td>\n",
       "      <td>14:54</td>\n",
       "      <td>2013</td>\n",
       "      <td>1</td>\n",
       "      <td>19.369505</td>\n",
       "      <td>-99.199835</td>\n",
       "    </tr>\n",
       "    <tr>\n",
       "      <th>4</th>\n",
       "      <td>P-1.2.2</td>\n",
       "      <td>ROBO DE VEHICULO AUTOMOTOR S.V.</td>\n",
       "      <td>2013-01-01</td>\n",
       "      <td>18:31</td>\n",
       "      <td>2013</td>\n",
       "      <td>1</td>\n",
       "      <td>19.393359</td>\n",
       "      <td>-99.199451</td>\n",
       "    </tr>\n",
       "  </tbody>\n",
       "</table>\n",
       "</div>"
      ],
      "text/plain": [
       "  cuadrante                            crime        date   hour  year  month  \\\n",
       "0  N-1.1.18                        VIOLACION  2013-01-01  10:07  2013      1   \n",
       "1   O-3.1.3              ROBO A NEGOCIO C.V.  2013-01-01  18:36  2013      1   \n",
       "2   P-1.2.7  ROBO DE VEHICULO AUTOMOTOR S.V.  2013-01-01  01:31  2013      1   \n",
       "3   P-1.2.9           ROBO A TRANSEUNTE C.V.  2013-01-01  14:54  2013      1   \n",
       "4   P-1.2.2  ROBO DE VEHICULO AUTOMOTOR S.V.  2013-01-01  18:31  2013      1   \n",
       "\n",
       "         lat       long  \n",
       "0  19.544080 -99.124721  \n",
       "1  19.188359 -99.074483  \n",
       "2  19.380817 -99.199885  \n",
       "3  19.369505 -99.199835  \n",
       "4  19.393359 -99.199451  "
      ]
     },
     "execution_count": 65,
     "metadata": {},
     "output_type": "execute_result"
    }
   ],
   "source": [
    "df.head()"
   ]
  },
  {
   "cell_type": "code",
   "execution_count": 66,
   "metadata": {},
   "outputs": [
    {
     "data": {
      "text/plain": [
       "(132692, 8)"
      ]
     },
     "execution_count": 66,
     "metadata": {},
     "output_type": "execute_result"
    }
   ],
   "source": [
    "df.shape"
   ]
  },
  {
   "cell_type": "code",
   "execution_count": 67,
   "metadata": {},
   "outputs": [],
   "source": [
    "df_copy = df.copy()"
   ]
  },
  {
   "cell_type": "markdown",
   "metadata": {},
   "source": [
    "## Slicing the date"
   ]
  },
  {
   "cell_type": "code",
   "execution_count": 68,
   "metadata": {},
   "outputs": [
    {
     "data": {
      "text/plain": [
       "'2013-01-01'"
      ]
     },
     "execution_count": 68,
     "metadata": {},
     "output_type": "execute_result"
    }
   ],
   "source": [
    "df_copy.date[1]"
   ]
  },
  {
   "cell_type": "code",
   "execution_count": 69,
   "metadata": {},
   "outputs": [
    {
     "data": {
      "text/plain": [
       "'2013'"
      ]
     },
     "execution_count": 69,
     "metadata": {},
     "output_type": "execute_result"
    }
   ],
   "source": [
    "df_copy.date[1][:4]"
   ]
  },
  {
   "cell_type": "code",
   "execution_count": 70,
   "metadata": {},
   "outputs": [
    {
     "data": {
      "text/plain": [
       "'01'"
      ]
     },
     "execution_count": 70,
     "metadata": {},
     "output_type": "execute_result"
    }
   ],
   "source": [
    "df_copy.date[1][5:7]"
   ]
  },
  {
   "cell_type": "code",
   "execution_count": 71,
   "metadata": {},
   "outputs": [
    {
     "data": {
      "text/plain": [
       "'01'"
      ]
     },
     "execution_count": 71,
     "metadata": {},
     "output_type": "execute_result"
    }
   ],
   "source": [
    "df_copy.date[1][8:]"
   ]
  },
  {
   "cell_type": "code",
   "execution_count": 72,
   "metadata": {},
   "outputs": [],
   "source": [
    "list_year = []\n",
    "list_month = []\n",
    "list_day = []"
   ]
  },
  {
   "cell_type": "code",
   "execution_count": 73,
   "metadata": {},
   "outputs": [],
   "source": [
    "for line in range(0, df_copy.shape[0]):\n",
    "    list_year.append(df_copy.date[line][:4])\n",
    "    list_month.append(df_copy.date[line][5:7])\n",
    "    list_day.append(df_copy.date[line][8:])"
   ]
  },
  {
   "cell_type": "code",
   "execution_count": 74,
   "metadata": {},
   "outputs": [],
   "source": [
    "df_copy[\"year\"] = list_year"
   ]
  },
  {
   "cell_type": "code",
   "execution_count": 75,
   "metadata": {},
   "outputs": [],
   "source": [
    "df_copy[\"month\"] = list_month"
   ]
  },
  {
   "cell_type": "code",
   "execution_count": 76,
   "metadata": {},
   "outputs": [],
   "source": [
    "df_copy[\"day\"] = list_day"
   ]
  },
  {
   "cell_type": "code",
   "execution_count": 77,
   "metadata": {},
   "outputs": [
    {
     "data": {
      "text/html": [
       "<div>\n",
       "<style scoped>\n",
       "    .dataframe tbody tr th:only-of-type {\n",
       "        vertical-align: middle;\n",
       "    }\n",
       "\n",
       "    .dataframe tbody tr th {\n",
       "        vertical-align: top;\n",
       "    }\n",
       "\n",
       "    .dataframe thead th {\n",
       "        text-align: right;\n",
       "    }\n",
       "</style>\n",
       "<table border=\"1\" class=\"dataframe\">\n",
       "  <thead>\n",
       "    <tr style=\"text-align: right;\">\n",
       "      <th></th>\n",
       "      <th>cuadrante</th>\n",
       "      <th>crime</th>\n",
       "      <th>date</th>\n",
       "      <th>hour</th>\n",
       "      <th>year</th>\n",
       "      <th>month</th>\n",
       "      <th>lat</th>\n",
       "      <th>long</th>\n",
       "      <th>day</th>\n",
       "    </tr>\n",
       "  </thead>\n",
       "  <tbody>\n",
       "    <tr>\n",
       "      <th>0</th>\n",
       "      <td>N-1.1.18</td>\n",
       "      <td>VIOLACION</td>\n",
       "      <td>2013-01-01</td>\n",
       "      <td>10:07</td>\n",
       "      <td>2013</td>\n",
       "      <td>01</td>\n",
       "      <td>19.544080</td>\n",
       "      <td>-99.124721</td>\n",
       "      <td>01</td>\n",
       "    </tr>\n",
       "    <tr>\n",
       "      <th>1</th>\n",
       "      <td>O-3.1.3</td>\n",
       "      <td>ROBO A NEGOCIO C.V.</td>\n",
       "      <td>2013-01-01</td>\n",
       "      <td>18:36</td>\n",
       "      <td>2013</td>\n",
       "      <td>01</td>\n",
       "      <td>19.188359</td>\n",
       "      <td>-99.074483</td>\n",
       "      <td>01</td>\n",
       "    </tr>\n",
       "    <tr>\n",
       "      <th>2</th>\n",
       "      <td>P-1.2.7</td>\n",
       "      <td>ROBO DE VEHICULO AUTOMOTOR S.V.</td>\n",
       "      <td>2013-01-01</td>\n",
       "      <td>01:31</td>\n",
       "      <td>2013</td>\n",
       "      <td>01</td>\n",
       "      <td>19.380817</td>\n",
       "      <td>-99.199885</td>\n",
       "      <td>01</td>\n",
       "    </tr>\n",
       "    <tr>\n",
       "      <th>3</th>\n",
       "      <td>P-1.2.9</td>\n",
       "      <td>ROBO A TRANSEUNTE C.V.</td>\n",
       "      <td>2013-01-01</td>\n",
       "      <td>14:54</td>\n",
       "      <td>2013</td>\n",
       "      <td>01</td>\n",
       "      <td>19.369505</td>\n",
       "      <td>-99.199835</td>\n",
       "      <td>01</td>\n",
       "    </tr>\n",
       "    <tr>\n",
       "      <th>4</th>\n",
       "      <td>P-1.2.2</td>\n",
       "      <td>ROBO DE VEHICULO AUTOMOTOR S.V.</td>\n",
       "      <td>2013-01-01</td>\n",
       "      <td>18:31</td>\n",
       "      <td>2013</td>\n",
       "      <td>01</td>\n",
       "      <td>19.393359</td>\n",
       "      <td>-99.199451</td>\n",
       "      <td>01</td>\n",
       "    </tr>\n",
       "  </tbody>\n",
       "</table>\n",
       "</div>"
      ],
      "text/plain": [
       "  cuadrante                            crime        date   hour  year month  \\\n",
       "0  N-1.1.18                        VIOLACION  2013-01-01  10:07  2013    01   \n",
       "1   O-3.1.3              ROBO A NEGOCIO C.V.  2013-01-01  18:36  2013    01   \n",
       "2   P-1.2.7  ROBO DE VEHICULO AUTOMOTOR S.V.  2013-01-01  01:31  2013    01   \n",
       "3   P-1.2.9           ROBO A TRANSEUNTE C.V.  2013-01-01  14:54  2013    01   \n",
       "4   P-1.2.2  ROBO DE VEHICULO AUTOMOTOR S.V.  2013-01-01  18:31  2013    01   \n",
       "\n",
       "         lat       long day  \n",
       "0  19.544080 -99.124721  01  \n",
       "1  19.188359 -99.074483  01  \n",
       "2  19.380817 -99.199885  01  \n",
       "3  19.369505 -99.199835  01  \n",
       "4  19.393359 -99.199451  01  "
      ]
     },
     "execution_count": 77,
     "metadata": {},
     "output_type": "execute_result"
    }
   ],
   "source": [
    "df_copy.head()"
   ]
  },
  {
   "cell_type": "markdown",
   "metadata": {},
   "source": [
    "## Check NA"
   ]
  },
  {
   "cell_type": "code",
   "execution_count": 78,
   "metadata": {},
   "outputs": [
    {
     "data": {
      "text/plain": [
       "True"
      ]
     },
     "execution_count": 78,
     "metadata": {},
     "output_type": "execute_result"
    }
   ],
   "source": [
    "df_copy.isnull().any().any()"
   ]
  },
  {
   "cell_type": "code",
   "execution_count": 79,
   "metadata": {},
   "outputs": [
    {
     "data": {
      "text/plain": [
       "['lat', 'long']"
      ]
     },
     "execution_count": 79,
     "metadata": {},
     "output_type": "execute_result"
    }
   ],
   "source": [
    "df_copy.columns[df_copy.isnull().any()].tolist()"
   ]
  },
  {
   "cell_type": "code",
   "execution_count": 80,
   "metadata": {},
   "outputs": [
    {
     "data": {
      "text/plain": [
       "1551"
      ]
     },
     "execution_count": 80,
     "metadata": {},
     "output_type": "execute_result"
    }
   ],
   "source": [
    "len(pd.isnull(df_copy).any(1).nonzero()[0].tolist())"
   ]
  },
  {
   "cell_type": "code",
   "execution_count": 81,
   "metadata": {},
   "outputs": [],
   "source": [
    "missing = pd.isnull(df_copy).any(1).nonzero()[0].tolist()"
   ]
  },
  {
   "cell_type": "code",
   "execution_count": 82,
   "metadata": {},
   "outputs": [],
   "source": [
    "df_copy.drop(index=missing, axis=0, inplace=True)"
   ]
  },
  {
   "cell_type": "code",
   "execution_count": 83,
   "metadata": {},
   "outputs": [
    {
     "data": {
      "text/plain": [
       "(131141, 9)"
      ]
     },
     "execution_count": 83,
     "metadata": {},
     "output_type": "execute_result"
    }
   ],
   "source": [
    "df_copy.shape"
   ]
  },
  {
   "cell_type": "code",
   "execution_count": 84,
   "metadata": {},
   "outputs": [
    {
     "data": {
      "text/plain": [
       "False"
      ]
     },
     "execution_count": 84,
     "metadata": {},
     "output_type": "execute_result"
    }
   ],
   "source": [
    "df_copy.isnull().any().any()"
   ]
  },
  {
   "cell_type": "code",
   "execution_count": 85,
   "metadata": {},
   "outputs": [
    {
     "data": {
      "text/html": [
       "<div>\n",
       "<style scoped>\n",
       "    .dataframe tbody tr th:only-of-type {\n",
       "        vertical-align: middle;\n",
       "    }\n",
       "\n",
       "    .dataframe tbody tr th {\n",
       "        vertical-align: top;\n",
       "    }\n",
       "\n",
       "    .dataframe thead th {\n",
       "        text-align: right;\n",
       "    }\n",
       "</style>\n",
       "<table border=\"1\" class=\"dataframe\">\n",
       "  <thead>\n",
       "    <tr style=\"text-align: right;\">\n",
       "      <th></th>\n",
       "      <th>cuadrante</th>\n",
       "      <th>crime</th>\n",
       "      <th>date</th>\n",
       "      <th>hour</th>\n",
       "      <th>year</th>\n",
       "      <th>month</th>\n",
       "      <th>lat</th>\n",
       "      <th>long</th>\n",
       "      <th>day</th>\n",
       "    </tr>\n",
       "  </thead>\n",
       "  <tbody>\n",
       "    <tr>\n",
       "      <th>0</th>\n",
       "      <td>N-1.1.18</td>\n",
       "      <td>VIOLACION</td>\n",
       "      <td>2013-01-01</td>\n",
       "      <td>10:07</td>\n",
       "      <td>2013</td>\n",
       "      <td>01</td>\n",
       "      <td>19.544080</td>\n",
       "      <td>-99.124721</td>\n",
       "      <td>01</td>\n",
       "    </tr>\n",
       "    <tr>\n",
       "      <th>1</th>\n",
       "      <td>O-3.1.3</td>\n",
       "      <td>ROBO A NEGOCIO C.V.</td>\n",
       "      <td>2013-01-01</td>\n",
       "      <td>18:36</td>\n",
       "      <td>2013</td>\n",
       "      <td>01</td>\n",
       "      <td>19.188359</td>\n",
       "      <td>-99.074483</td>\n",
       "      <td>01</td>\n",
       "    </tr>\n",
       "    <tr>\n",
       "      <th>2</th>\n",
       "      <td>P-1.2.7</td>\n",
       "      <td>ROBO DE VEHICULO AUTOMOTOR S.V.</td>\n",
       "      <td>2013-01-01</td>\n",
       "      <td>01:31</td>\n",
       "      <td>2013</td>\n",
       "      <td>01</td>\n",
       "      <td>19.380817</td>\n",
       "      <td>-99.199885</td>\n",
       "      <td>01</td>\n",
       "    </tr>\n",
       "    <tr>\n",
       "      <th>3</th>\n",
       "      <td>P-1.2.9</td>\n",
       "      <td>ROBO A TRANSEUNTE C.V.</td>\n",
       "      <td>2013-01-01</td>\n",
       "      <td>14:54</td>\n",
       "      <td>2013</td>\n",
       "      <td>01</td>\n",
       "      <td>19.369505</td>\n",
       "      <td>-99.199835</td>\n",
       "      <td>01</td>\n",
       "    </tr>\n",
       "    <tr>\n",
       "      <th>4</th>\n",
       "      <td>P-1.2.2</td>\n",
       "      <td>ROBO DE VEHICULO AUTOMOTOR S.V.</td>\n",
       "      <td>2013-01-01</td>\n",
       "      <td>18:31</td>\n",
       "      <td>2013</td>\n",
       "      <td>01</td>\n",
       "      <td>19.393359</td>\n",
       "      <td>-99.199451</td>\n",
       "      <td>01</td>\n",
       "    </tr>\n",
       "  </tbody>\n",
       "</table>\n",
       "</div>"
      ],
      "text/plain": [
       "  cuadrante                            crime        date   hour  year month  \\\n",
       "0  N-1.1.18                        VIOLACION  2013-01-01  10:07  2013    01   \n",
       "1   O-3.1.3              ROBO A NEGOCIO C.V.  2013-01-01  18:36  2013    01   \n",
       "2   P-1.2.7  ROBO DE VEHICULO AUTOMOTOR S.V.  2013-01-01  01:31  2013    01   \n",
       "3   P-1.2.9           ROBO A TRANSEUNTE C.V.  2013-01-01  14:54  2013    01   \n",
       "4   P-1.2.2  ROBO DE VEHICULO AUTOMOTOR S.V.  2013-01-01  18:31  2013    01   \n",
       "\n",
       "         lat       long day  \n",
       "0  19.544080 -99.124721  01  \n",
       "1  19.188359 -99.074483  01  \n",
       "2  19.380817 -99.199885  01  \n",
       "3  19.369505 -99.199835  01  \n",
       "4  19.393359 -99.199451  01  "
      ]
     },
     "execution_count": 85,
     "metadata": {},
     "output_type": "execute_result"
    }
   ],
   "source": [
    "df_copy.head()"
   ]
  },
  {
   "cell_type": "markdown",
   "metadata": {},
   "source": [
    "## Crime"
   ]
  },
  {
   "cell_type": "code",
   "execution_count": 87,
   "metadata": {},
   "outputs": [
    {
     "data": {
      "text/plain": [
       "ROBO DE VEHICULO AUTOMOTOR S.V.    36819\n",
       "ROBO A TRANSEUNTE C.V.             31707\n",
       "ROBO DE VEHICULO AUTOMOTOR C.V.    16484\n",
       "ROBO A NEGOCIO C.V.                13386\n",
       "ROBO A REPARTIDOR C.V.              6773\n",
       "LESIONES POR ARMA DE FUEGO          4448\n",
       "HOMICIDIO DOLOSO                    3801\n",
       "ROBO A BORDO DE MICROBUS C.V.       3683\n",
       "ROBO A TRANSEUNTE S.V.              2771\n",
       "ROBO A CASA HABITACION C.V.         2231\n",
       "VIOLACION                           2019\n",
       "ROBO A CUENTAHABIENTE C.V.          1919\n",
       "ROBO A REPARTIDOR S.V.              1488\n",
       "ROBO A BORDO DE METRO S.V.          1162\n",
       "ROBO A BORDO DE TAXI C.V.           1026\n",
       "ROBO A TRANSPORTISTA C.V.            735\n",
       "ROBO A BORDO DE METRO C.V.           516\n",
       "ROBO A BORDO DE MICROBUS S.V.        118\n",
       "ROBO A TRANSPORTISTA S.V.             55\n",
       "Name: crime, dtype: int64"
      ]
     },
     "execution_count": 87,
     "metadata": {},
     "output_type": "execute_result"
    }
   ],
   "source": [
    "df_copy.crime.value_counts()"
   ]
  },
  {
   "cell_type": "code",
   "execution_count": 96,
   "metadata": {},
   "outputs": [
    {
     "data": {
      "text/plain": [
       "2013    41954\n",
       "2014    36137\n",
       "2015    32416\n",
       "2016    20634\n",
       "Name: year, dtype: int64"
      ]
     },
     "execution_count": 96,
     "metadata": {},
     "output_type": "execute_result"
    }
   ],
   "source": [
    "df_copy.year.value_counts()"
   ]
  },
  {
   "cell_type": "code",
   "execution_count": 98,
   "metadata": {},
   "outputs": [
    {
     "data": {
      "text/plain": [
       "crime\n",
       "HOMICIDIO DOLOSO                    3801\n",
       "LESIONES POR ARMA DE FUEGO          4448\n",
       "ROBO A BORDO DE METRO C.V.           516\n",
       "ROBO A BORDO DE METRO S.V.          1162\n",
       "ROBO A BORDO DE MICROBUS C.V.       3683\n",
       "ROBO A BORDO DE MICROBUS S.V.        118\n",
       "ROBO A BORDO DE TAXI C.V.           1026\n",
       "ROBO A CASA HABITACION C.V.         2231\n",
       "ROBO A CUENTAHABIENTE C.V.          1919\n",
       "ROBO A NEGOCIO C.V.                13386\n",
       "ROBO A REPARTIDOR C.V.              6773\n",
       "ROBO A REPARTIDOR S.V.              1488\n",
       "ROBO A TRANSEUNTE C.V.             31707\n",
       "ROBO A TRANSEUNTE S.V.              2771\n",
       "ROBO A TRANSPORTISTA C.V.            735\n",
       "ROBO A TRANSPORTISTA S.V.             55\n",
       "ROBO DE VEHICULO AUTOMOTOR C.V.    16484\n",
       "ROBO DE VEHICULO AUTOMOTOR S.V.    36819\n",
       "VIOLACION                           2019\n",
       "Name: year, dtype: int64"
      ]
     },
     "execution_count": 98,
     "metadata": {},
     "output_type": "execute_result"
    }
   ],
   "source": [
    "df_copy.groupby([\"crime\"]).count()"
   ]
  },
  {
   "cell_type": "code",
   "execution_count": 99,
   "metadata": {},
   "outputs": [
    {
     "data": {
      "text/plain": [
       "array(['VIOLACION', 'ROBO A NEGOCIO C.V.',\n",
       "       'ROBO DE VEHICULO AUTOMOTOR S.V.', 'ROBO A TRANSEUNTE C.V.',\n",
       "       'LESIONES POR ARMA DE FUEGO', 'ROBO DE VEHICULO AUTOMOTOR C.V.',\n",
       "       'ROBO A TRANSEUNTE S.V.', 'HOMICIDIO DOLOSO',\n",
       "       'ROBO A REPARTIDOR C.V.', 'ROBO A CUENTAHABIENTE C.V.',\n",
       "       'ROBO A BORDO DE TAXI C.V.', 'ROBO A BORDO DE MICROBUS C.V.',\n",
       "       'ROBO A REPARTIDOR S.V.', 'ROBO A TRANSPORTISTA C.V.',\n",
       "       'ROBO A CASA HABITACION C.V.', 'ROBO A BORDO DE METRO C.V.',\n",
       "       'ROBO A TRANSPORTISTA S.V.', 'ROBO A BORDO DE METRO S.V.',\n",
       "       'ROBO A BORDO DE MICROBUS S.V.'], dtype=object)"
      ]
     },
     "execution_count": 99,
     "metadata": {},
     "output_type": "execute_result"
    }
   ],
   "source": [
    "df_copy.crime.unique()"
   ]
  },
  {
   "cell_type": "markdown",
   "metadata": {},
   "source": [
    "## Save df"
   ]
  },
  {
   "cell_type": "code",
   "execution_count": 86,
   "metadata": {},
   "outputs": [],
   "source": [
    "df_copy.to_csv(path_or_buf=\"../w2gis/data/clean-data/crime-lat-long_clean.csv\")"
   ]
  },
  {
   "cell_type": "code",
   "execution_count": null,
   "metadata": {},
   "outputs": [],
   "source": []
  }
 ],
 "metadata": {
  "kernelspec": {
   "display_name": "Python 3",
   "language": "python",
   "name": "python3"
  },
  "language_info": {
   "codemirror_mode": {
    "name": "ipython",
    "version": 3
   },
   "file_extension": ".py",
   "mimetype": "text/x-python",
   "name": "python",
   "nbconvert_exporter": "python",
   "pygments_lexer": "ipython3",
   "version": "3.7.0"
  }
 },
 "nbformat": 4,
 "nbformat_minor": 2
}
