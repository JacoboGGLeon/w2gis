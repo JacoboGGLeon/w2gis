{
 "cells": [
  {
   "cell_type": "code",
   "execution_count": null,
   "metadata": {},
   "outputs": [],
   "source": []
  },
  {
   "cell_type": "code",
   "execution_count": 1,
   "metadata": {},
   "outputs": [],
   "source": [
    "import pandas as pd\n",
    "import numpy as np"
   ]
  },
  {
   "cell_type": "markdown",
   "metadata": {},
   "source": [
    "## Vivienda"
   ]
  },
  {
   "cell_type": "code",
   "execution_count": 19,
   "metadata": {},
   "outputs": [],
   "source": [
    "file = \"../../dataframes/enigh/enigh_clean_2016.csv\""
   ]
  },
  {
   "cell_type": "code",
   "execution_count": 20,
   "metadata": {},
   "outputs": [],
   "source": [
    "df = pd.read_csv(filepath_or_buffer=file)"
   ]
  },
  {
   "cell_type": "code",
   "execution_count": 21,
   "metadata": {},
   "outputs": [
    {
     "data": {
      "text/plain": [
       "(70311, 124)"
      ]
     },
     "execution_count": 21,
     "metadata": {},
     "output_type": "execute_result"
    }
   ],
   "source": [
    "df.shape"
   ]
  },
  {
   "cell_type": "code",
   "execution_count": 22,
   "metadata": {},
   "outputs": [
    {
     "data": {
      "text/plain": [
       "False"
      ]
     },
     "execution_count": 22,
     "metadata": {},
     "output_type": "execute_result"
    }
   ],
   "source": [
    "df.isnull().any().any()"
   ]
  },
  {
   "cell_type": "code",
   "execution_count": 25,
   "metadata": {},
   "outputs": [
    {
     "data": {
      "text/html": [
       "<div>\n",
       "<style scoped>\n",
       "    .dataframe tbody tr th:only-of-type {\n",
       "        vertical-align: middle;\n",
       "    }\n",
       "\n",
       "    .dataframe tbody tr th {\n",
       "        vertical-align: top;\n",
       "    }\n",
       "\n",
       "    .dataframe thead th {\n",
       "        text-align: right;\n",
       "    }\n",
       "</style>\n",
       "<table border=\"1\" class=\"dataframe\">\n",
       "  <thead>\n",
       "    <tr style=\"text-align: right;\">\n",
       "      <th></th>\n",
       "      <th>Unnamed: 0</th>\n",
       "      <th>tam_loc</th>\n",
       "      <th>est_socio</th>\n",
       "      <th>clase_hog</th>\n",
       "      <th>sexo_jefe</th>\n",
       "      <th>edad_jefe</th>\n",
       "      <th>educa_jefe</th>\n",
       "      <th>tot_integ</th>\n",
       "      <th>hombres</th>\n",
       "      <th>mujeres</th>\n",
       "      <th>...</th>\n",
       "      <th>deposito</th>\n",
       "      <th>prest_terc</th>\n",
       "      <th>pago_tarje</th>\n",
       "      <th>deudas</th>\n",
       "      <th>balance</th>\n",
       "      <th>otras_erog</th>\n",
       "      <th>smg</th>\n",
       "      <th>ent</th>\n",
       "      <th>mun</th>\n",
       "      <th>loc</th>\n",
       "    </tr>\n",
       "  </thead>\n",
       "  <tbody>\n",
       "    <tr>\n",
       "      <th>0</th>\n",
       "      <td>0</td>\n",
       "      <td>1</td>\n",
       "      <td>4</td>\n",
       "      <td>2</td>\n",
       "      <td>1</td>\n",
       "      <td>33</td>\n",
       "      <td>10</td>\n",
       "      <td>2</td>\n",
       "      <td>1</td>\n",
       "      <td>1</td>\n",
       "      <td>...</td>\n",
       "      <td>0.0</td>\n",
       "      <td>0.0</td>\n",
       "      <td>17409.83</td>\n",
       "      <td>0.0</td>\n",
       "      <td>0.0</td>\n",
       "      <td>0.0</td>\n",
       "      <td>6573.6</td>\n",
       "      <td>1</td>\n",
       "      <td>1</td>\n",
       "      <td>0</td>\n",
       "    </tr>\n",
       "    <tr>\n",
       "      <th>1</th>\n",
       "      <td>1</td>\n",
       "      <td>1</td>\n",
       "      <td>4</td>\n",
       "      <td>2</td>\n",
       "      <td>1</td>\n",
       "      <td>29</td>\n",
       "      <td>10</td>\n",
       "      <td>2</td>\n",
       "      <td>1</td>\n",
       "      <td>1</td>\n",
       "      <td>...</td>\n",
       "      <td>0.0</td>\n",
       "      <td>0.0</td>\n",
       "      <td>5360.65</td>\n",
       "      <td>0.0</td>\n",
       "      <td>0.0</td>\n",
       "      <td>0.0</td>\n",
       "      <td>6573.6</td>\n",
       "      <td>1</td>\n",
       "      <td>1</td>\n",
       "      <td>0</td>\n",
       "    </tr>\n",
       "    <tr>\n",
       "      <th>2</th>\n",
       "      <td>2</td>\n",
       "      <td>1</td>\n",
       "      <td>4</td>\n",
       "      <td>2</td>\n",
       "      <td>1</td>\n",
       "      <td>47</td>\n",
       "      <td>10</td>\n",
       "      <td>6</td>\n",
       "      <td>2</td>\n",
       "      <td>4</td>\n",
       "      <td>...</td>\n",
       "      <td>0.0</td>\n",
       "      <td>0.0</td>\n",
       "      <td>23606.55</td>\n",
       "      <td>0.0</td>\n",
       "      <td>0.0</td>\n",
       "      <td>0.0</td>\n",
       "      <td>6573.6</td>\n",
       "      <td>1</td>\n",
       "      <td>1</td>\n",
       "      <td>0</td>\n",
       "    </tr>\n",
       "    <tr>\n",
       "      <th>3</th>\n",
       "      <td>3</td>\n",
       "      <td>1</td>\n",
       "      <td>4</td>\n",
       "      <td>3</td>\n",
       "      <td>2</td>\n",
       "      <td>29</td>\n",
       "      <td>11</td>\n",
       "      <td>3</td>\n",
       "      <td>0</td>\n",
       "      <td>3</td>\n",
       "      <td>...</td>\n",
       "      <td>0.0</td>\n",
       "      <td>0.0</td>\n",
       "      <td>8852.45</td>\n",
       "      <td>0.0</td>\n",
       "      <td>0.0</td>\n",
       "      <td>0.0</td>\n",
       "      <td>6573.6</td>\n",
       "      <td>1</td>\n",
       "      <td>1</td>\n",
       "      <td>0</td>\n",
       "    </tr>\n",
       "    <tr>\n",
       "      <th>4</th>\n",
       "      <td>4</td>\n",
       "      <td>1</td>\n",
       "      <td>4</td>\n",
       "      <td>2</td>\n",
       "      <td>1</td>\n",
       "      <td>55</td>\n",
       "      <td>10</td>\n",
       "      <td>2</td>\n",
       "      <td>2</td>\n",
       "      <td>0</td>\n",
       "      <td>...</td>\n",
       "      <td>0.0</td>\n",
       "      <td>0.0</td>\n",
       "      <td>0.00</td>\n",
       "      <td>0.0</td>\n",
       "      <td>0.0</td>\n",
       "      <td>0.0</td>\n",
       "      <td>6573.6</td>\n",
       "      <td>1</td>\n",
       "      <td>1</td>\n",
       "      <td>0</td>\n",
       "    </tr>\n",
       "  </tbody>\n",
       "</table>\n",
       "<p>5 rows × 124 columns</p>\n",
       "</div>"
      ],
      "text/plain": [
       "   Unnamed: 0  tam_loc  est_socio  clase_hog  sexo_jefe  edad_jefe  \\\n",
       "0           0        1          4          2          1         33   \n",
       "1           1        1          4          2          1         29   \n",
       "2           2        1          4          2          1         47   \n",
       "3           3        1          4          3          2         29   \n",
       "4           4        1          4          2          1         55   \n",
       "\n",
       "   educa_jefe  tot_integ  hombres  mujeres ...   deposito  prest_terc  \\\n",
       "0          10          2        1        1 ...        0.0         0.0   \n",
       "1          10          2        1        1 ...        0.0         0.0   \n",
       "2          10          6        2        4 ...        0.0         0.0   \n",
       "3          11          3        0        3 ...        0.0         0.0   \n",
       "4          10          2        2        0 ...        0.0         0.0   \n",
       "\n",
       "   pago_tarje  deudas  balance  otras_erog     smg  ent  mun  loc  \n",
       "0    17409.83     0.0      0.0         0.0  6573.6    1    1    0  \n",
       "1     5360.65     0.0      0.0         0.0  6573.6    1    1    0  \n",
       "2    23606.55     0.0      0.0         0.0  6573.6    1    1    0  \n",
       "3     8852.45     0.0      0.0         0.0  6573.6    1    1    0  \n",
       "4        0.00     0.0      0.0         0.0  6573.6    1    1    0  \n",
       "\n",
       "[5 rows x 124 columns]"
      ]
     },
     "execution_count": 25,
     "metadata": {},
     "output_type": "execute_result"
    }
   ],
   "source": [
    "df.head()"
   ]
  },
  {
   "cell_type": "code",
   "execution_count": 33,
   "metadata": {},
   "outputs": [],
   "source": [
    "df_copy = df.copy()"
   ]
  },
  {
   "cell_type": "code",
   "execution_count": 34,
   "metadata": {},
   "outputs": [],
   "source": [
    "df_copy.drop(labels=['Unnamed: 0', 'smg'], axis=1, inplace=True)"
   ]
  },
  {
   "cell_type": "code",
   "execution_count": 35,
   "metadata": {},
   "outputs": [
    {
     "data": {
      "text/plain": [
       "Index(['tam_loc', 'est_socio', 'clase_hog', 'sexo_jefe', 'edad_jefe',\n",
       "       'educa_jefe', 'tot_integ', 'hombres', 'mujeres', 'mayores',\n",
       "       ...\n",
       "       'servicio', 'deposito', 'prest_terc', 'pago_tarje', 'deudas', 'balance',\n",
       "       'otras_erog', 'ent', 'mun', 'loc'],\n",
       "      dtype='object', length=122)"
      ]
     },
     "execution_count": 35,
     "metadata": {},
     "output_type": "execute_result"
    }
   ],
   "source": [
    "df_copy.columns"
   ]
  },
  {
   "cell_type": "code",
   "execution_count": 36,
   "metadata": {},
   "outputs": [],
   "source": [
    "categoricos = ['tam_loc', 'est_socio', 'clase_hog', 'sexo_jefe', 'educa_jefe']"
   ]
  },
  {
   "cell_type": "code",
   "execution_count": 38,
   "metadata": {},
   "outputs": [
    {
     "data": {
      "text/plain": [
       "['edad_jefe',\n",
       " 'tot_integ',\n",
       " 'hombres',\n",
       " 'mujeres',\n",
       " 'mayores',\n",
       " 'menores',\n",
       " 'p12_64',\n",
       " 'p65mas',\n",
       " 'ocupados',\n",
       " 'percep_ing',\n",
       " 'perc_ocupa',\n",
       " 'ing_cor',\n",
       " 'ingtrab',\n",
       " 'trabajo',\n",
       " 'sueldos',\n",
       " 'horas_extr',\n",
       " 'comisiones',\n",
       " 'aguinaldo',\n",
       " 'indemtrab',\n",
       " 'otra_rem',\n",
       " 'remu_espec',\n",
       " 'negocio',\n",
       " 'noagrop',\n",
       " 'industria',\n",
       " 'comercio',\n",
       " 'servicios',\n",
       " 'agrope',\n",
       " 'agricolas',\n",
       " 'pecuarios',\n",
       " 'reproducc',\n",
       " 'pesca',\n",
       " 'otros_trab',\n",
       " 'rentas',\n",
       " 'utilidad',\n",
       " 'arrenda',\n",
       " 'transfer',\n",
       " 'jubilacion',\n",
       " 'becas',\n",
       " 'donativos',\n",
       " 'remesas',\n",
       " 'bene_gob',\n",
       " 'transf_hog',\n",
       " 'trans_inst',\n",
       " 'estim_alqu',\n",
       " 'otros_ing',\n",
       " 'gasto_mon',\n",
       " 'alimentos',\n",
       " 'ali_dentro',\n",
       " 'cereales',\n",
       " 'carnes',\n",
       " 'pescado',\n",
       " 'leche',\n",
       " 'huevo',\n",
       " 'aceites',\n",
       " 'tuberculo',\n",
       " 'verduras',\n",
       " 'frutas',\n",
       " 'azucar',\n",
       " 'cafe',\n",
       " 'especias',\n",
       " 'otros_alim',\n",
       " 'bebidas',\n",
       " 'ali_fuera',\n",
       " 'tabaco',\n",
       " 'vesti_calz',\n",
       " 'vestido',\n",
       " 'calzado',\n",
       " 'vivienda',\n",
       " 'alquiler',\n",
       " 'pred_cons',\n",
       " 'agua',\n",
       " 'energia',\n",
       " 'limpieza',\n",
       " 'cuidados',\n",
       " 'utensilios',\n",
       " 'enseres',\n",
       " 'salud',\n",
       " 'atenc_ambu',\n",
       " 'hospital',\n",
       " 'medicinas',\n",
       " 'transporte',\n",
       " 'publico',\n",
       " 'foraneo',\n",
       " 'adqui_vehi',\n",
       " 'mantenim',\n",
       " 'refaccion',\n",
       " 'combus',\n",
       " 'comunica',\n",
       " 'educa_espa',\n",
       " 'educacion',\n",
       " 'esparci',\n",
       " 'paq_turist',\n",
       " 'personales',\n",
       " 'cuida_pers',\n",
       " 'acces_pers',\n",
       " 'otros_gas',\n",
       " 'transf_gas',\n",
       " 'percep_tot',\n",
       " 'retiro_inv',\n",
       " 'prestamos',\n",
       " 'otras_perc',\n",
       " 'ero_nm_viv',\n",
       " 'ero_nm_hog',\n",
       " 'erogac_tot',\n",
       " 'cuota_viv',\n",
       " 'mater_serv',\n",
       " 'material',\n",
       " 'servicio',\n",
       " 'deposito',\n",
       " 'prest_terc',\n",
       " 'pago_tarje',\n",
       " 'deudas',\n",
       " 'balance',\n",
       " 'otras_erog']"
      ]
     },
     "execution_count": 38,
     "metadata": {},
     "output_type": "execute_result"
    }
   ],
   "source": [
    "numericos = []\n",
    "\n",
    "for row in df_copy.columns:\n",
    "    if row not in categoricos:\n",
    "        if (row != 'ent') & (row != 'mun') & (row != 'loc'):\n",
    "#            print(row)\n",
    "            numericos.append(row)\n",
    "            \n",
    "numericos"
   ]
  },
  {
   "cell_type": "code",
   "execution_count": 39,
   "metadata": {},
   "outputs": [
    {
     "data": {
      "text/plain": [
       "(70311, 122)"
      ]
     },
     "execution_count": 39,
     "metadata": {},
     "output_type": "execute_result"
    }
   ],
   "source": [
    "df_copy.shape"
   ]
  },
  {
   "cell_type": "code",
   "execution_count": 40,
   "metadata": {},
   "outputs": [
    {
     "data": {
      "text/plain": [
       "122"
      ]
     },
     "execution_count": 40,
     "metadata": {},
     "output_type": "execute_result"
    }
   ],
   "source": [
    "len(numericos) + len (categoricos) + 3"
   ]
  },
  {
   "cell_type": "code",
   "execution_count": 41,
   "metadata": {},
   "outputs": [],
   "source": [
    "df_transform = pd.DataFrame()\n",
    "dicc_transform = {}"
   ]
  },
  {
   "cell_type": "code",
   "execution_count": 42,
   "metadata": {},
   "outputs": [
    {
     "name": "stdout",
     "output_type": "stream",
     "text": [
      "tam_loc\n",
      "4\n",
      "[1 2 3 4]\n",
      "[0.37282929 0.1281734  0.13441709 0.36458022]\n",
      "est_socio\n",
      "4\n",
      "[4 3 2 1]\n",
      "[0.06604941 0.17726956 0.52887884 0.22780219]\n",
      "clase_hog\n",
      "5\n",
      "[2 3 1 4 5]\n",
      "[0.6453471  0.23333476 0.11039524 0.00738149 0.00354141]\n",
      "sexo_jefe\n",
      "2\n",
      "[1 2]\n",
      "[0.73840509 0.26159491]\n",
      "educa_jefe\n",
      "11\n",
      "[10 11  8  4  3  6  1  7  9  5  2]\n",
      "[0.08665785 0.01695325 0.10537469 0.17624554 0.17746867 0.26239138\n",
      " 0.07663097 0.03373583 0.02700858 0.03660878 0.00092446]\n"
     ]
    }
   ],
   "source": [
    "for element in categoricos:\n",
    "    i = 0\n",
    "    column = element\n",
    "    \n",
    "    print(element)\n",
    "\n",
    "    grouped = pd.DataFrame(df_copy[column].dropna().value_counts())\n",
    "    grouped.head()\n",
    "\n",
    "    grouped.reset_index(inplace=True)\n",
    "    grouped.columns\n",
    "\n",
    "    grouped.rename(columns={0: 'Key'}, inplace=True)\n",
    "    grouped.columns\n",
    "\n",
    "    grouped\n",
    "\n",
    "    list_ = []\n",
    "    for row in grouped[column]:\n",
    "    #    print(\"%.2f\" % (row/df_copy.shape[0]))\n",
    "        list_.append(row/df_copy.shape[0])\n",
    "\n",
    "    list_\n",
    "\n",
    "    grouped[column] = list_\n",
    "    grouped\n",
    "\n",
    "    dict_ = grouped.to_dict(orient='split')\n",
    "    dict_.keys()\n",
    "\n",
    "    dict_.pop('index')\n",
    "    dict_.pop('columns')\n",
    "    dict_\n",
    "\n",
    "    dict__ = {}\n",
    "\n",
    "    for line in dict_['data']:\n",
    "        #print(line[1], ' : ', line[0])\n",
    "        dict__[line[0]] = line[1]\n",
    "        i = i + 1\n",
    "    dict__\n",
    "    print(i)\n",
    "        \n",
    "    df_transform[column] = df_copy[column].replace(dict__)\n",
    "    print(df_copy[column].unique())\n",
    "    print(df_transform[column].unique())\n"
   ]
  },
  {
   "cell_type": "code",
   "execution_count": 43,
   "metadata": {},
   "outputs": [],
   "source": [
    "df_transform['ent'] = df_copy.ent"
   ]
  },
  {
   "cell_type": "code",
   "execution_count": 44,
   "metadata": {},
   "outputs": [],
   "source": [
    "df_transform['mun'] = df_copy.mun"
   ]
  },
  {
   "cell_type": "code",
   "execution_count": 45,
   "metadata": {},
   "outputs": [],
   "source": [
    "df_transform['loc'] = df_copy['loc']"
   ]
  },
  {
   "cell_type": "code",
   "execution_count": 46,
   "metadata": {},
   "outputs": [],
   "source": [
    "df_transform[numericos] = df_copy[numericos]"
   ]
  },
  {
   "cell_type": "code",
   "execution_count": 47,
   "metadata": {},
   "outputs": [
    {
     "data": {
      "text/plain": [
       "Index(['tam_loc', 'est_socio', 'clase_hog', 'sexo_jefe', 'educa_jefe', 'ent',\n",
       "       'mun', 'loc', 'edad_jefe', 'tot_integ',\n",
       "       ...\n",
       "       'cuota_viv', 'mater_serv', 'material', 'servicio', 'deposito',\n",
       "       'prest_terc', 'pago_tarje', 'deudas', 'balance', 'otras_erog'],\n",
       "      dtype='object', length=122)"
      ]
     },
     "execution_count": 47,
     "metadata": {},
     "output_type": "execute_result"
    }
   ],
   "source": [
    "df_transform.columns"
   ]
  },
  {
   "cell_type": "code",
   "execution_count": 48,
   "metadata": {},
   "outputs": [
    {
     "data": {
      "text/plain": [
       "(70311, 122)"
      ]
     },
     "execution_count": 48,
     "metadata": {},
     "output_type": "execute_result"
    }
   ],
   "source": [
    "df_transform.shape"
   ]
  },
  {
   "cell_type": "code",
   "execution_count": 51,
   "metadata": {},
   "outputs": [],
   "source": [
    "df_transform.drop(labels=['loc'], axis=1, inplace=True)"
   ]
  },
  {
   "cell_type": "code",
   "execution_count": 52,
   "metadata": {},
   "outputs": [],
   "source": [
    "file = \"../../dataframes/enigh/enigh_transf_2016.csv\""
   ]
  },
  {
   "cell_type": "code",
   "execution_count": 53,
   "metadata": {},
   "outputs": [],
   "source": [
    "df_transform.to_csv(path_or_buf=file)"
   ]
  },
  {
   "cell_type": "code",
   "execution_count": null,
   "metadata": {},
   "outputs": [],
   "source": []
  }
 ],
 "metadata": {
  "kernelspec": {
   "display_name": "Python 3",
   "language": "python",
   "name": "python3"
  },
  "language_info": {
   "codemirror_mode": {
    "name": "ipython",
    "version": 3
   },
   "file_extension": ".py",
   "mimetype": "text/x-python",
   "name": "python",
   "nbconvert_exporter": "python",
   "pygments_lexer": "ipython3",
   "version": "3.7.0"
  }
 },
 "nbformat": 4,
 "nbformat_minor": 2
}
